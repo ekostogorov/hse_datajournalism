{
 "cells": [
  {
   "cell_type": "markdown",
   "metadata": {},
   "source": [
    "# Лекция 6. Работа с файлами: чтение и запись. Обработка исключений\n",
    "\n",
    "Друзья, мы с вами прошли бОльшую часть базовой информации по программированию на Python: знаем про типы данных и переменные, умеем работать с разными структурами данных, строить простые и сложные условные конструкции, использовать циклы и писать функции с разным количеством аргументов. Нам еще предстоит узнать несколько важных штук, без которых программировать на Python было бы очень сложно, но уже с тем багажом знаний, которым вы располагаете, можно писать программы.\n",
    "\n",
    "Но давайте двигаться дальше – сегодня мы с вами поговорим про работу с файлами. Речь пойдет именно о чтении и записи файлов – исполнение файлов это отдельная тема, и она нас пока не сильно интересует. А еще в конце мы научимся формировать и обрабатывать ошибки. Погнали!\n",
    "\n",
    "## Чтение файлов\n",
    "\n",
    "Первая и самая главная операция с файлами – чтение. И Python это конечно же умеет делать. Но сначала маленькое отступление – файлы бывают разные, в целом их можно разделить на _текстовые_ и _бинарные_. Первые называют человекочитаемыми, мы можем посмотреть на них и прочитать информацию, которая в них записана. Вторые же – исплючительно машиночитаемые. Это файлы, которые записаны в специальной кодировке, которую умеют читать и понимать компьютеры.\n",
    "\n",
    "Мы с вами пока что будем работать только с _текстовыми_ файлами. К ним можно отнести, например, программу на Python, файл Word или Excel.\n",
    "\n",
    "Открыть файл можно с помощью встроенной функции `open()`."
   ]
  },
  {
   "cell_type": "code",
   "execution_count": 12,
   "metadata": {},
   "outputs": [],
   "source": [
    "f = open('06_text_file.txt')\n",
    "s = f.read()\n",
    "\n",
    "f.close()"
   ]
  },
  {
   "cell_type": "code",
   "execution_count": 13,
   "metadata": {},
   "outputs": [
    {
     "name": "stdout",
     "output_type": "stream",
     "text": [
      "Это текстовый файл, который мы откроем в шестой лекции.\n",
      "Он состоит из нескольких строк.\n",
      "Например, вот это уже третья строка.\n",
      "Это четвертая.\n",
      "Пятая.\n",
      "Шестая.\n",
      "И седьмая. Для начала, пожалуй, достаточно строк :)\n"
     ]
    }
   ],
   "source": [
    "print(s)"
   ]
  },
  {
   "cell_type": "markdown",
   "metadata": {},
   "source": [
    "Что же произошло? С помощью `open()` мы открыли файл с названием `06_text_file` и расширением `.txt`, который лежит в _текущей_ директории – то есть в той же папке, где находится и этот блокнот.\n",
    "\n",
    "Узнать, _в какой директории мы находимся сейчас можно вот так:_"
   ]
  },
  {
   "cell_type": "code",
   "execution_count": 14,
   "metadata": {},
   "outputs": [
    {
     "data": {
      "text/plain": [
       "'/home/instructor/programming_for_dj/lectures'"
      ]
     },
     "execution_count": 14,
     "metadata": {},
     "output_type": "execute_result"
    }
   ],
   "source": [
    "import os\n",
    "\n",
    "os.getcwd()"
   ]
  },
  {
   "cell_type": "markdown",
   "metadata": {},
   "source": [
    "Но давайте вернемся к нашему файлу – функция `open()` открыла нам файл и вернула объект типа `file`, который мы положили в переменную `f`. Дальше мы вызвали метод `read()` у этого объекта и положили результат в переменную `s`. В `s` у нас теперь лежит большая строка – все, что было записано в прочитанном нами файле в виде одной огромной строковой переменной."
   ]
  },
  {
   "cell_type": "code",
   "execution_count": 15,
   "metadata": {},
   "outputs": [
    {
     "data": {
      "text/plain": [
       "str"
      ]
     },
     "execution_count": 15,
     "metadata": {},
     "output_type": "execute_result"
    }
   ],
   "source": [
    "type(s)"
   ]
  },
  {
   "cell_type": "markdown",
   "metadata": {},
   "source": [
    "Действительно, строка!\n",
    "\n",
    "_Обратите внимание – в конце мы еще написали `f.close()`, чтобы закрыть прочитанный нами файл. Закрывать файоы правильно и хорошо по двум причинам:_\n",
    "\n",
    "1. Пока ваша программа держит файл открытым, его не могут открыть другие программы\n",
    "2. Пока ваша программа держит файл открытым, он находится в оперативной памяти. Если файл большой, это может плохо сказываться на скорости работы вашего компьютера.\n",
    "\n",
    "С помощью `read()` мы можем считать все содержимое файла в одну большущую строковую переменную. Но это не всегда удобно, особенно если файл большой. Поэтому существуют другие варианты. Например, можно считать все строки файла и получить их в виде списка с помощью метода `readlines()`."
   ]
  },
  {
   "cell_type": "code",
   "execution_count": 19,
   "metadata": {},
   "outputs": [],
   "source": [
    "f = open('06_text_file.txt')\n",
    "lines = f.readlines()\n",
    "\n",
    "f.close()"
   ]
  },
  {
   "cell_type": "code",
   "execution_count": 20,
   "metadata": {},
   "outputs": [
    {
     "name": "stdout",
     "output_type": "stream",
     "text": [
      "['Это текстовый файл, который мы откроем в шестой лекции.\\n', 'Он состоит из нескольких строк.\\n', 'Например, вот это уже третья строка.\\n', 'Это четвертая.\\n', 'Пятая.\\n', 'Шестая.\\n', 'И седьмая. Для начала, пожалуй, достаточно строк :)']\n"
     ]
    }
   ],
   "source": [
    "print(lines)"
   ]
  },
  {
   "cell_type": "markdown",
   "metadata": {},
   "source": [
    "Мы получили список строк. Обратите внимание, что в конце каждого элемента этого списка (строки) стоит знак `\\n`. Он означает перенос строки, и поскольку в файле было несколько строк, мы считали их именно так – вместе с переносами.\n",
    "\n",
    "Теперь можем пробежаться по полученному списку в цикле и посмотреть на каждую из строк:"
   ]
  },
  {
   "cell_type": "code",
   "execution_count": 21,
   "metadata": {},
   "outputs": [
    {
     "name": "stdout",
     "output_type": "stream",
     "text": [
      "Это текстовый файл, который мы откроем в шестой лекции.\n",
      "\n",
      "Он состоит из нескольких строк.\n",
      "\n",
      "Например, вот это уже третья строка.\n",
      "\n",
      "Это четвертая.\n",
      "\n",
      "Пятая.\n",
      "\n",
      "Шестая.\n",
      "\n",
      "И седьмая. Для начала, пожалуй, достаточно строк :)\n"
     ]
    }
   ],
   "source": [
    "for line in lines:\n",
    "    print(line)"
   ]
  },
  {
   "cell_type": "markdown",
   "metadata": {},
   "source": [
    "Но и этот способ подходит для относительно небольших файлов. Если же вам нужно считать реально большой объем информации, лучше итерироваться сразу по объекту файла.\n",
    "\n",
    "Этот способ позволяет не считывать весь файл сразу и формировать из него список, а читать отдельно по одной строке. Одна срочка файла весит гораздо меньше, чем весь файл целиком."
   ]
  },
  {
   "cell_type": "code",
   "execution_count": 28,
   "metadata": {},
   "outputs": [
    {
     "name": "stdout",
     "output_type": "stream",
     "text": [
      "Это текстовый файл, который мы откроем в шестой лекции.\n",
      "Он состоит из нескольких строк.\n",
      "Например, вот это уже третья строка.\n",
      "Это четвертая.\n",
      "Пятая.\n",
      "Шестая.\n",
      "И седьмая. Для начала, пожалуй, достаточно строк :)"
     ]
    }
   ],
   "source": [
    "f = open('06_text_file.txt')\n",
    "for line in f:\n",
    "    print(line, end='')\n",
    "\n",
    "f.close()"
   ]
  },
  {
   "cell_type": "markdown",
   "metadata": {},
   "source": [
    "Но есть нюансы. Если мы попробуем проитерироваться по открытому файлу второй раз, то не получим ничего. Смотрите сами"
   ]
  },
  {
   "cell_type": "code",
   "execution_count": 31,
   "metadata": {},
   "outputs": [
    {
     "name": "stdout",
     "output_type": "stream",
     "text": [
      "====Первый цикл====\n",
      "Это текстовый файл, который мы откроем в шестой лекции.\n",
      "Он состоит из нескольких строк.\n",
      "Например, вот это уже третья строка.\n",
      "Это четвертая.\n",
      "Пятая.\n",
      "Шестая.\n",
      "И седьмая. Для начала, пожалуй, достаточно строк :)\n",
      "====Второй цикл====\n"
     ]
    }
   ],
   "source": [
    "f = open('06_text_file.txt')\n",
    "print('====Первый цикл====')\n",
    "for line in f:\n",
    "    print(line, end='')\n",
    "    \n",
    "print('\\n====Второй цикл====')\n",
    "for line in f:\n",
    "    print(line, end='')\n",
    "\n",
    "f.close()"
   ]
  },
  {
   "cell_type": "markdown",
   "metadata": {},
   "source": [
    "Код для второго цикла написан, но ни одна строчка повторно не напечаталась. В чем же дело?\n",
    "\n",
    "На самом деле все просто – когда мы итерируемся по объекту файла, то каждый раз запоминаем позицию на которой находимся в файле и при следующей итерации сдвигаемся на одну позицию вперед. В самом начале позиция указывает на начало файла, а когда мы доходим до его конца – на конец. И обратно сама по себе она не сдвигается. \n",
    "\n",
    "То есть в тот момент, когда мы запускаем второй цикл, позиция уже указывает на конец файла, а значит, непрочитанных строк в нем больше нет. Поэтому во второй цикл наша программа не входит.\n",
    "\n",
    "_В этом отличие итерации по объекту файла от итерации по списку строк_.\n",
    "\n",
    "Но мы можем легко сдвинуть позицию обратно на начало файла вручную. Для этого нам понадобится метод `seek()`."
   ]
  },
  {
   "cell_type": "code",
   "execution_count": 32,
   "metadata": {},
   "outputs": [
    {
     "name": "stdout",
     "output_type": "stream",
     "text": [
      "====Первый цикл====\n",
      "Это текстовый файл, который мы откроем в шестой лекции.\n",
      "Он состоит из нескольких строк.\n",
      "Например, вот это уже третья строка.\n",
      "Это четвертая.\n",
      "Пятая.\n",
      "Шестая.\n",
      "И седьмая. Для начала, пожалуй, достаточно строк :)\n",
      "====Второй цикл====\n",
      "Это текстовый файл, который мы откроем в шестой лекции.\n",
      "Он состоит из нескольких строк.\n",
      "Например, вот это уже третья строка.\n",
      "Это четвертая.\n",
      "Пятая.\n",
      "Шестая.\n",
      "И седьмая. Для начала, пожалуй, достаточно строк :)"
     ]
    }
   ],
   "source": [
    "f = open('06_text_file.txt')\n",
    "print('====Первый цикл====')\n",
    "for line in f:\n",
    "    print(line, end='')\n",
    "\n",
    "f.seek(0)\n",
    "print('\\n====Второй цикл====')\n",
    "for line in f:\n",
    "    print(line, end='')\n",
    "\n",
    "f.close()"
   ]
  },
  {
   "cell_type": "markdown",
   "metadata": {},
   "source": [
    "### Маленькое отступление: немного про формат CSV\n",
    "\n",
    "Возможно, у вас сложилось впечателение, что чтение текстовых файлов – какая-то не очень понятная штука. Ну есть она, и есть. А зачем нам читать текстовые файлы?\n",
    "\n",
    "На самом же деле, чаще всего для решения практических задач вы будете пользоваться не обычными текстовыми файлами, а файлами в формате `.csv`. Это такой формат представления табличных данных в виде текста, где в качестве разделителя колонок используются запятые.\n",
    "\n",
    "Например, давайте считаем вот такой файл с информацией о количестве тропических циклонов по месяцам в период с 2005 по 2015 годы:"
   ]
  },
  {
   "cell_type": "code",
   "execution_count": 33,
   "metadata": {},
   "outputs": [],
   "source": [
    "f = open('hurricanes.csv')\n",
    "lines = f.readlines()\n",
    "\n",
    "f.close()"
   ]
  },
  {
   "cell_type": "code",
   "execution_count": 34,
   "metadata": {},
   "outputs": [
    {
     "data": {
      "text/plain": [
       "10"
      ]
     },
     "execution_count": 34,
     "metadata": {},
     "output_type": "execute_result"
    }
   ],
   "source": [
    "len(lines)"
   ]
  },
  {
   "cell_type": "code",
   "execution_count": 36,
   "metadata": {},
   "outputs": [
    {
     "name": "stdout",
     "output_type": "stream",
     "text": [
      "\"Month\", \"Average\", \"2005\", \"2006\", \"2007\", \"2008\", \"2009\", \"2010\", \"2011\", \"2012\", \"2013\", \"2014\", \"2015\"\n",
      "\n",
      "\"May\",  0.1,  0,  0, 1, 1, 0, 0, 0, 2, 0,  0,  0  \n",
      "\n",
      "\"Jun\",  0.5,  2,  1, 1, 0, 0, 1, 1, 2, 2,  0,  1\n",
      "\n",
      "\"Jul\",  0.7,  5,  1, 1, 2, 0, 1, 3, 0, 2,  2,  1\n",
      "\n",
      "\"Aug\",  2.3,  6,  3, 2, 4, 4, 4, 7, 8, 2,  2,  3\n",
      "\n",
      "\"Sep\",  3.5,  6,  4, 7, 4, 2, 8, 5, 2, 5,  2,  5\n",
      "\n",
      "\"Oct\",  2.0,  8,  0, 1, 3, 2, 5, 1, 5, 2,  3,  0\n",
      "\n",
      "\"Nov\",  0.5,  3,  0, 0, 1, 1, 0, 1, 0, 1,  0,  1\n",
      "\n",
      "\"Dec\",  0.0,  1,  0, 1, 0, 0, 0, 0, 0, 0,  0,  1\n",
      "\n",
      "\n",
      "\n"
     ]
    }
   ],
   "source": [
    "for line in lines:\n",
    "    print(line)"
   ]
  },
  {
   "cell_type": "markdown",
   "metadata": {},
   "source": [
    "Действительно, похоже на таблицу. Первая строка – заголовочная, в ней содержится описание колонок. Последующие строки – непосредственно данные – количество ураганов, зафиксированное по всему миру в каждый из месяцев по годам и среднее значение в каждый из месяцев за все эти годы.\n",
    "\n",
    "_Дальше будет небольшая магия, которой вы тоже обязательно научитесь. Пока просто предлагаю посмотреть, что в Python считывать данные в формате CSV и работать с ними дальше – очень удобно."
   ]
  },
  {
   "cell_type": "code",
   "execution_count": 40,
   "metadata": {},
   "outputs": [],
   "source": [
    "import pandas as pd\n",
    "\n",
    "f = open('hurricanes.csv')\n",
    "df = pd.read_csv(f)\n",
    "\n",
    "f.close()"
   ]
  },
  {
   "cell_type": "code",
   "execution_count": 41,
   "metadata": {},
   "outputs": [
    {
     "data": {
      "text/html": [
       "<div>\n",
       "<style scoped>\n",
       "    .dataframe tbody tr th:only-of-type {\n",
       "        vertical-align: middle;\n",
       "    }\n",
       "\n",
       "    .dataframe tbody tr th {\n",
       "        vertical-align: top;\n",
       "    }\n",
       "\n",
       "    .dataframe thead th {\n",
       "        text-align: right;\n",
       "    }\n",
       "</style>\n",
       "<table border=\"1\" class=\"dataframe\">\n",
       "  <thead>\n",
       "    <tr style=\"text-align: right;\">\n",
       "      <th></th>\n",
       "      <th>Month</th>\n",
       "      <th>\"Average\"</th>\n",
       "      <th>\"2005\"</th>\n",
       "      <th>\"2006\"</th>\n",
       "      <th>\"2007\"</th>\n",
       "      <th>\"2008\"</th>\n",
       "      <th>\"2009\"</th>\n",
       "      <th>\"2010\"</th>\n",
       "      <th>\"2011\"</th>\n",
       "      <th>\"2012\"</th>\n",
       "      <th>\"2013\"</th>\n",
       "      <th>\"2014\"</th>\n",
       "      <th>\"2015\"</th>\n",
       "    </tr>\n",
       "  </thead>\n",
       "  <tbody>\n",
       "    <tr>\n",
       "      <th>0</th>\n",
       "      <td>May</td>\n",
       "      <td>0.1</td>\n",
       "      <td>0</td>\n",
       "      <td>0</td>\n",
       "      <td>1</td>\n",
       "      <td>1</td>\n",
       "      <td>0</td>\n",
       "      <td>0</td>\n",
       "      <td>0</td>\n",
       "      <td>2</td>\n",
       "      <td>0</td>\n",
       "      <td>0</td>\n",
       "      <td>0</td>\n",
       "    </tr>\n",
       "    <tr>\n",
       "      <th>1</th>\n",
       "      <td>Jun</td>\n",
       "      <td>0.5</td>\n",
       "      <td>2</td>\n",
       "      <td>1</td>\n",
       "      <td>1</td>\n",
       "      <td>0</td>\n",
       "      <td>0</td>\n",
       "      <td>1</td>\n",
       "      <td>1</td>\n",
       "      <td>2</td>\n",
       "      <td>2</td>\n",
       "      <td>0</td>\n",
       "      <td>1</td>\n",
       "    </tr>\n",
       "    <tr>\n",
       "      <th>2</th>\n",
       "      <td>Jul</td>\n",
       "      <td>0.7</td>\n",
       "      <td>5</td>\n",
       "      <td>1</td>\n",
       "      <td>1</td>\n",
       "      <td>2</td>\n",
       "      <td>0</td>\n",
       "      <td>1</td>\n",
       "      <td>3</td>\n",
       "      <td>0</td>\n",
       "      <td>2</td>\n",
       "      <td>2</td>\n",
       "      <td>1</td>\n",
       "    </tr>\n",
       "    <tr>\n",
       "      <th>3</th>\n",
       "      <td>Aug</td>\n",
       "      <td>2.3</td>\n",
       "      <td>6</td>\n",
       "      <td>3</td>\n",
       "      <td>2</td>\n",
       "      <td>4</td>\n",
       "      <td>4</td>\n",
       "      <td>4</td>\n",
       "      <td>7</td>\n",
       "      <td>8</td>\n",
       "      <td>2</td>\n",
       "      <td>2</td>\n",
       "      <td>3</td>\n",
       "    </tr>\n",
       "    <tr>\n",
       "      <th>4</th>\n",
       "      <td>Sep</td>\n",
       "      <td>3.5</td>\n",
       "      <td>6</td>\n",
       "      <td>4</td>\n",
       "      <td>7</td>\n",
       "      <td>4</td>\n",
       "      <td>2</td>\n",
       "      <td>8</td>\n",
       "      <td>5</td>\n",
       "      <td>2</td>\n",
       "      <td>5</td>\n",
       "      <td>2</td>\n",
       "      <td>5</td>\n",
       "    </tr>\n",
       "    <tr>\n",
       "      <th>5</th>\n",
       "      <td>Oct</td>\n",
       "      <td>2.0</td>\n",
       "      <td>8</td>\n",
       "      <td>0</td>\n",
       "      <td>1</td>\n",
       "      <td>3</td>\n",
       "      <td>2</td>\n",
       "      <td>5</td>\n",
       "      <td>1</td>\n",
       "      <td>5</td>\n",
       "      <td>2</td>\n",
       "      <td>3</td>\n",
       "      <td>0</td>\n",
       "    </tr>\n",
       "    <tr>\n",
       "      <th>6</th>\n",
       "      <td>Nov</td>\n",
       "      <td>0.5</td>\n",
       "      <td>3</td>\n",
       "      <td>0</td>\n",
       "      <td>0</td>\n",
       "      <td>1</td>\n",
       "      <td>1</td>\n",
       "      <td>0</td>\n",
       "      <td>1</td>\n",
       "      <td>0</td>\n",
       "      <td>1</td>\n",
       "      <td>0</td>\n",
       "      <td>1</td>\n",
       "    </tr>\n",
       "    <tr>\n",
       "      <th>7</th>\n",
       "      <td>Dec</td>\n",
       "      <td>0.0</td>\n",
       "      <td>1</td>\n",
       "      <td>0</td>\n",
       "      <td>1</td>\n",
       "      <td>0</td>\n",
       "      <td>0</td>\n",
       "      <td>0</td>\n",
       "      <td>0</td>\n",
       "      <td>0</td>\n",
       "      <td>0</td>\n",
       "      <td>0</td>\n",
       "      <td>1</td>\n",
       "    </tr>\n",
       "  </tbody>\n",
       "</table>\n",
       "</div>"
      ],
      "text/plain": [
       "  Month   \"Average\"   \"2005\"   \"2006\"   \"2007\"   \"2008\"   \"2009\"   \"2010\"  \\\n",
       "0   May         0.1        0        0        1        1        0        0   \n",
       "1   Jun         0.5        2        1        1        0        0        1   \n",
       "2   Jul         0.7        5        1        1        2        0        1   \n",
       "3   Aug         2.3        6        3        2        4        4        4   \n",
       "4   Sep         3.5        6        4        7        4        2        8   \n",
       "5   Oct         2.0        8        0        1        3        2        5   \n",
       "6   Nov         0.5        3        0        0        1        1        0   \n",
       "7   Dec         0.0        1        0        1        0        0        0   \n",
       "\n",
       "    \"2011\"   \"2012\"   \"2013\"   \"2014\"   \"2015\"  \n",
       "0        0        2        0        0        0  \n",
       "1        1        2        2        0        1  \n",
       "2        3        0        2        2        1  \n",
       "3        7        8        2        2        3  \n",
       "4        5        2        5        2        5  \n",
       "5        1        5        2        3        0  \n",
       "6        1        0        1        0        1  \n",
       "7        0        0        0        0        1  "
      ]
     },
     "execution_count": 41,
     "metadata": {},
     "output_type": "execute_result"
    }
   ],
   "source": [
    "df"
   ]
  },
  {
   "cell_type": "code",
   "execution_count": 62,
   "metadata": {},
   "outputs": [
    {
     "data": {
      "text/plain": [
       "<AxesSubplot:>"
      ]
     },
     "execution_count": 62,
     "metadata": {},
     "output_type": "execute_result"
    },
    {
     "data": {
      "image/png": "[encoded data removed]",
      "text/plain": [
       "<Figure size 432x288 with 1 Axes>"
      ]
     },
     "metadata": {
      "needs_background": "light"
     },
     "output_type": "display_data"
    }
   ],
   "source": [
    "%matplotlib inline\n",
    "df[' \"Average\"'].plot.bar()"
   ]
  },
  {
   "cell_type": "markdown",
   "metadata": {},
   "source": [
    "В общем, чтение файлов – классный инструмент, который вы _точно_ не раз будете использовать :)\n",
    "\n",
    "## Запись файлов\n",
    "\n",
    "А теперь возвращаемся обратно. Файлы можно не только читать, но и записывать.\n",
    "\n",
    "Чтобы _открыть файл на запись_, нужно передать в функцию `open()` передать второй аргумент – режим, в котором мы будем открывать файл. Вообще, таких режимов есть несколько, нас в данном случае интересуют два режиме – `r` - режим чтения (read) и `w` – режим записи (write).\n",
    "\n",
    "_Режим чтения является режимом по умолчанию, то есть если вы не передаете режим при открытии файла, он откроется в режиме чтения_.\n",
    "\n",
    "Давайте запишем какую-нибудь строчку в файл. Например, строчку `'I love Python!'`."
   ]
  },
  {
   "cell_type": "code",
   "execution_count": 63,
   "metadata": {},
   "outputs": [],
   "source": [
    "f = open('python.txt', 'w')\n",
    "f.write('I love Python!\\n')\n",
    "f.close()"
   ]
  },
  {
   "cell_type": "markdown",
   "metadata": {},
   "source": [
    "Интересно, а прочитать сможем?"
   ]
  },
  {
   "cell_type": "code",
   "execution_count": 64,
   "metadata": {},
   "outputs": [
    {
     "name": "stdout",
     "output_type": "stream",
     "text": [
      "I love Python!\n",
      "\n"
     ]
    }
   ],
   "source": [
    "f = open('python.txt')\n",
    "print(f.read())\n",
    "\n",
    "f.close()"
   ]
  },
  {
   "cell_type": "markdown",
   "metadata": {},
   "source": [
    "_Обратите внимание! В режиме `w` файл открывается именно на новую запись. То есть если у вас уже был файл с таким названием, то он будет удален и перезаписан. Никаких предупреждений вы при этом не получите, так что будьте аккуратны_."
   ]
  },
  {
   "cell_type": "code",
   "execution_count": 65,
   "metadata": {},
   "outputs": [
    {
     "name": "stdout",
     "output_type": "stream",
     "text": [
      "I love С++!\n",
      "\n"
     ]
    }
   ],
   "source": [
    "f = open('python.txt', 'w')\n",
    "f.write('I love С++!\\n')\n",
    "f.close()\n",
    "\n",
    "f = open('python.txt')\n",
    "print(f.read())\n",
    "\n",
    "f.close()"
   ]
  },
  {
   "cell_type": "markdown",
   "metadata": {},
   "source": [
    "Файл был перезаписан!\n",
    "\n",
    "Но есть и еще один режим – `a`. Он позволяет _дописывать строку в конец файла, если он уже существует, или создавать новый файл, если файла с таким названием еще нет_."
   ]
  },
  {
   "cell_type": "code",
   "execution_count": 66,
   "metadata": {},
   "outputs": [
    {
     "name": "stdout",
     "output_type": "stream",
     "text": [
      "I love С++!\n",
      "I still love Python!\n",
      "\n"
     ]
    }
   ],
   "source": [
    "f = open('python.txt', 'a')\n",
    "f.write('I still love Python!\\n')\n",
    "f.close()\n",
    "\n",
    "f = open('python.txt')\n",
    "print(f.read())\n",
    "\n",
    "f.close()"
   ]
  },
  {
   "cell_type": "code",
   "execution_count": 67,
   "metadata": {},
   "outputs": [
    {
     "name": "stdout",
     "output_type": "stream",
     "text": [
      "I love Golang!\n",
      "\n"
     ]
    }
   ],
   "source": [
    "f = open('golang.txt', 'a')\n",
    "f.write('I love Golang!\\n')\n",
    "f.close()\n",
    "\n",
    "f = open('golang.txt')\n",
    "print(f.read())\n",
    "\n",
    "f.close()"
   ]
  },
  {
   "cell_type": "markdown",
   "metadata": {},
   "source": [
    "## Конструкция with...as\n",
    "\n",
    "Я уже рассказал вам, почему открытые файлы нужно обязательно закрывать. Если вы используете просто функцию `open()`, то делать это нужно вручную, каждый раз добавляя `f.close()`. Но в Python есть более удобный способ это сделать – конструкция `with...as`. Давайте разберемся, как она работает."
   ]
  },
  {
   "cell_type": "code",
   "execution_count": 70,
   "metadata": {},
   "outputs": [
    {
     "name": "stdout",
     "output_type": "stream",
     "text": [
      "Внутри конструкции with мы можем считать файл\n",
      "I love Golang!\n",
      "\n",
      "А вне этой конструкции уже нет - файл закрыт\n"
     ]
    },
    {
     "ename": "ValueError",
     "evalue": "I/O operation on closed file.",
     "output_type": "error",
     "traceback": [
      "\u001b[0;31m---------------------------------------------------------------------------\u001b[0m",
      "\u001b[0;31mValueError\u001b[0m                                Traceback (most recent call last)",
      "\u001b[0;32m<ipython-input-70-3faf282e5915>\u001b[0m in \u001b[0;36m<module>\u001b[0;34m\u001b[0m\n\u001b[1;32m      4\u001b[0m \u001b[0;34m\u001b[0m\u001b[0m\n\u001b[1;32m      5\u001b[0m \u001b[0mprint\u001b[0m\u001b[0;34m(\u001b[0m\u001b[0;34m'А вне этой конструкции уже нет - файл закрыт'\u001b[0m\u001b[0;34m)\u001b[0m\u001b[0;34m\u001b[0m\u001b[0;34m\u001b[0m\u001b[0m\n\u001b[0;32m----> 6\u001b[0;31m \u001b[0mprint\u001b[0m\u001b[0;34m(\u001b[0m\u001b[0mf\u001b[0m\u001b[0;34m.\u001b[0m\u001b[0mread\u001b[0m\u001b[0;34m(\u001b[0m\u001b[0;34m)\u001b[0m\u001b[0;34m)\u001b[0m\u001b[0;34m\u001b[0m\u001b[0;34m\u001b[0m\u001b[0m\n\u001b[0m",
      "\u001b[0;31mValueError\u001b[0m: I/O operation on closed file."
     ]
    }
   ],
   "source": [
    "with open('golang.txt') as f:\n",
    "    print('Внутри конструкции with мы можем считать файл')\n",
    "    print(f.read())\n",
    "    \n",
    "print('А вне этой конструкции уже нет - файл закрыт')\n",
    "print(f.read())"
   ]
  },
  {
   "cell_type": "markdown",
   "metadata": {},
   "source": [
    "Буквально конструкция `with A as B` звучит как `используя А как переменную B` – дальше двоетичое и блок с инструкцией, что с этим всем надо сделать.\n",
    "\n",
    "Такая конструкция _гарантирует нам, что открытый файл будет закрыт_. И не надо руками писать `f.close()`. Пример выше это отлично демонстрирует – внутри конструкции `with` файл открыт, и мы можем прочитать его. А за ее пределами при чтении мы получаем ошибку `I/O operation on closed file`, что говорит нам о том, что мы пытаемся прочитать закрытый файл."
   ]
  },
  {
   "cell_type": "markdown",
   "metadata": {},
   "source": [
    "## Исключения и их обработка\n",
    "\n",
    "Любой, абсолютно любой код может отработать с ошибкой. К этому может приводить неправильная логика программы, аргументы не того типа да и еще множество всего. Самое главное, что эти ошибки мы можем отлавливать и обрабатывать. Для сигнализирования программисту об ошибках в Python существует специальный тип – исключение или `Exception`.\n",
    "\n",
    "Все мы с вами еще со школьных времен знаем, что делить на ноль нельзя. Но что будет, если все-таки взять и поделить? Возможно, если бы в Python не было исключений, на месте вашего компьюьтера образовалась бы черная дыра, в которую засосало бы всю Землю. Но нет :)"
   ]
  },
  {
   "cell_type": "code",
   "execution_count": 71,
   "metadata": {},
   "outputs": [
    {
     "ename": "ZeroDivisionError",
     "evalue": "division by zero",
     "output_type": "error",
     "traceback": [
      "\u001b[0;31m---------------------------------------------------------------------------\u001b[0m",
      "\u001b[0;31mZeroDivisionError\u001b[0m                         Traceback (most recent call last)",
      "\u001b[0;32m<ipython-input-71-bc757c3fda29>\u001b[0m in \u001b[0;36m<module>\u001b[0;34m\u001b[0m\n\u001b[0;32m----> 1\u001b[0;31m \u001b[0;36m1\u001b[0m \u001b[0;34m/\u001b[0m \u001b[0;36m0\u001b[0m\u001b[0;34m\u001b[0m\u001b[0;34m\u001b[0m\u001b[0m\n\u001b[0m",
      "\u001b[0;31mZeroDivisionError\u001b[0m: division by zero"
     ]
    }
   ],
   "source": [
    "1 / 0"
   ]
  },
  {
   "cell_type": "markdown",
   "metadata": {},
   "source": [
    "О чем говорит нам это сообщение из цветных букв? Оно состоит из нескольких строк с информацией о произошедшей ошибке. Например, показана строка кода, где эта ошибка произошла. Если бы эта ошибка была вызвана неправильной работой функции, то мы бы увидели и ее название, но самое главное для нас – последняя строчка. Именно там содержится название ошибки: `ZeroDivisionError` и краткое описание произошедшего – `division by zero`. Оказывается делить на ноль все-таки нельзя :)\n",
    "\n",
    "На самом деле, исключений существует довольно много и перечислять их все мы, конечно же, не будем. Но некоторые все же посмотрим. Например, вот тут Python ругается, что нельзя сложить строку с числом, показывая исключение `TypeError`:"
   ]
  },
  {
   "cell_type": "code",
   "execution_count": 72,
   "metadata": {},
   "outputs": [
    {
     "ename": "TypeError",
     "evalue": "can only concatenate str (not \"int\") to str",
     "output_type": "error",
     "traceback": [
      "\u001b[0;31m---------------------------------------------------------------------------\u001b[0m",
      "\u001b[0;31mTypeError\u001b[0m                                 Traceback (most recent call last)",
      "\u001b[0;32m<ipython-input-72-076d4fba1eac>\u001b[0m in \u001b[0;36m<module>\u001b[0;34m\u001b[0m\n\u001b[0;32m----> 1\u001b[0;31m \u001b[0;34m'a'\u001b[0m \u001b[0;34m+\u001b[0m \u001b[0;36m1\u001b[0m\u001b[0;34m\u001b[0m\u001b[0;34m\u001b[0m\u001b[0m\n\u001b[0m",
      "\u001b[0;31mTypeError\u001b[0m: can only concatenate str (not \"int\") to str"
     ]
    }
   ],
   "source": [
    "'a' + 1"
   ]
  },
  {
   "cell_type": "markdown",
   "metadata": {},
   "source": [
    "А вот тут говорит, что строку `abc` нельзя преобразовать с число:"
   ]
  },
  {
   "cell_type": "code",
   "execution_count": 73,
   "metadata": {},
   "outputs": [
    {
     "ename": "ValueError",
     "evalue": "invalid literal for int() with base 10: 'abc'",
     "output_type": "error",
     "traceback": [
      "\u001b[0;31m---------------------------------------------------------------------------\u001b[0m",
      "\u001b[0;31mValueError\u001b[0m                                Traceback (most recent call last)",
      "\u001b[0;32m<ipython-input-73-1e11daa61250>\u001b[0m in \u001b[0;36m<module>\u001b[0;34m\u001b[0m\n\u001b[0;32m----> 1\u001b[0;31m \u001b[0mint\u001b[0m\u001b[0;34m(\u001b[0m\u001b[0;34m'abc'\u001b[0m\u001b[0;34m)\u001b[0m\u001b[0;34m\u001b[0m\u001b[0;34m\u001b[0m\u001b[0m\n\u001b[0m",
      "\u001b[0;31mValueError\u001b[0m: invalid literal for int() with base 10: 'abc'"
     ]
    }
   ],
   "source": [
    "int('abc')"
   ]
  },
  {
   "cell_type": "markdown",
   "metadata": {},
   "source": [
    "Когда программа ловит исключение, ее выполнение прекращается. Это замечательно, но ведь существуют ситуации, когда мы бы хотели просто обработать исключение, например, выведя на экран сообщение об ошибке и продолжить выполнение программы. И такая возможность у нас есть :)\n",
    "\n",
    "Для этого существует конструкция `try...except`."
   ]
  },
  {
   "cell_type": "code",
   "execution_count": 74,
   "metadata": {},
   "outputs": [
    {
     "name": "stdout",
     "output_type": "stream",
     "text": [
      "Поделили на ноль :(\n"
     ]
    }
   ],
   "source": [
    "try:\n",
    "    1 / 0\n",
    "except ZeroDivisionError:\n",
    "    print('Поделили на ноль :(')"
   ]
  },
  {
   "cell_type": "markdown",
   "metadata": {},
   "source": [
    "Эта конструкция позволяет нам отлавливать определенные ошибки и определять поведение программы при их возникновении. Например, в коде выше мы сказали, что в случае возникновения ошибки деления на ноль, хотим вывести на экран грустное сообщение `Поделили на ноль :(`.\n",
    "\n",
    "В общем виде конструкция `try...except` выглядит следующим образом:\n",
    "\n",
    "```\n",
    "try:\n",
    "    блок кода, который надо выполнить\n",
    "catch Тип ошибка\n",
    "    блок кода, который надо выполнить, если произошла ошибка с заданным типом\n",
    "```\n",
    "\n",
    "...или если совсем просто: `попробуй сделать вот это, но если получишь такую ошибку, то сделай вот это`.\n",
    "\n",
    "Например, у нас может быть функция, которая делит одно число на другое. В такой функции мы хотим обрабатывать деление на ноль и возвращаеть делимое в этом случае."
   ]
  },
  {
   "cell_type": "code",
   "execution_count": 78,
   "metadata": {},
   "outputs": [
    {
     "data": {
      "text/plain": [
       "2"
      ]
     },
     "execution_count": 78,
     "metadata": {},
     "output_type": "execute_result"
    }
   ],
   "source": [
    "def divide(a, b):\n",
    "    try:\n",
    "        return a / b\n",
    "    except ZeroDivisionError:\n",
    "        return a\n",
    "\n",
    "divide(2, 0)"
   ]
  },
  {
   "cell_type": "markdown",
   "metadata": {},
   "source": [
    "Мы можем написать несколько инструкций для обработки для разных типов ошибок. Например, в нашу функцию еще могут передать вообще не число. Такие ситуации нам бы тоже хорошо предусмотреть."
   ]
  },
  {
   "cell_type": "code",
   "execution_count": 79,
   "metadata": {},
   "outputs": [
    {
     "data": {
      "text/plain": [
       "0"
      ]
     },
     "execution_count": 79,
     "metadata": {},
     "output_type": "execute_result"
    }
   ],
   "source": [
    "def divide(a, b):\n",
    "    try:\n",
    "        return a / b\n",
    "    except ZeroDivisionError:\n",
    "        return a\n",
    "    except TypeError:\n",
    "        return 0\n",
    "\n",
    "divide('a', 2)"
   ]
  },
  {
   "cell_type": "markdown",
   "metadata": {},
   "source": [
    "А еще мы можем отлавливать вообще все ошибки"
   ]
  },
  {
   "cell_type": "code",
   "execution_count": 80,
   "metadata": {},
   "outputs": [
    {
     "data": {
      "text/plain": [
       "'error'"
      ]
     },
     "execution_count": 80,
     "metadata": {},
     "output_type": "execute_result"
    }
   ],
   "source": [
    "def divide(a, b):\n",
    "    try:\n",
    "        return a / b\n",
    "    except:\n",
    "        return 'error'\n",
    "\n",
    "divide('a', 2)"
   ]
  },
  {
   "cell_type": "markdown",
   "metadata": {},
   "source": [
    "_Хм. А что если нам нужно самим сформировать какую-то ошибку?_\n",
    "\n",
    "Да, действительно, в вашей программе может быть место, в котором вы бы хотели \"выбросить\" исключение. И это в Python можно сделать с помощью выражения `raise Exception`. Давайте еще модифицируем нашу функцию – вообще-то мы и сами можем проверить, что один из входных аргументов не число и сами поднять исключение. Давайте так и сделаем."
   ]
  },
  {
   "cell_type": "code",
   "execution_count": 87,
   "metadata": {},
   "outputs": [
    {
     "data": {
      "text/plain": [
       "5.0"
      ]
     },
     "execution_count": 87,
     "metadata": {},
     "output_type": "execute_result"
    }
   ],
   "source": [
    "def divide(a, b):\n",
    "    if type(a) != int and type(a) != float or type(b) != int and type(b) != float:\n",
    "            raise Exception('wrong value')\n",
    "\n",
    "    try:\n",
    "        return a / b\n",
    "    except:\n",
    "        return 'error'"
   ]
  },
  {
   "cell_type": "code",
   "execution_count": 88,
   "metadata": {},
   "outputs": [
    {
     "data": {
      "text/plain": [
       "5.0"
      ]
     },
     "execution_count": 88,
     "metadata": {},
     "output_type": "execute_result"
    }
   ],
   "source": [
    "divide(10, 2)"
   ]
  },
  {
   "cell_type": "code",
   "execution_count": 89,
   "metadata": {},
   "outputs": [
    {
     "ename": "Exception",
     "evalue": "wrong value",
     "output_type": "error",
     "traceback": [
      "\u001b[0;31m---------------------------------------------------------------------------\u001b[0m",
      "\u001b[0;31mException\u001b[0m                                 Traceback (most recent call last)",
      "\u001b[0;32m<ipython-input-89-324d9fa22da2>\u001b[0m in \u001b[0;36m<module>\u001b[0;34m\u001b[0m\n\u001b[0;32m----> 1\u001b[0;31m \u001b[0mdivide\u001b[0m\u001b[0;34m(\u001b[0m\u001b[0;34m'a'\u001b[0m\u001b[0;34m,\u001b[0m \u001b[0;36m2\u001b[0m\u001b[0;34m)\u001b[0m\u001b[0;34m\u001b[0m\u001b[0;34m\u001b[0m\u001b[0m\n\u001b[0m",
      "\u001b[0;32m<ipython-input-87-5f97dae7aa5a>\u001b[0m in \u001b[0;36mdivide\u001b[0;34m(a, b)\u001b[0m\n\u001b[1;32m      1\u001b[0m \u001b[0;32mdef\u001b[0m \u001b[0mdivide\u001b[0m\u001b[0;34m(\u001b[0m\u001b[0ma\u001b[0m\u001b[0;34m,\u001b[0m \u001b[0mb\u001b[0m\u001b[0;34m)\u001b[0m\u001b[0;34m:\u001b[0m\u001b[0;34m\u001b[0m\u001b[0;34m\u001b[0m\u001b[0m\n\u001b[1;32m      2\u001b[0m     \u001b[0;32mif\u001b[0m \u001b[0mtype\u001b[0m\u001b[0;34m(\u001b[0m\u001b[0ma\u001b[0m\u001b[0;34m)\u001b[0m \u001b[0;34m!=\u001b[0m \u001b[0mint\u001b[0m \u001b[0;32mand\u001b[0m \u001b[0mtype\u001b[0m\u001b[0;34m(\u001b[0m\u001b[0ma\u001b[0m\u001b[0;34m)\u001b[0m \u001b[0;34m!=\u001b[0m \u001b[0mfloat\u001b[0m \u001b[0;32mor\u001b[0m \u001b[0mtype\u001b[0m\u001b[0;34m(\u001b[0m\u001b[0mb\u001b[0m\u001b[0;34m)\u001b[0m \u001b[0;34m!=\u001b[0m \u001b[0mint\u001b[0m \u001b[0;32mand\u001b[0m \u001b[0mtype\u001b[0m\u001b[0;34m(\u001b[0m\u001b[0mb\u001b[0m\u001b[0;34m)\u001b[0m \u001b[0;34m!=\u001b[0m \u001b[0mfloat\u001b[0m\u001b[0;34m:\u001b[0m\u001b[0;34m\u001b[0m\u001b[0;34m\u001b[0m\u001b[0m\n\u001b[0;32m----> 3\u001b[0;31m             \u001b[0;32mraise\u001b[0m \u001b[0mException\u001b[0m\u001b[0;34m(\u001b[0m\u001b[0;34m'wrong value'\u001b[0m\u001b[0;34m)\u001b[0m\u001b[0;34m\u001b[0m\u001b[0;34m\u001b[0m\u001b[0m\n\u001b[0m\u001b[1;32m      4\u001b[0m \u001b[0;34m\u001b[0m\u001b[0m\n\u001b[1;32m      5\u001b[0m     \u001b[0;32mtry\u001b[0m\u001b[0;34m:\u001b[0m\u001b[0;34m\u001b[0m\u001b[0;34m\u001b[0m\u001b[0m\n",
      "\u001b[0;31mException\u001b[0m: wrong value"
     ]
    }
   ],
   "source": [
    "divide('a', 2)"
   ]
  }
 ],
 "metadata": {
  "kernelspec": {
   "display_name": "Python 3",
   "language": "python",
   "name": "python3"
  },
  "language_info": {
   "codemirror_mode": {
    "name": "ipython",
    "version": 3
   },
   "file_extension": ".py",
   "mimetype": "text/x-python",
   "name": "python",
   "nbconvert_exporter": "python",
   "pygments_lexer": "ipython3",
   "version": "3.8.2"
  }
 },
 "nbformat": 4,
 "nbformat_minor": 4
}
