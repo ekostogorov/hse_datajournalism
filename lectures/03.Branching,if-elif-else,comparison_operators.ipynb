{
 "cells": [
  {
   "cell_type": "markdown",
   "metadata": {},
   "source": [
    "# Тема 3. Поток выполнения: условные операторы\n",
    "\n",
    "Все программы, которые мы с вами писали ранее, имели линейную структуру. Строки в нашем коде шли одна за другой и выполнялись последовательно и обязательно _все_ (если, конечно, в написанном коде не было ошибок). Даже если данные, которые мы передадим в эту программу, будут отличаться, она все равно _всегда_ будет выполняться в одном порядке. Это очень простые программы, и несмотря на то, что они помогают решить нам часть задач, чтобы сделать какие-то действительно важные операции, нам не обойтись без команд для управления потоком выполнения.\n",
    "\n",
    "_Что еще за поток выполнения?_ Все просто: когда компьютер считывает нашу программу, он начинает выполнять ее строка за строкой. Порядок выполнения этих строк (стейтментов) и есть порядок или поток выполнения программы.\n",
    "\n",
    "Конечно же, потоком выполнения можно управлять, и первая конструкция, которая позволяет это делать – условные операторы или ветвления. Или если без заумных слов – выражения `if-elif-else`. Или если еще проще – ифчики :)\n",
    "\n",
    "## Синтаксис условной конструкции\n",
    "\n",
    "Давайте представим, что нам нужно написать программу, которая запрашивает у пользователя число `X` и выводит его модуль – абсолютное значение. Например, если `x > 0`, программа должна напечатать `x`, а если `x < 0`, то `-x`. С помощью условных операторов сделать это очень легко!"
   ]
  },
  {
   "cell_type": "code",
   "execution_count": 3,
   "metadata": {},
   "outputs": [
    {
     "name": "stdout",
     "output_type": "stream",
     "text": [
      "Enter your number: -1\n",
      "1\n"
     ]
    }
   ],
   "source": [
    "x = int(input('Enter your number: '))\n",
    "\n",
    "if x > 0:\n",
    "    print(x)\n",
    "else:\n",
    "    print(-x)"
   ]
  },
  {
   "cell_type": "markdown",
   "metadata": {},
   "source": [
    "Python прекрасен тем, что код на нем выглядит очень просто и лаконично. Давайте разберемся, что тут происходит:\n",
    "\n",
    "1. На первой строке мы запрашиваем у пользователя число, мы уже знаем, как это делать, так что идем дальше\n",
    "2. Вторая строка пустая :)\n",
    "3. На третьей строке с помощью ключевого слова `if` мы задаем условие, которое будет проверять наша программа, – _'если `x` больше нуля'_. Строка заканчивается двоеточием, так в Python отделяются логические блоки.\n",
    "4. На четвертой строка идет код, который выполнится в том случае, если условие верно – мы вызываем функцию `print()` и просим ее напечатать переданное пользователем число.\n",
    "5. На пятой строке у нас ключевое слово `else` (иначе) и опять же двоеточие.\n",
    "6. И наконец на шестой строчке блок инструкций, который выполнится, если условие на строке 3 НЕверно. А именно, `print(-x)`.\n",
    "\n",
    "Итак, конструкция условного выражения в Python выглядит примерно так:\n",
    "\n",
    "```\n",
    "if условие:\n",
    "    инструкции, что делать, если условие верно\n",
    "else:\n",
    "    инструкции, что делать если условие НЕверно\n",
    "```\n",
    "\n",
    "\n",
    "_Обратите внимание на отступы, с которых начинаются строки с блоками инструкций – так в Python выделяются логические блоки кода. Важно, чтобы у строк в этих блоках были одинаковые отспупы. Как правило, это 4 пробела или одна табуляция. Вы можете использовать или пробелы, или табуляцию, но знайте – выбор между пробелами и Tab может вызвать у кого-то ярый приступ – это давний программерский холивар. Наверное он неразрешимый, хотя некоторые даже пытаются находить корреляции между стилем отступов и доходом – https://habr.com/ru/post/331026/#:~:text=%D0%9F%D1%80%D0%BE%D0%B1%D0%B5%D0%BB%D1%8B%20%D0%BF%D1%80%D0%B8%D0%BD%D0%BE%D1%81%D1%8F%D1%82%20%D0%B1%D0%BE%D0%BB%D1%8C%D1%88%D0%B5%20%D0%B4%D0%B5%D0%BD%D0%B5%D0%B3%20%D1%87%D0%B5%D0%BC,5%25%20%D0%B8%D1%81%D0%BF%D0%BE%D0%BB%D1%8C%D0%B7%D1%83%D1%8E%D1%82%20%D0%BE%D0%B1%D0%B0%20%D0%BC%D0%B5%D1%82%D0%BE%D0%B4%D0%B0)._\n",
    "\n",
    "\n",
    "Когда мы пишем `if`, то создаем отдельную ветку дерева нашей программы, которая может выполниться, а может и нет, в зависимости от данных, которые попадут в условие. Пример, который мы рассмотрели выше, называют полным ветвлением, но бывают и более короткие записи – неполные ветвления. Например, в условном блоке может отсутстовать инструкция для `else` Они, кстати, в коде встречаются чаще.\n",
    "\n",
    "Наш код для определения модуля числа можно переписать так:"
   ]
  },
  {
   "cell_type": "code",
   "execution_count": 6,
   "metadata": {},
   "outputs": [
    {
     "name": "stdout",
     "output_type": "stream",
     "text": [
      "Enter your number: -1\n",
      "1\n"
     ]
    }
   ],
   "source": [
    "x = int(input('Enter your number: '))\n",
    "\n",
    "if x < 0:\n",
    "    x = -x\n",
    "\n",
    "print(x)"
   ]
  },
  {
   "cell_type": "markdown",
   "metadata": {},
   "source": [
    "Здесь мы проверяем условие `x < 0`, и если оно верно присваиваем переменной x ее отрицательное значение. Работает так же, а кода меньше :)\n",
    "\n",
    "_Обратите внимание, что вызов функции `print()` во втором варианте происходит всегда._\n",
    "\n",
    "## Каскадные условные конструкции\n",
    "\n",
    "Написанный нами пример выше хорошо демонстрирует, условную конструкцию, которая умеет переключать выполнение программы при _бинаном_ условии. То есть таком, которое может принимать только значение истины и лжи – True или False. Но что если у нас может быть больше двух вариантов? Например, нам нужно написать программу, которая принимает от пользователя имя студента и говорит, в какой группе он учится.\n",
    "\n",
    "_А ведь он может вообще ни в какой группе не учиться._"
   ]
  },
  {
   "cell_type": "code",
   "execution_count": 8,
   "metadata": {},
   "outputs": [
    {
     "name": "stdout",
     "output_type": "stream",
     "text": [
      "Enter student name: Alice\n",
      "Alice  studies in group 1.\n"
     ]
    }
   ],
   "source": [
    "group_1 = ['Bob', 'Alice', 'Kate']\n",
    "group_2 = ['John', 'Liza', 'Ann']\n",
    "group_3 = ['Jack', 'Emilia', 'Stan']\n",
    "\n",
    "student_name = input('Enter student name: ')\n",
    "\n",
    "if student_name in group_1:\n",
    "    print(student_name, ' studies in group 1.')\n",
    "elif student_name in group_2:\n",
    "    print(student_name, ' studies in group 2.')\n",
    "elif student_name in group_3:\n",
    "    print(student_name, ' studies in group 3.')\n",
    "else:\n",
    "    print(\"I don't know this student.\")"
   ]
  },
  {
   "cell_type": "markdown",
   "metadata": {},
   "source": [
    "Тут у нас есть три списка студентов по группам. Пользователь вводит имя студента и мы последовательно проверяем, в какой из групп он учится с помощью ключевого слова `elif`. А если не находит его ни в одной из групп, выполняем блок условий после оператора `else`.\n",
    "\n",
    "То есть, мы можем дополнить нашу схему условной конструкции в Python до следующего вида:\n",
    "\n",
    "```\n",
    "if условие 1:\n",
    "    инструкции, что делать, если условие 1 верно\n",
    "elif условие 2:\n",
    "    инструкция, что делать, если условие 2 верно\n",
    "else:\n",
    "    инструкции, что делать если ни одно из условий НЕверно\n",
    "```    "
   ]
  },
  {
   "cell_type": "markdown",
   "metadata": {},
   "source": [
    "## Вложенность условных конструкций, логические операторы, цепочки условий\n",
    "\n",
    "Мы с вами уже увидели, что код, который содержит инструкции, которые выполняются, если условие верно, логически выделяется в отдельный блок и специально обособляется отступом. На самом деле так в Python выделяются все логические блоки. А их может быть сколько угодно. Например, вы можете вложить одно условие в другое.\n",
    "\n",
    "Давайте напишем программу, которая запрашивает координаты точки и выводит для нее название четверти на координатной плоскости."
   ]
  },
  {
   "cell_type": "code",
   "execution_count": 11,
   "metadata": {},
   "outputs": [
    {
     "name": "stdout",
     "output_type": "stream",
     "text": [
      "Enter X: 1\n",
      "Enter Y: 1\n",
      "Точка  1 1 принадлежит первой четверти\n"
     ]
    }
   ],
   "source": [
    "x = int(input('Enter X: '))\n",
    "y = int(input('Enter Y: '))\n",
    "\n",
    "if x > 0:\n",
    "    if y > 0:\n",
    "        print('Точка ', x, y, 'принадлежит первой четверти')\n",
    "    else:\n",
    "        print('Точка ', x, y, 'принадлежит четвертой четверти')\n",
    "else:\n",
    "    if y > 0:\n",
    "        print('Точка ', x, y, 'принадлежит третьей четверти')\n",
    "    else:\n",
    "        print('Точка ', x, y, 'принадлежит второй четверти')"
   ]
  },
  {
   "cell_type": "markdown",
   "metadata": {},
   "source": [
    "Тут мы применяем вложенные условия – сначала проверяем, положителен ли `x`, а затем в кажом блоке инструкций первого цикла, проверяем, положителен ли `y`.\n",
    "\n",
    "_На самом деле в этой программе есть изъян. Как думаете, что она напечатает, если `x` и `y` будут равны нулю? Можно ли ее исправить так, чтобы она выдавала в этом случае правильный ответ?_"
   ]
  },
  {
   "cell_type": "markdown",
   "metadata": {},
   "source": [
    "Читать код из примера выше становится _сложнее_ из-за дополнительных вложенностей. Когда мы читаем второе условие, нам постоянно нужно держать в голове результат выполнение первого. А если бы там было не просто `x > 0`, а что-то более сложное, был бы вообще кошмар. Для этого в Python есть специальные логические операторы, которые позволяют нам _объединять условия._ Мы могли бы переписать код нашей программы вот так:"
   ]
  },
  {
   "cell_type": "code",
   "execution_count": 12,
   "metadata": {},
   "outputs": [
    {
     "name": "stdout",
     "output_type": "stream",
     "text": [
      "Enter X: 1\n",
      "Enter Y: 1\n",
      "Точка  1 1 принадлежит первой четверти\n"
     ]
    }
   ],
   "source": [
    "x = int(input('Enter X: '))\n",
    "y = int(input('Enter Y: '))\n",
    "\n",
    "if x > 0 and y > 0:\n",
    "    print('Точка ', x, y, 'принадлежит первой четверти')\n",
    "elif x > 0 and y < 0:\n",
    "        print('Точка ', x, y, 'принадлежит четвертой четверти')\n",
    "elif x < 0 and y > 0:\n",
    "    print('Точка ', x, y, 'принадлежит третьей четверти')\n",
    "else:\n",
    "    print('Точка ', x, y, 'принадлежит второй четверти')"
   ]
  },
  {
   "cell_type": "markdown",
   "metadata": {},
   "source": [
    "Здесь мы объединили условия с помощью оператора **_and_** – логического И. Логическое И является _бинарным_ оператором, – у него есть два операнда – левый и правый. Также бинарным оператором является и логическое ИЛИ.\n",
    "\n",
    "* Логическое И (`and`) – возвращает истину (True) _тогда и только тогда_, если оба его операнда истинны.\n",
    "\n",
    "* Логическое ИЛИ (`or`) – возвращает истину (True), когда _один из его операндов_ равен True.\n",
    "\n",
    "Можно, например, проверить, что _хотя бы_ одно из введенных пользователем чисел – положительное."
   ]
  },
  {
   "cell_type": "code",
   "execution_count": 15,
   "metadata": {},
   "outputs": [
    {
     "name": "stdout",
     "output_type": "stream",
     "text": [
      "Enter first number: -1\n",
      "Enter second number: -1\n",
      "Both numbers are negative.\n"
     ]
    }
   ],
   "source": [
    "a = int(input('Enter first number: '))\n",
    "b = int(input('Enter second number: '))\n",
    "\n",
    "if a > 0 or b > 0:\n",
    "    print('One number is positive.')\n",
    "else:\n",
    "    print('Both numbers are negative.')"
   ]
  },
  {
   "cell_type": "markdown",
   "metadata": {},
   "source": [
    "А вот логическое отрицание (`not`) – является _унарным_ оператором, поскольку за ним следует единственный операнд. Логическое отрицание или логическое НЕ возвращает истину (True), если стоящий за ним операнд ложен (False)."
   ]
  },
  {
   "cell_type": "code",
   "execution_count": 17,
   "metadata": {},
   "outputs": [
    {
     "data": {
      "text/plain": [
       "True"
      ]
     },
     "execution_count": 17,
     "metadata": {},
     "output_type": "execute_result"
    }
   ],
   "source": [
    "not (2 < 1)"
   ]
  },
  {
   "cell_type": "code",
   "execution_count": 18,
   "metadata": {},
   "outputs": [
    {
     "data": {
      "text/plain": [
       "True"
      ]
     },
     "execution_count": 18,
     "metadata": {},
     "output_type": "execute_result"
    }
   ],
   "source": [
    "2 not in [1, 1, 1]"
   ]
  },
  {
   "cell_type": "code",
   "execution_count": 22,
   "metadata": {},
   "outputs": [
    {
     "data": {
      "text/plain": [
       "False"
      ]
     },
     "execution_count": 22,
     "metadata": {},
     "output_type": "execute_result"
    }
   ],
   "source": [
    "not (1 > 0)"
   ]
  },
  {
   "cell_type": "code",
   "execution_count": 50,
   "metadata": {},
   "outputs": [
    {
     "data": {
      "text/plain": [
       "True"
      ]
     },
     "execution_count": 50,
     "metadata": {},
     "output_type": "execute_result"
    }
   ],
   "source": [
    "True or False"
   ]
  },
  {
   "cell_type": "code",
   "execution_count": 51,
   "metadata": {},
   "outputs": [
    {
     "data": {
      "text/plain": [
       "True"
      ]
     },
     "execution_count": 51,
     "metadata": {},
     "output_type": "execute_result"
    }
   ],
   "source": [
    "False or True"
   ]
  },
  {
   "cell_type": "code",
   "execution_count": 52,
   "metadata": {},
   "outputs": [
    {
     "data": {
      "text/plain": [
       "False"
      ]
     },
     "execution_count": 52,
     "metadata": {},
     "output_type": "execute_result"
    }
   ],
   "source": [
    "True and False"
   ]
  },
  {
   "cell_type": "code",
   "execution_count": 54,
   "metadata": {},
   "outputs": [
    {
     "data": {
      "text/plain": [
       "True"
      ]
     },
     "execution_count": 54,
     "metadata": {},
     "output_type": "execute_result"
    }
   ],
   "source": [
    "True is not False"
   ]
  },
  {
   "cell_type": "markdown",
   "metadata": {},
   "source": [
    "А что было бы, если бы Шекспир писал на Python?"
   ]
  },
  {
   "cell_type": "code",
   "execution_count": 56,
   "metadata": {},
   "outputs": [
    {
     "data": {
      "text/plain": [
       "True"
      ]
     },
     "execution_count": 56,
     "metadata": {},
     "output_type": "execute_result"
    }
   ],
   "source": [
    "to_be = True\n",
    "\n",
    "to_be or not to_be"
   ]
  },
  {
   "cell_type": "markdown",
   "metadata": {},
   "source": [
    "## Операторы сравнения\n",
    "\n",
    "Очень часто в условиях ветвлений используются операторы сравнения. Мы уже работали с некоторыми из них, например, когда писали выражения вида `x > 0`, а теперь давайте познакомимся с ними поближе. Операторы сравнения используют в выражениях, которые возвращают логический (булев) тип – правду (True) или ложь (False).\n",
    "\n",
    "`>` – больше\n",
    "\n",
    "`<` – меньше\n",
    "\n",
    "`>=` – больше или равно\n",
    "\n",
    "`<=` – меньше или равно\n",
    "\n",
    "`==` – равно\n",
    "\n",
    "`!=` – не равно"
   ]
  },
  {
   "cell_type": "code",
   "execution_count": 23,
   "metadata": {},
   "outputs": [
    {
     "data": {
      "text/plain": [
       "True"
      ]
     },
     "execution_count": 23,
     "metadata": {},
     "output_type": "execute_result"
    }
   ],
   "source": [
    "2 > 1"
   ]
  },
  {
   "cell_type": "code",
   "execution_count": 24,
   "metadata": {},
   "outputs": [
    {
     "data": {
      "text/plain": [
       "False"
      ]
     },
     "execution_count": 24,
     "metadata": {},
     "output_type": "execute_result"
    }
   ],
   "source": [
    "2 < 1"
   ]
  },
  {
   "cell_type": "code",
   "execution_count": 25,
   "metadata": {},
   "outputs": [
    {
     "data": {
      "text/plain": [
       "True"
      ]
     },
     "execution_count": 25,
     "metadata": {},
     "output_type": "execute_result"
    }
   ],
   "source": [
    "2 == 2"
   ]
  },
  {
   "cell_type": "code",
   "execution_count": 26,
   "metadata": {},
   "outputs": [
    {
     "data": {
      "text/plain": [
       "True"
      ]
     },
     "execution_count": 26,
     "metadata": {},
     "output_type": "execute_result"
    }
   ],
   "source": [
    "2 != 1"
   ]
  },
  {
   "cell_type": "markdown",
   "metadata": {},
   "source": [
    "Обратите внимание на двойной символ `==` в выражении равенства. С помощью него мы можем проверить, например, равны ли между собой две переменные. Выражение вернет True, если переменные равны.\n",
    "\n",
    "Операнды (левые и правые части выражения сравнения) не обязательно должны быть простыми. Они могут представлять и сложные записи."
   ]
  },
  {
   "cell_type": "code",
   "execution_count": 27,
   "metadata": {},
   "outputs": [
    {
     "data": {
      "text/plain": [
       "True"
      ]
     },
     "execution_count": 27,
     "metadata": {},
     "output_type": "execute_result"
    }
   ],
   "source": [
    "from math import sqrt\n",
    "\n",
    "x = 10\n",
    "\n",
    "(x**(2*x) / 0.1) - 2 > sqrt(x**8) * 9"
   ]
  },
  {
   "cell_type": "markdown",
   "metadata": {},
   "source": [
    "Также Python позволяет объединять выражения сравнения в цепочки. Это очень удобно."
   ]
  },
  {
   "cell_type": "code",
   "execution_count": 28,
   "metadata": {},
   "outputs": [
    {
     "data": {
      "text/plain": [
       "True"
      ]
     },
     "execution_count": 28,
     "metadata": {},
     "output_type": "execute_result"
    }
   ],
   "source": [
    "a = 100\n",
    "\n",
    "90 < a < 110"
   ]
  },
  {
   "cell_type": "code",
   "execution_count": 29,
   "metadata": {},
   "outputs": [
    {
     "data": {
      "text/plain": [
       "True"
      ]
     },
     "execution_count": 29,
     "metadata": {},
     "output_type": "execute_result"
    }
   ],
   "source": [
    "a = 10\n",
    "b = 10\n",
    "c = 10\n",
    "\n",
    "a == b == c"
   ]
  },
  {
   "cell_type": "markdown",
   "metadata": {},
   "source": [
    "Еще важно, что сравнивыми в Python являются не только числа, но и другие типы."
   ]
  },
  {
   "cell_type": "code",
   "execution_count": 31,
   "metadata": {},
   "outputs": [
    {
     "data": {
      "text/plain": [
       "True"
      ]
     },
     "execution_count": 31,
     "metadata": {},
     "output_type": "execute_result"
    }
   ],
   "source": [
    "'a' != 'b'"
   ]
  },
  {
   "cell_type": "code",
   "execution_count": 32,
   "metadata": {},
   "outputs": [
    {
     "data": {
      "text/plain": [
       "True"
      ]
     },
     "execution_count": 32,
     "metadata": {},
     "output_type": "execute_result"
    }
   ],
   "source": [
    "'aaaaa' > 'aaa'"
   ]
  },
  {
   "cell_type": "code",
   "execution_count": 38,
   "metadata": {},
   "outputs": [
    {
     "data": {
      "text/plain": [
       "False"
      ]
     },
     "execution_count": 38,
     "metadata": {},
     "output_type": "execute_result"
    }
   ],
   "source": [
    "True == False"
   ]
  },
  {
   "cell_type": "code",
   "execution_count": 43,
   "metadata": {},
   "outputs": [
    {
     "data": {
      "text/plain": [
       "False"
      ]
     },
     "execution_count": 43,
     "metadata": {},
     "output_type": "execute_result"
    }
   ],
   "source": [
    "'10' == 10"
   ]
  },
  {
   "cell_type": "markdown",
   "metadata": {},
   "source": [
    "Но есть, конечно, и нюансы..."
   ]
  },
  {
   "cell_type": "code",
   "execution_count": 45,
   "metadata": {},
   "outputs": [
    {
     "ename": "TypeError",
     "evalue": "'>' not supported between instances of 'str' and 'int'",
     "output_type": "error",
     "traceback": [
      "\u001b[0;31m---------------------------------------------------------------------------\u001b[0m",
      "\u001b[0;31mTypeError\u001b[0m                                 Traceback (most recent call last)",
      "\u001b[0;32m<ipython-input-45-fe82e497f5e8>\u001b[0m in \u001b[0;36m<module>\u001b[0;34m\u001b[0m\n\u001b[0;32m----> 1\u001b[0;31m \u001b[0;34m'10'\u001b[0m \u001b[0;34m>\u001b[0m \u001b[0;36m10\u001b[0m\u001b[0;34m\u001b[0m\u001b[0;34m\u001b[0m\u001b[0m\n\u001b[0m",
      "\u001b[0;31mTypeError\u001b[0m: '>' not supported between instances of 'str' and 'int'"
     ]
    }
   ],
   "source": [
    "'10' > 10"
   ]
  },
  {
   "cell_type": "markdown",
   "metadata": {},
   "source": [
    "Что ж, логично, Python не знает, как сравнить строку с числом. Он может лишь сказать, что они не равны.\n",
    "\n",
    "На самом деле сравнивать мы можем не только примитивы, но и более сложные объекты."
   ]
  },
  {
   "cell_type": "code",
   "execution_count": 46,
   "metadata": {},
   "outputs": [
    {
     "data": {
      "text/plain": [
       "False"
      ]
     },
     "execution_count": 46,
     "metadata": {},
     "output_type": "execute_result"
    }
   ],
   "source": [
    "[1, 2, 3] == [3, 2, 1]"
   ]
  },
  {
   "cell_type": "code",
   "execution_count": 47,
   "metadata": {},
   "outputs": [
    {
     "data": {
      "text/plain": [
       "True"
      ]
     },
     "execution_count": 47,
     "metadata": {},
     "output_type": "execute_result"
    }
   ],
   "source": [
    "{'a': 1} == {'a': 1}"
   ]
  },
  {
   "cell_type": "code",
   "execution_count": 48,
   "metadata": {},
   "outputs": [
    {
     "data": {
      "text/plain": [
       "True"
      ]
     },
     "execution_count": 48,
     "metadata": {},
     "output_type": "execute_result"
    }
   ],
   "source": [
    "(1, 2, 3) != (1,)"
   ]
  },
  {
   "cell_type": "code",
   "execution_count": 49,
   "metadata": {},
   "outputs": [
    {
     "data": {
      "text/plain": [
       "True"
      ]
     },
     "execution_count": 49,
     "metadata": {},
     "output_type": "execute_result"
    }
   ],
   "source": [
    "[1, 2, 3] > [1]"
   ]
  },
  {
   "cell_type": "markdown",
   "metadata": {},
   "source": [
    "На сегодня это все :) Дальше мы с вами поговорим об еще одном способе управляния потоком выполнения – циклах."
   ]
  }
 ],
 "metadata": {
  "kernelspec": {
   "display_name": "Python 3",
   "language": "python",
   "name": "python3"
  },
  "language_info": {
   "codemirror_mode": {
    "name": "ipython",
    "version": 3
   },
   "file_extension": ".py",
   "mimetype": "text/x-python",
   "name": "python",
   "nbconvert_exporter": "python",
   "pygments_lexer": "ipython3",
   "version": "3.8.2"
  }
 },
 "nbformat": 4,
 "nbformat_minor": 4
}
