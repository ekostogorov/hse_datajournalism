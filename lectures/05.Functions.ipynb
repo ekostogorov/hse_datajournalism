{
 "cells": [
  {
   "cell_type": "markdown",
   "metadata": {},
   "source": [
    "# Лекция 5. Функции\n",
    "\n",
    "Мы с вами уже познакомились с тем, как писать простые программы на Python – умеем проверять условия и выполнять тот или иной код в зависимости от этих условий, умеем зацикливать поведение программы, запросто можем \"пробежаться\" по списку, обработав каждый из его элементов. Но представьте, что мы разрабатываем какую-то большую программу, которая в нескольких местах по коду должна выполнять по сути одинаковые действия с разными переменными. Есть ли в программировании какая-то штука, которая позволила бы нам не писать одинаковый код в 5 разных местах? Было бы удобно.\n",
    "\n",
    "И такая штука есть – это функции. Функции – это такие изолированные участки кода, которые выполняются только когда, когда их специально вызывают. На самом деле мы с вами уже пользовались функциями. Например, когда писали `print()`, `input()` или `len()`. Все это – встроенные функции Python, которые, где бы вы их ни вызвали, всегда выполняют одно и то же действие – печатают, запрашивают что-то от пользователя или измеряют длину аргумента.\n",
    "\n",
    "Эти функции написали разработчики Python и дали всем возможность использовать их. Но мы и сами можем написать какую угодно функцию, а потом вызывать ее. Давайте попробуем! Например, мы можем написать простую функцию, которая определяет, какое из двух чисел больше, и возвращает его."
   ]
  },
  {
   "cell_type": "code",
   "execution_count": 1,
   "metadata": {},
   "outputs": [],
   "source": [
    "def maximum(a, b):\n",
    "    if a > b:\n",
    "        return a\n",
    "    else:\n",
    "        return b"
   ]
  },
  {
   "cell_type": "markdown",
   "metadata": {},
   "source": [
    "При выполнении этой ячейки ничего не произошло. По крайней мере, мы не увидели никакого результата. На самом деле в этот момент питон \"записал\" себе в память примерно следующее – если меня попросят выполнить функцию `maximum`, то я должен буду запустить вот этот код. Это называется объявлением или декларацией функции.\n",
    "\n",
    "Декларация функции в Python начинается с ключевого слова `def`. Так интерпретатор питона понимает, что весь код дальше – это функция. После `def` ставится пробел, а затем _в одно слово_ записывается название нашей функции. Оно может быть каким угодно, примерно так же, как и название переменной. Но лучше делать названия осмысленными, как правило, в названии функции указывается, _что она делает_.\n",
    "\n",
    "После названия ставятся скобки, внутри которых мы записываем _аргументы_ – параметры, которые принимает наша функция. В нашем случае это параметры `a` и `b`. Строчка `def maximum(a, b)` называется _сигнатурой_. После скобочек ставится двоеточие, а дальше – с отступом – записывается _тело функции_, то есть тот блок кода, из которого собственно и состоит функция.\n",
    "\n",
    "В общем виде объявление функции в Python выглядит так:\n",
    "\n",
    "```\n",
    "def название_функции(аргумент1, аргумент2):\n",
    "    тело функции (любой код)\n",
    "```\n",
    "\n",
    "А теперь давайте вызовем нашу функцию."
   ]
  },
  {
   "cell_type": "code",
   "execution_count": 2,
   "metadata": {},
   "outputs": [
    {
     "data": {
      "text/plain": [
       "2"
      ]
     },
     "execution_count": 2,
     "metadata": {},
     "output_type": "execute_result"
    }
   ],
   "source": [
    "maximum(1, 2)"
   ]
  },
  {
   "cell_type": "markdown",
   "metadata": {},
   "source": [
    "Эта запись в переводе на человеческий означает \"выполни функцию `maximum` с аргументами 1 и 2\". Мы вызываем нашу функцию и передаем ей нужные аргументы.\n",
    "\n",
    "Давайте разберемся подробнее, что же тут происходит.\n",
    "\n",
    "Когда питон видит строчку `maximum(1, 2)`, он идет к себе в память и спрашивает, есть ли там что-то для функции `maximum`. Находит. Затем он смотрит на аргументы – видит, что это `1` и `2`. Тогда он присваивает `1` в `a`, а `2` присваивает в `b`. По сути выполняется вот такой код (мы его не писали в функции, Python сделает это сам, что называется \"под капотом\"):\n",
    "\n",
    "```\n",
    "a = 1\n",
    "b = 2\n",
    "```\n",
    "\n",
    "Уже после этого выполняется код условной конструкции и сравнение `a` и `b`. \n",
    "\n",
    "```\n",
    "if a > b:\n",
    "    return a\n",
    "else:\n",
    "    return b\n",
    "```\n",
    "\n",
    "Слово `return` – специальная штука, которую мы используем внутри функций – она означает \"вернуть\". То есть мы говорим: \"если `a` больше `b`, верни `a`, иначе верни `b`\".\n",
    "\n",
    "Вообще функцию можно представить в виде такого \"черного ящика\", который умеет что-то принимать на вход, выполнять какое-то действие с тем, что мы в него положили, и что-то возвращать нам обратно.\n",
    "\n",
    "Когда функция возвращает значение, мы сможем его как-то использовать в дальнейшем коде. Например, можем его распечатать или присвоить какой-нибудь переменной."
   ]
  },
  {
   "cell_type": "code",
   "execution_count": 4,
   "metadata": {},
   "outputs": [
    {
     "name": "stdout",
     "output_type": "stream",
     "text": [
      "Maximum of 5 and 10 is: 10\n"
     ]
    }
   ],
   "source": [
    "max_value = maximum(5, 10)\n",
    "print('Maximum of 5 and 10 is:', max_value)"
   ]
  },
  {
   "cell_type": "markdown",
   "metadata": {},
   "source": [
    "## Значения и побочные эффекты\n",
    "\n",
    "Итак, мы поняли, что наш \"черный ящик\" в виде функции может вернуть нам какое-то значение. Но кроме этого функция может попутно сделать что-то еще. Есть хороший пример (не мой, но мне очень нравится):\n",
    "\n",
    "_Представьте, что у нас есть функция в виде кофейного автомата. Кофейный автомат умеет забирать у нас деньги (это аргументы), и выдавать нам кофе (это возвращаемое значение). Но помимо этого кофейный автомат, пока готовит кофе, умеет еще и отсылать email администратору о том, что был заказан кофе. Отправка этого email и будет побочным эффектом (или side-эффектом)._\n",
    "\n",
    "В нашем примере с функцией `maximum` побочных эффектов нет. Давайте перепишем ее так, чтобы они появились."
   ]
  },
  {
   "cell_type": "code",
   "execution_count": 5,
   "metadata": {},
   "outputs": [],
   "source": [
    "def maximum_with_sideeffect(a, b):\n",
    "    max_value = a\n",
    "    if a < b:\n",
    "        max_value = b\n",
    "    \n",
    "    print('Max number is ', max_value)"
   ]
  },
  {
   "cell_type": "markdown",
   "metadata": {},
   "source": [
    "В таком варианте функция `maximum_with_sideeffect` _только печатает максимальное число_, но не возвращает его (в теле функции нет слова `return`).\n",
    "\n",
    "_Несмотря на то, что слова `return` отсутствует, мы все равно выйдем из функции, когда выполним последнюю ее строчку._"
   ]
  },
  {
   "cell_type": "code",
   "execution_count": 6,
   "metadata": {},
   "outputs": [
    {
     "name": "stdout",
     "output_type": "stream",
     "text": [
      "Функция maximum возвращает нам значение, мы положили его в переменную и можем напечатать: 2\n"
     ]
    }
   ],
   "source": [
    "max_number = maximum(1, 2)\n",
    "print('Функция maximum возвращает нам значение, мы положили его в переменную и можем напечатать:', max_number)"
   ]
  },
  {
   "cell_type": "code",
   "execution_count": 7,
   "metadata": {},
   "outputs": [
    {
     "name": "stdout",
     "output_type": "stream",
     "text": [
      "Max number is  2\n"
     ]
    }
   ],
   "source": [
    "nothing_here = maximum_with_sideeffect(1, 2)"
   ]
  },
  {
   "cell_type": "code",
   "execution_count": 110,
   "metadata": {},
   "outputs": [
    {
     "name": "stdout",
     "output_type": "stream",
     "text": [
      "А вот функция maximum_with_sideeffect только печатает значение, в переменной nothing_here не будет ничего: None\n"
     ]
    }
   ],
   "source": [
    "print('А вот функция maximum_with_sideeffect только печатает значение, в переменной nothing_here не будет ничего:', nothing_here)"
   ]
  },
  {
   "cell_type": "markdown",
   "metadata": {},
   "source": [
    "Чтобы убедиться, что функция `maximum_with_sideeffect` ничего нам не возвращает, мы присвоили результат ее вызова в переменную `nothing_here` и убедились – там лежит `None`, то есть ничего.\n",
    "\n",
    "На самом деле функция может _и возвращать значение, и иметь побочные эффекты. Например вот так:_"
   ]
  },
  {
   "cell_type": "code",
   "execution_count": null,
   "metadata": {},
   "outputs": [],
   "source": [
    "def maximum_with_sideeffect(a, b):\n",
    "    max_value = a\n",
    "    if a < b:\n",
    "        max_value = b\n",
    "    \n",
    "    print('Max number is ', max_value)\n",
    "    return max_value"
   ]
  },
  {
   "cell_type": "markdown",
   "metadata": {},
   "source": [
    "Побочным эффектом может быть не только вывод на экран, а вообще все, что угодно.\n",
    "\n",
    "Функции без побочных эффектов, называют _чистыми_."
   ]
  },
  {
   "cell_type": "markdown",
   "metadata": {},
   "source": [
    "## Глобальные и локальные переменные\n",
    "\n",
    "Внутри функции (в теле функции) мы можем писать какой угодно код. В том числе мы можем объявлять и использовать переменные. Для безопасности, переменные, которые мы объявили _внутри_ функции, недоступны _снаружи_ функции. Такие переменные называют _локальными_.\n",
    "\n",
    "Например, вот тут внутри функции мы объявляем переменную `local_max_number`, но если мы попытаемся обратиться к этой переменной снаружи функции, то получим ошибку."
   ]
  },
  {
   "cell_type": "code",
   "execution_count": 9,
   "metadata": {},
   "outputs": [
    {
     "name": "stdout",
     "output_type": "stream",
     "text": [
      "Внутри функции переменная доступна: 2\n"
     ]
    },
    {
     "ename": "NameError",
     "evalue": "name 'local_max_number' is not defined",
     "output_type": "error",
     "traceback": [
      "\u001b[0;31m---------------------------------------------------------------------------\u001b[0m",
      "\u001b[0;31mNameError\u001b[0m                                 Traceback (most recent call last)",
      "\u001b[0;32m<ipython-input-9-cd480d00ad97>\u001b[0m in \u001b[0;36m<module>\u001b[0;34m\u001b[0m\n\u001b[1;32m     11\u001b[0m \u001b[0mmaximum\u001b[0m\u001b[0;34m(\u001b[0m\u001b[0;36m1\u001b[0m\u001b[0;34m,\u001b[0m \u001b[0;36m2\u001b[0m\u001b[0;34m)\u001b[0m\u001b[0;34m\u001b[0m\u001b[0;34m\u001b[0m\u001b[0m\n\u001b[1;32m     12\u001b[0m \u001b[0;34m\u001b[0m\u001b[0m\n\u001b[0;32m---> 13\u001b[0;31m \u001b[0mprint\u001b[0m\u001b[0;34m(\u001b[0m\u001b[0;34m'А вот снаружи нет:'\u001b[0m\u001b[0;34m,\u001b[0m \u001b[0mlocal_max_number\u001b[0m\u001b[0;34m)\u001b[0m\u001b[0;34m\u001b[0m\u001b[0;34m\u001b[0m\u001b[0m\n\u001b[0m",
      "\u001b[0;31mNameError\u001b[0m: name 'local_max_number' is not defined"
     ]
    }
   ],
   "source": [
    "def maximum(a, b):\n",
    "    local_max_number = a\n",
    "\n",
    "    if a < b:\n",
    "        local_max_number = b\n",
    "\n",
    "    print('Внутри функции переменная доступна:', local_max_number)\n",
    "    return local_max_number\n",
    "    \n",
    "\n",
    "maximum(1, 2)\n",
    "\n",
    "print('А вот снаружи нет:', local_max_number)"
   ]
  },
  {
   "cell_type": "markdown",
   "metadata": {},
   "source": [
    "Сделано это для того, чтобы никто не смог поменять значение нашей внутренней (локальной) переменной извне.\n",
    "\n",
    "А вот наоборот мы делать можем. Внутри функции мы можем читать значения переменных, которые объявлены _вне этой функции_. Такие переменные называются _глобальными_.\n",
    "\n",
    "В примере ниже мы объявляем переменную `a` _вне функции_. А в теле функции обращаемся к ней и можем прочитать, что в ней лежит."
   ]
  },
  {
   "cell_type": "code",
   "execution_count": 12,
   "metadata": {},
   "outputs": [
    {
     "name": "stdout",
     "output_type": "stream",
     "text": [
      "Переменная a доступна внутри функции, она глобальная: 1\n"
     ]
    }
   ],
   "source": [
    "a = 1\n",
    "\n",
    "def func():\n",
    "    print('Переменная a доступна внутри функции, она глобальная:', a)\n",
    "    \n",
    "func()"
   ]
  },
  {
   "cell_type": "markdown",
   "metadata": {},
   "source": [
    "Важно, что мы внутри функции мы можем получить значение глобальной переменной, но не можем _изменить его!_"
   ]
  },
  {
   "cell_type": "code",
   "execution_count": 15,
   "metadata": {},
   "outputs": [
    {
     "name": "stdout",
     "output_type": "stream",
     "text": [
      "Внутри функции меняем значение a : 2\n",
      "Но снаружи значение не поменялось! Оно до сих пор: 1\n"
     ]
    }
   ],
   "source": [
    "a = 1\n",
    "\n",
    "def func():\n",
    "    a = 2\n",
    "    print('Внутри функции меняем значение a :', a)\n",
    "    \n",
    "func()\n",
    "\n",
    "print('Но снаружи значение не поменялось! Оно до сих пор:', a)"
   ]
  },
  {
   "cell_type": "markdown",
   "metadata": {},
   "source": [
    "Это тоже сделано _для безопасности_. Если бы мы могли поменять значения глобальных переменных внутри функций, отследить и предсказать, как оно будет меняться, было бы _очень_ сложно.\n",
    "\n",
    "Давайте теперь разберем это на каком-нибудь более осмысленном примере.\n",
    "\n",
    "Напишем функцию, которая формирует приветствие для пользователя на основе его имени. Но теперь нашей программой пользуются не только в России, но и в других странах, так что нам нужно уметь формировать приветствие не только на русском, но и на английском. Не проблема – будем передавать язык, на котором надо сформировать приветствие в качестве аргумента."
   ]
  },
  {
   "cell_type": "code",
   "execution_count": 24,
   "metadata": {},
   "outputs": [],
   "source": [
    "def make_greating(name, lang):\n",
    "    if lang == 'en':\n",
    "        return 'Hello, ' + name.strip().capitalize() + '!'\n",
    "    if lang == 'ru':\n",
    "        return 'Привет, ' + name.strip().capitalize() + '!'"
   ]
  },
  {
   "cell_type": "code",
   "execution_count": 25,
   "metadata": {},
   "outputs": [
    {
     "data": {
      "text/plain": [
       "'Привет, John!'"
      ]
     },
     "execution_count": 25,
     "metadata": {},
     "output_type": "execute_result"
    }
   ],
   "source": [
    "make_greating('John', 'ru')"
   ]
  },
  {
   "cell_type": "code",
   "execution_count": 27,
   "metadata": {},
   "outputs": [
    {
     "data": {
      "text/plain": [
       "'Hello, John!'"
      ]
     },
     "execution_count": 27,
     "metadata": {},
     "output_type": "execute_result"
    }
   ],
   "source": [
    "make_greating('John', 'en')"
   ]
  },
  {
   "cell_type": "markdown",
   "metadata": {},
   "source": [
    "Но представьте, что мест, в которых будет вызываться эта функция, в нашей программе очень много. И в каждом из них нам нужно знать, какой язык сейчас установлен для пользователя. Это не очень удобно. Было бы гораздо лучше установить его один раз, _записать в глобальную переменную_, а затем использовать там, где нам нужно."
   ]
  },
  {
   "cell_type": "code",
   "execution_count": 28,
   "metadata": {},
   "outputs": [],
   "source": [
    "def make_greating(name):\n",
    "    if lang == 'en':\n",
    "        return 'Hello, ' + name.strip().capitalize() + '!'\n",
    "    if lang == 'ru':\n",
    "        return 'Привет, ' + name.strip().capitalize() + '!'"
   ]
  },
  {
   "cell_type": "code",
   "execution_count": 29,
   "metadata": {},
   "outputs": [
    {
     "data": {
      "text/plain": [
       "'Hello, John!'"
      ]
     },
     "execution_count": 29,
     "metadata": {},
     "output_type": "execute_result"
    }
   ],
   "source": [
    "lang = 'en'\n",
    "make_greating('John')"
   ]
  },
  {
   "cell_type": "code",
   "execution_count": 30,
   "metadata": {},
   "outputs": [
    {
     "data": {
      "text/plain": [
       "'Привет, John!'"
      ]
     },
     "execution_count": 30,
     "metadata": {},
     "output_type": "execute_result"
    }
   ],
   "source": [
    "lang = 'ru'\n",
    "make_greating('John')"
   ]
  },
  {
   "cell_type": "markdown",
   "metadata": {},
   "source": [
    "Использовать тут глобальную переменную действительно гораздо удобнее.\n",
    "\n",
    "Но как бы нам так сделать, чтобы язык смог менять сам пользователь? Удобно было бы это тоже обернуть в функцию, мало ли в скольких местах нам придется спрашивать пользователя про язык."
   ]
  },
  {
   "cell_type": "code",
   "execution_count": 34,
   "metadata": {},
   "outputs": [
    {
     "name": "stdout",
     "output_type": "stream",
     "text": [
      "en\n",
      "Введите язык (en или ru):ru\n",
      "en\n"
     ]
    }
   ],
   "source": [
    "lang = 'en'\n",
    "\n",
    "def set_lang():\n",
    "    user_lang = input('Введите язык (en или ru):')\n",
    "    if user_lang == 'en' or user_lang == 'ru':\n",
    "        lang = user_lang\n",
    "\n",
    "print(lang)\n",
    "set_lang()\n",
    "print(lang)"
   ]
  },
  {
   "cell_type": "markdown",
   "metadata": {},
   "source": [
    "Язык не поменялся! Ну конечно, ведь мы с вами знаем, что _не можем менять значения глобальных переменных внутри функции._\n",
    "\n",
    "На самом деле _иногда_ мы можем так делать. Но злоупотреблять не стоит.\n",
    "\n",
    "Чтобы функция заработала нужно внутри функции указать, что переменная `lang` – глобальная. Для этого нужно использовать ключевое слово `global`. Написание слова `global` означает, что вы в адекватном состоянии и отдаете себе отчет в том, что делаете :)\n",
    "\n",
    "Вот так будет работать:"
   ]
  },
  {
   "cell_type": "code",
   "execution_count": 36,
   "metadata": {},
   "outputs": [
    {
     "name": "stdout",
     "output_type": "stream",
     "text": [
      "en\n",
      "Введите язык (en или ru):ru\n",
      "ru\n"
     ]
    }
   ],
   "source": [
    "lang = 'en'\n",
    "\n",
    "def set_lang():\n",
    "    global lang\n",
    "    user_lang = input('Введите язык (en или ru):')\n",
    "\n",
    "    if user_lang == 'en' or user_lang == 'ru':\n",
    "        lang = user_lang\n",
    "\n",
    "print(lang)\n",
    "set_lang()\n",
    "print(lang)"
   ]
  },
  {
   "cell_type": "code",
   "execution_count": 37,
   "metadata": {},
   "outputs": [
    {
     "name": "stdout",
     "output_type": "stream",
     "text": [
      "Введите имя:John\n",
      "Введите язык (en или ru):en\n"
     ]
    },
    {
     "data": {
      "text/plain": [
       "'Hello, John!'"
      ]
     },
     "execution_count": 37,
     "metadata": {},
     "output_type": "execute_result"
    }
   ],
   "source": [
    "name = input('Введите имя:')\n",
    "set_lang()\n",
    "make_greating(name)"
   ]
  },
  {
   "cell_type": "code",
   "execution_count": 38,
   "metadata": {},
   "outputs": [
    {
     "name": "stdout",
     "output_type": "stream",
     "text": [
      "Введите имя:Иван\n",
      "Введите язык (en или ru):ru\n"
     ]
    },
    {
     "data": {
      "text/plain": [
       "'Привет, Иван!'"
      ]
     },
     "execution_count": 38,
     "metadata": {},
     "output_type": "execute_result"
    }
   ],
   "source": [
    "name = input('Введите имя:')\n",
    "set_lang()\n",
    "make_greating(name)"
   ]
  },
  {
   "cell_type": "markdown",
   "metadata": {},
   "source": [
    "## Именованные аргументы и значения по умолчанию\n",
    "\n",
    "На самом деле в Python есть несколько способов передать аргументы в фунцию. Первый – просто перечислить их и собственно передать. Так мы делали во всех примерах выше."
   ]
  },
  {
   "cell_type": "code",
   "execution_count": 48,
   "metadata": {},
   "outputs": [
    {
     "data": {
      "text/plain": [
       "'Good morning, John!'"
      ]
     },
     "execution_count": 48,
     "metadata": {},
     "output_type": "execute_result"
    }
   ],
   "source": [
    "def make_greating(name, time_of_day):\n",
    "    return 'Good '+time_of_day+', '+name.strip().capitalize()+'!'\n",
    "\n",
    "make_greating('John', 'morning')"
   ]
  },
  {
   "cell_type": "markdown",
   "metadata": {},
   "source": [
    "Эта функция запрашивает два аргумента – `name` и `time_of_day`. Если мы передаем их в функцию вот таким образом `make_greating('John', 'morning')`, то важно соблюдать порядок. Иначе выйдет бессмыслица."
   ]
  },
  {
   "cell_type": "code",
   "execution_count": 49,
   "metadata": {},
   "outputs": [
    {
     "data": {
      "text/plain": [
       "'Good John, Morning!'"
      ]
     },
     "execution_count": 49,
     "metadata": {},
     "output_type": "execute_result"
    }
   ],
   "source": [
    "make_greating('morning', 'John')"
   ]
  },
  {
   "cell_type": "markdown",
   "metadata": {},
   "source": [
    "Но мы можем специально указать, какому аргументу какое значение соответствует. Тогда порядок неважен. Такие аргументы называются _именованными_."
   ]
  },
  {
   "cell_type": "code",
   "execution_count": 50,
   "metadata": {},
   "outputs": [
    {
     "data": {
      "text/plain": [
       "'Good morning, John!'"
      ]
     },
     "execution_count": 50,
     "metadata": {},
     "output_type": "execute_result"
    }
   ],
   "source": [
    "make_greating(time_of_day='morning', name='John')"
   ]
  },
  {
   "cell_type": "markdown",
   "metadata": {},
   "source": [
    "И так тоже будет работать"
   ]
  },
  {
   "cell_type": "code",
   "execution_count": 51,
   "metadata": {},
   "outputs": [
    {
     "data": {
      "text/plain": [
       "'Good morning, John!'"
      ]
     },
     "execution_count": 51,
     "metadata": {},
     "output_type": "execute_result"
    }
   ],
   "source": [
    "make_greating('John', time_of_day='morning')"
   ]
  },
  {
   "cell_type": "markdown",
   "metadata": {},
   "source": [
    "Но в любом случае нам нужно передать _оба этих аргумента_, потому что они обязательные. Если мы вызовем эту функцию, не передав какой-либо аргумент, то получим ошибку."
   ]
  },
  {
   "cell_type": "code",
   "execution_count": 52,
   "metadata": {},
   "outputs": [
    {
     "ename": "TypeError",
     "evalue": "make_greating() missing 1 required positional argument: 'time_of_day'",
     "output_type": "error",
     "traceback": [
      "\u001b[0;31m---------------------------------------------------------------------------\u001b[0m",
      "\u001b[0;31mTypeError\u001b[0m                                 Traceback (most recent call last)",
      "\u001b[0;32m<ipython-input-52-c4a41d30ed04>\u001b[0m in \u001b[0;36m<module>\u001b[0;34m\u001b[0m\n\u001b[0;32m----> 1\u001b[0;31m \u001b[0mmake_greating\u001b[0m\u001b[0;34m(\u001b[0m\u001b[0;34m'John'\u001b[0m\u001b[0;34m)\u001b[0m\u001b[0;34m\u001b[0m\u001b[0;34m\u001b[0m\u001b[0m\n\u001b[0m",
      "\u001b[0;31mTypeError\u001b[0m: make_greating() missing 1 required positional argument: 'time_of_day'"
     ]
    }
   ],
   "source": [
    "make_greating('John')"
   ]
  },
  {
   "cell_type": "markdown",
   "metadata": {},
   "source": [
    "Но в Python есть чудесная возможность сделать аргумент необязательным, используя значения по умолчанию. Если мы перепишем сигнатуру функции вот так `def make_greating(name, time_of_day='day')`, то аргумент `time_of_day` станет необязательным. Если мы его не передадим при вызове, то будет использоваться значение по умолчанию (default value) – `'day'`..."
   ]
  },
  {
   "cell_type": "code",
   "execution_count": 41,
   "metadata": {},
   "outputs": [
    {
     "data": {
      "text/plain": [
       "'Good day, John!'"
      ]
     },
     "execution_count": 41,
     "metadata": {},
     "output_type": "execute_result"
    }
   ],
   "source": [
    "def make_greating(name, time_of_day='day'):\n",
    "    return 'Good '+time_of_day+', '+name.strip().capitalize()+'!'\n",
    "\n",
    "make_greating('John')"
   ]
  },
  {
   "cell_type": "markdown",
   "metadata": {},
   "source": [
    "...а если передадим – то будет использоваться значение, которое мы передали."
   ]
  },
  {
   "cell_type": "code",
   "execution_count": 42,
   "metadata": {},
   "outputs": [
    {
     "data": {
      "text/plain": [
       "'Good evening, John!'"
      ]
     },
     "execution_count": 42,
     "metadata": {},
     "output_type": "execute_result"
    }
   ],
   "source": [
    "make_greating('John', 'evening')"
   ]
  },
  {
   "cell_type": "markdown",
   "metadata": {},
   "source": [
    "## Множественные аргументы: \\*args и **kwargs\n",
    "\n",
    "А еще бывают функции, которые могут принимать много элементов. Причем количество этих аргументов заранее не определено. Мы можем передать один аргумент, а можем 10. А можем вообще ничего не передать. Так, например, устроена функция `print()`."
   ]
  },
  {
   "cell_type": "code",
   "execution_count": 53,
   "metadata": {},
   "outputs": [
    {
     "name": "stdout",
     "output_type": "stream",
     "text": [
      "\n"
     ]
    }
   ],
   "source": [
    "print()"
   ]
  },
  {
   "cell_type": "code",
   "execution_count": 54,
   "metadata": {},
   "outputs": [
    {
     "name": "stdout",
     "output_type": "stream",
     "text": [
      "1\n"
     ]
    }
   ],
   "source": [
    "print(1)"
   ]
  },
  {
   "cell_type": "code",
   "execution_count": 55,
   "metadata": {},
   "outputs": [
    {
     "name": "stdout",
     "output_type": "stream",
     "text": [
      "1 2 3 hello\n"
     ]
    }
   ],
   "source": [
    "print(1, 2, 3, 'hello')"
   ]
  },
  {
   "cell_type": "markdown",
   "metadata": {},
   "source": [
    "Чтобы написать такую функцио, нужно вместо аргументов написать `*args`.\n",
    "\n",
    "_На самом деле вместо `args` может быть любое слово, главное, чтобы перед ним стояла звездочка `*`, но все Python-программисты договорились, что для таких функций будут использовать именно слово `args`, так что лучше делать так._"
   ]
  },
  {
   "cell_type": "code",
   "execution_count": 56,
   "metadata": {},
   "outputs": [
    {
     "name": "stdout",
     "output_type": "stream",
     "text": [
      "1\n",
      "2\n",
      "3\n",
      "hello\n"
     ]
    }
   ],
   "source": [
    "def my_func(*args):\n",
    "    for x in args:\n",
    "        print(x)\n",
    "        \n",
    "my_func(1, 2, 3, 'hello')"
   ]
  },
  {
   "cell_type": "markdown",
   "metadata": {},
   "source": [
    "Если в сигнатуре функции стоит `*args`, это означает, что она может принимать неограниченное количество _неименованных параметров_.\n",
    "\n",
    "Обратите внимание – в теле функции мы написали цикл. Это возможно, потому что в `args` внутри функции будет лежать _кортеж_ со всеми аргументами, которые мы в нее передали.\n",
    "\n",
    "_Кортеж – это структура данных, похожая на список, но которую нельзя изменять, мы о них с вами говорили в лекции 2, почитайте, если забыли_."
   ]
  },
  {
   "cell_type": "code",
   "execution_count": 60,
   "metadata": {},
   "outputs": [
    {
     "data": {
      "text/plain": [
       "tuple"
      ]
     },
     "execution_count": 60,
     "metadata": {},
     "output_type": "execute_result"
    }
   ],
   "source": [
    "def my_func_1(*args):\n",
    "    return type(args)\n",
    "\n",
    "my_func_1(1, 2, 3)"
   ]
  },
  {
   "cell_type": "markdown",
   "metadata": {},
   "source": [
    "И правда кортеж. С этим кортежем внутри функции мы можем делать, все что хотим – пробежаться по нему циклом, распечатать, проверить вхождение элемента...\n",
    "\n",
    "Такое работает для _неименованных аргументов_. А для _именованных_ есть другой похожий способ."
   ]
  },
  {
   "cell_type": "code",
   "execution_count": 61,
   "metadata": {},
   "outputs": [
    {
     "data": {
      "text/plain": [
       "dict"
      ]
     },
     "execution_count": 61,
     "metadata": {},
     "output_type": "execute_result"
    }
   ],
   "source": [
    "def my_func_2(**kwargs):\n",
    "    return type(kwargs)\n",
    "\n",
    "my_func_2(a=1, b=2, c=3)"
   ]
  },
  {
   "cell_type": "markdown",
   "metadata": {},
   "source": [
    "Внешне похоже, только вместо одной звездочки мы используем две – `**`, а вместо слова `args` – `kwargs`. Внутри функции в `kwargs` будет лежать не кортеж, а словарь. Ключами словаря будут названия аргументов, а значениями – собственно значения."
   ]
  },
  {
   "cell_type": "code",
   "execution_count": 111,
   "metadata": {},
   "outputs": [
    {
     "name": "stdout",
     "output_type": "stream",
     "text": [
      "{'a': 1, 'b': 2, 'c': 3}\n"
     ]
    }
   ],
   "source": [
    "def my_func_2(**kwargs):\n",
    "    print(kwargs)\n",
    "    \n",
    "my_func_2(a=1, b=2, c =3)"
   ]
  },
  {
   "cell_type": "markdown",
   "metadata": {},
   "source": [
    "А теперь что-нибудь посложнее"
   ]
  },
  {
   "cell_type": "code",
   "execution_count": 91,
   "metadata": {},
   "outputs": [],
   "source": [
    "def greating(**kwargs):\n",
    "    title = ''\n",
    "    time_of_day = 'day'\n",
    "    name = 'user'\n",
    "    \n",
    "    keys = kwargs.keys()\n",
    "    if 'title' in keys:\n",
    "        title = kwargs['title']\n",
    "    \n",
    "    if 'time_of_day' in keys:\n",
    "        time_of_day = kwargs['time_of_day']\n",
    "        \n",
    "    if 'name' in keys:\n",
    "        name = kwargs['name'].strip().capitalize()\n",
    "    \n",
    "    return 'Good ' + time_of_day + ', ' + title + name"
   ]
  },
  {
   "cell_type": "code",
   "execution_count": 92,
   "metadata": {},
   "outputs": [
    {
     "data": {
      "text/plain": [
       "'Good evening, Mr.John'"
      ]
     },
     "execution_count": 92,
     "metadata": {},
     "output_type": "execute_result"
    }
   ],
   "source": [
    "greating(title='Mr.', time_of_day='evening', name='John')"
   ]
  },
  {
   "cell_type": "code",
   "execution_count": 93,
   "metadata": {},
   "outputs": [
    {
     "data": {
      "text/plain": [
       "'Good morning, user'"
      ]
     },
     "execution_count": 93,
     "metadata": {},
     "output_type": "execute_result"
    }
   ],
   "source": [
    "greating(time_of_day='morning')"
   ]
  },
  {
   "cell_type": "code",
   "execution_count": 94,
   "metadata": {},
   "outputs": [
    {
     "data": {
      "text/plain": [
       "'Good day, Jack'"
      ]
     },
     "execution_count": 94,
     "metadata": {},
     "output_type": "execute_result"
    }
   ],
   "source": [
    "greating(name='jack')"
   ]
  },
  {
   "cell_type": "code",
   "execution_count": 95,
   "metadata": {},
   "outputs": [
    {
     "data": {
      "text/plain": [
       "'Good day, user'"
      ]
     },
     "execution_count": 95,
     "metadata": {},
     "output_type": "execute_result"
    }
   ],
   "source": [
    "greating()"
   ]
  },
  {
   "cell_type": "markdown",
   "metadata": {},
   "source": [
    "Например вот так мы могли бы усовершенствовать нашу функцию, которая формирует приветствие для пользователя. Мы принимаем любое количесто именованных аргументов и в зависимости от того, какие из них переданы, формируем разные приветствия. "
   ]
  },
  {
   "cell_type": "markdown",
   "metadata": {},
   "source": [
    "## Вложенные вызовы функций\n",
    "\n",
    "Внутри функции мы можем писать практически любой код. А это значит, что в теле одной функции мы можем вызвать и любую другую. Давайте, например, разделим нашу функцию `greating` на несколько маленьких и простых.\n",
    "\n",
    "Сделаем вот такие функции, каждая из которых принимает на вход словарь и возвращает нам нужное значение для времени суток, имени пользователя и обращения к нему соответственно."
   ]
  },
  {
   "cell_type": "code",
   "execution_count": 102,
   "metadata": {},
   "outputs": [],
   "source": [
    "def get_time_of_day(params_dict):\n",
    "    time_of_day = 'day'\n",
    "\n",
    "    if 'time_of_day' in params_dict.keys():\n",
    "        time_of_day = params_dict['time_of_day']\n",
    "    \n",
    "    return time_of_day\n",
    "\n",
    "def get_username(params_dict):\n",
    "    name = 'user'\n",
    "\n",
    "    if 'name' in params_dict.keys():\n",
    "        name = params_dict['name'].strip().capitalize()\n",
    "    \n",
    "    return name\n",
    "\n",
    "def get_title(params_dict):\n",
    "    title = ''\n",
    "\n",
    "    if 'title' in params_dict.keys():\n",
    "        title = params_dict['title']\n",
    "        \n",
    "    return title"
   ]
  },
  {
   "cell_type": "markdown",
   "metadata": {},
   "source": [
    "А теперь перепишем функцию `greating`, чтобы внутри нее использовать подготовленные нами функции."
   ]
  },
  {
   "cell_type": "code",
   "execution_count": 105,
   "metadata": {},
   "outputs": [],
   "source": [
    "def greating(**kwargs):\n",
    "    title =  get_title(kwargs)\n",
    "    time_of_day = get_time_of_day(kwargs)\n",
    "    name = get_username(kwargs)\n",
    "    \n",
    "    return 'Good ' + time_of_day + ', ' + title + name + \"!\""
   ]
  },
  {
   "cell_type": "code",
   "execution_count": 106,
   "metadata": {},
   "outputs": [
    {
     "data": {
      "text/plain": [
       "'Good night, Mr.John!'"
      ]
     },
     "execution_count": 106,
     "metadata": {},
     "output_type": "execute_result"
    }
   ],
   "source": [
    "greating(name='John', time_of_day='night', title='Mr.')"
   ]
  },
  {
   "cell_type": "code",
   "execution_count": 107,
   "metadata": {},
   "outputs": [
    {
     "data": {
      "text/plain": [
       "'Good night, John!'"
      ]
     },
     "execution_count": 107,
     "metadata": {},
     "output_type": "execute_result"
    }
   ],
   "source": [
    "greating(name='John', time_of_day='night')"
   ]
  },
  {
   "cell_type": "code",
   "execution_count": 108,
   "metadata": {},
   "outputs": [
    {
     "data": {
      "text/plain": [
       "'Good night, user!'"
      ]
     },
     "execution_count": 108,
     "metadata": {},
     "output_type": "execute_result"
    }
   ],
   "source": [
    "greating(time_of_day='night')"
   ]
  },
  {
   "cell_type": "code",
   "execution_count": 109,
   "metadata": {},
   "outputs": [
    {
     "data": {
      "text/plain": [
       "'Good day, user!'"
      ]
     },
     "execution_count": 109,
     "metadata": {},
     "output_type": "execute_result"
    }
   ],
   "source": [
    "greating()"
   ]
  },
  {
   "cell_type": "markdown",
   "metadata": {},
   "source": [
    "Ну ладно, на сегодня достаточно :)"
   ]
  }
 ],
 "metadata": {
  "kernelspec": {
   "display_name": "Python 3",
   "language": "python",
   "name": "python3"
  },
  "language_info": {
   "codemirror_mode": {
    "name": "ipython",
    "version": 3
   },
   "file_extension": ".py",
   "mimetype": "text/x-python",
   "name": "python",
   "nbconvert_exporter": "python",
   "pygments_lexer": "ipython3",
   "version": "3.8.2"
  }
 },
 "nbformat": 4,
 "nbformat_minor": 4
}
