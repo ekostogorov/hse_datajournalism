{
 "cells": [
  {
   "cell_type": "markdown",
   "metadata": {},
   "source": [
    "# Лекция 8. Использование библиотеки Pandas\n",
    "\n",
    "Сегодня мы с вами поговорим про еще одну важную библиотеку, которую применяют для анализа данных – Pandas. Она тоже написана на языке C и имеет удобный интерфейс для использования в Python, а значит, работает очень быстро. Pandas очень удобно применять для работы с разного рода табличными данными, о которых мы в основном сегодня и будем говорить. Но сначала маленькое отступление.\n",
    "\n",
    "## Установка\n",
    "\n",
    "Если Pandas у вас не установлен, его необходимо установить (thank you, Cap!). Делается это через терминал (как в него попасть, мы уже говорили на прошлых лекциях). Для установки необходимо написать следующее:\n",
    "\n",
    "```\n",
    "pip3 install pandas\n",
    "```\n",
    "\n",
    "...и дождаться окончания установки.\n",
    "\n",
    "## Табличные данные\n",
    "\n",
    "Ну, а теперь к делу. Ранее мы с вами в основном работали с одномерными структурами данных – списки, кортежи, словари и массивы Numpy. Однако данные зачастую бывают представлены в виде таблиц (ну вспомните хотя бы таблицы Excel), и обрабатывать как правило приходится именно таблицы.\n",
    "\n",
    "Вообще говоря, создать в Python таблицу несложно. Для этого мы можем использовать двумерные списки (списки списков)."
   ]
  },
  {
   "cell_type": "code",
   "execution_count": 1,
   "metadata": {},
   "outputs": [],
   "source": [
    "my_table = [\n",
    "    [1, 2, 3], \n",
    "    [4, 5, 6], \n",
    "    [7, 8, 9]\n",
    "]"
   ]
  },
  {
   "cell_type": "markdown",
   "metadata": {},
   "source": [
    "Например, вот так – здесь списки выступают строками, а элементы списков с одинаковыми индексами – столбцами. Благодаря тому, что Python – высокоуровневый язык с _динамической типизацией_, мы можем положить в список элементы разных типов, поэтому без труда сможем добавить и описание столбцов."
   ]
  },
  {
   "cell_type": "code",
   "execution_count": 2,
   "metadata": {},
   "outputs": [
    {
     "data": {
      "text/plain": [
       "[['Column A', 'Column B', 'Column C'], [1, 2, 3], [4, 5, 6], [7, 8, 9]]"
      ]
     },
     "execution_count": 2,
     "metadata": {},
     "output_type": "execute_result"
    }
   ],
   "source": [
    "my_table.insert(0, ['Column A', 'Column B', 'Column C'])\n",
    "my_table"
   ]
  },
  {
   "cell_type": "markdown",
   "metadata": {},
   "source": [
    "Можем обратиться к нашей таблице и получить какую-нибудь строку..."
   ]
  },
  {
   "cell_type": "code",
   "execution_count": 3,
   "metadata": {},
   "outputs": [
    {
     "data": {
      "text/plain": [
       "[1, 2, 3]"
      ]
     },
     "execution_count": 3,
     "metadata": {},
     "output_type": "execute_result"
    }
   ],
   "source": [
    "my_table[1]"
   ]
  },
  {
   "cell_type": "markdown",
   "metadata": {},
   "source": [
    "...или какую-то конкретную ячейку. Например, ячейку во второй строке второй столбца:"
   ]
  },
  {
   "cell_type": "code",
   "execution_count": 4,
   "metadata": {},
   "outputs": [
    {
     "data": {
      "text/plain": [
       "2"
      ]
     },
     "execution_count": 4,
     "metadata": {},
     "output_type": "execute_result"
    }
   ],
   "source": [
    "my_table[1][1]"
   ]
  },
  {
   "cell_type": "markdown",
   "metadata": {},
   "source": [
    "_А теперь попробуйте получить не строку, а столбец. Это, конечно, не проблема, но придется написать для этого специальный код._\n",
    "\n",
    "Да, мы можем работать с таблицами таким образом, но честно говоря, это не очень-то удобно и можно легко совершить ошибку. Особенно, если представить, что в таблице не 3 столбца и 3 строки, а хотя бы 100. Есть и еще один момент – при работе с большим количеством данных, наш код с \"родными\" питоновскими структурами данных будет выполняться довольно медленно.\n",
    "\n",
    "Именно поэтому мы с вами будем использовать Pandas.\n",
    "\n",
    "## Структуры данных в Pandas: серии и датафреймы\n",
    "\n",
    "Библиотека Pandas предоставляет нам возможность работать с данными, у которых есть _несколько измерений_. \n",
    "\n",
    "Например, для одномерных данных мы можем использовать серии (Series), для двухмерных – датафреймы (Dataframe), а для трехмерных – панели (Panel). Мы с вами близко познакомимся именно с датафреймами, потому что это та структура данных, которая позволяет нам удобно работать с таблицами. Но и про серии тоже немного поговорим.\n",
    "\n",
    "Сначала давайте импортируем Pandas."
   ]
  },
  {
   "cell_type": "code",
   "execution_count": 5,
   "metadata": {},
   "outputs": [],
   "source": [
    "import pandas as pd"
   ]
  },
  {
   "cell_type": "markdown",
   "metadata": {},
   "source": [
    "Если у вас в этом месте возникла ошибка, значит у вас не установлен Pandas – смотрите пункт **Установка**.\n",
    "\n",
    "### Пару слов о Series\n",
    "\n",
    "Пару слов про серии. Серии очень похожи на обычные питоновские списки или на массивы Numpy – набор каких-то упорядоченных элементов, у которых есть индексы.\n",
    "\n",
    "Создать серию можно, просто передав ей список."
   ]
  },
  {
   "cell_type": "code",
   "execution_count": 8,
   "metadata": {},
   "outputs": [
    {
     "data": {
      "text/plain": [
       "0      1\n",
       "1      2\n",
       "2      3\n",
       "3      4\n",
       "4      5\n",
       "5    100\n",
       "dtype: int64"
      ]
     },
     "execution_count": 8,
     "metadata": {},
     "output_type": "execute_result"
    }
   ],
   "source": [
    "s = pd.Series([1, 2, 3, 4, 5, 100])\n",
    "\n",
    "s"
   ]
  },
  {
   "cell_type": "markdown",
   "metadata": {},
   "source": [
    "Циферки слева – индексы. Циферки справа – значения. Все как у обычных списков. Разница лишь в том, что индексами тут могут быть _не только цифры_. То есть у серии ключом может быть, например, строка. Это уже что-то более похожее на _словарь_, в котором данные хранятся в виде _ключей и значений_.\n",
    "\n",
    "Можно сразу создать серию с ключами в виде строк."
   ]
  },
  {
   "cell_type": "code",
   "execution_count": 11,
   "metadata": {},
   "outputs": [
    {
     "data": {
      "text/plain": [
       "A    1\n",
       "B    2\n",
       "C    3\n",
       "D    4\n",
       "E    5\n",
       "dtype: int64"
      ]
     },
     "execution_count": 11,
     "metadata": {},
     "output_type": "execute_result"
    }
   ],
   "source": [
    "s = pd.Series([1, 2, 3, 4, 5], index=['A', 'B', 'C', 'D', 'E'])\n",
    "\n",
    "s"
   ]
  },
  {
   "cell_type": "code",
   "execution_count": 12,
   "metadata": {},
   "outputs": [
    {
     "data": {
      "text/plain": [
       "5"
      ]
     },
     "execution_count": 12,
     "metadata": {},
     "output_type": "execute_result"
    }
   ],
   "source": [
    "len(s)"
   ]
  },
  {
   "cell_type": "markdown",
   "metadata": {},
   "source": [
    "Несмотря на то, что ключи у нас являются строками, получить значение можно и по _настоящему цифровому индексу – он никуда не делся_."
   ]
  },
  {
   "cell_type": "code",
   "execution_count": 13,
   "metadata": {},
   "outputs": [
    {
     "data": {
      "text/plain": [
       "1"
      ]
     },
     "execution_count": 13,
     "metadata": {},
     "output_type": "execute_result"
    }
   ],
   "source": [
    "s[0]"
   ]
  },
  {
   "cell_type": "markdown",
   "metadata": {},
   "source": [
    "На самом деле для работы с одномерными данными нам вполне достаточно обычных списков или же массивов Numpy. Но знать, что такая структура данных как Series в Pandas существует нужно. Более детально о ней можно почитать в [документации](https://pandas.pydata.org/pandas-docs/stable/user_guide/dsintro.html#series). Мы же далее более подробно будем говорить про Dataframe.\n",
    "\n",
    "### Dataframe\n",
    "\n",
    "Датафреймы, как я уже сказал выше, это удобный инструмент для работы с двухмерными данными, то есть с табличками.\n",
    "\n",
    "В самом начале лекции мы с вами делали таблицу из обычных питоновских списков. Давайте теперь перенесем ее в Pandas Dataframe."
   ]
  },
  {
   "cell_type": "code",
   "execution_count": 14,
   "metadata": {},
   "outputs": [],
   "source": [
    "table = [\n",
    "    [1, 2, 3], \n",
    "    [4, 5, 6], \n",
    "    [7, 8, 9]\n",
    "]\n",
    "\n",
    "df = pd.DataFrame(table)"
   ]
  },
  {
   "cell_type": "code",
   "execution_count": 15,
   "metadata": {},
   "outputs": [
    {
     "data": {
      "text/html": [
       "<div>\n",
       "<style scoped>\n",
       "    .dataframe tbody tr th:only-of-type {\n",
       "        vertical-align: middle;\n",
       "    }\n",
       "\n",
       "    .dataframe tbody tr th {\n",
       "        vertical-align: top;\n",
       "    }\n",
       "\n",
       "    .dataframe thead th {\n",
       "        text-align: right;\n",
       "    }\n",
       "</style>\n",
       "<table border=\"1\" class=\"dataframe\">\n",
       "  <thead>\n",
       "    <tr style=\"text-align: right;\">\n",
       "      <th></th>\n",
       "      <th>0</th>\n",
       "      <th>1</th>\n",
       "      <th>2</th>\n",
       "    </tr>\n",
       "  </thead>\n",
       "  <tbody>\n",
       "    <tr>\n",
       "      <th>0</th>\n",
       "      <td>1</td>\n",
       "      <td>2</td>\n",
       "      <td>3</td>\n",
       "    </tr>\n",
       "    <tr>\n",
       "      <th>1</th>\n",
       "      <td>4</td>\n",
       "      <td>5</td>\n",
       "      <td>6</td>\n",
       "    </tr>\n",
       "    <tr>\n",
       "      <th>2</th>\n",
       "      <td>7</td>\n",
       "      <td>8</td>\n",
       "      <td>9</td>\n",
       "    </tr>\n",
       "  </tbody>\n",
       "</table>\n",
       "</div>"
      ],
      "text/plain": [
       "   0  1  2\n",
       "0  1  2  3\n",
       "1  4  5  6\n",
       "2  7  8  9"
      ]
     },
     "execution_count": 15,
     "metadata": {},
     "output_type": "execute_result"
    }
   ],
   "source": [
    "df"
   ]
  },
  {
   "cell_type": "markdown",
   "metadata": {},
   "source": [
    "Выглядит гораздо симпатичнее :)\n",
    "\n",
    "_Обратите внимание – выделенными полужирным цифры сверху и слева показаны номера столбцов и строк таблицы. Поскольку мы их никак специально не задавали, они по-умолчанию стали цифрами._\n",
    "\n",
    "Давайте обратимся к первому столбцу таблицы:"
   ]
  },
  {
   "cell_type": "code",
   "execution_count": 16,
   "metadata": {},
   "outputs": [
    {
     "data": {
      "text/plain": [
       "0    1\n",
       "1    4\n",
       "2    7\n",
       "Name: 0, dtype: int64"
      ]
     },
     "execution_count": 16,
     "metadata": {},
     "output_type": "execute_result"
    }
   ],
   "source": [
    "df[0]"
   ]
  },
  {
   "cell_type": "markdown",
   "metadata": {},
   "source": [
    "Собственно, данные первого столбца нашей таблицы как раз упакованы в ту самую серию, у которой мы говорили выше.\n",
    "\n",
    "А вот так можно получить первую строку таблицы (нужно использовать специальный атрибут `loc`):"
   ]
  },
  {
   "cell_type": "code",
   "execution_count": 17,
   "metadata": {},
   "outputs": [
    {
     "data": {
      "text/plain": [
       "0    1\n",
       "1    2\n",
       "2    3\n",
       "Name: 0, dtype: int64"
      ]
     },
     "execution_count": 17,
     "metadata": {},
     "output_type": "execute_result"
    }
   ],
   "source": [
    "df.loc[0]"
   ]
  },
  {
   "cell_type": "markdown",
   "metadata": {},
   "source": [
    "Но давайте поработаем с чем-то более осмысленным. Например, создадим вот такую простеньку табличку с данными метеорологических наблюдений."
   ]
  },
  {
   "cell_type": "code",
   "execution_count": 324,
   "metadata": {},
   "outputs": [],
   "source": [
    "# делаем список с данными\n",
    "table = [\n",
    "    ['Moscow', 10.5, 45, 0],\n",
    "    ['Saint Petersburg', 7.3, 68, 1.2],\n",
    "    ['Vladivostok', 15.1, 57, 3.5],\n",
    "]\n",
    "\n",
    "# создаем датафрейм\n",
    "df = pd.DataFrame(table)"
   ]
  },
  {
   "cell_type": "code",
   "execution_count": 325,
   "metadata": {},
   "outputs": [
    {
     "data": {
      "text/html": [
       "<div>\n",
       "<style scoped>\n",
       "    .dataframe tbody tr th:only-of-type {\n",
       "        vertical-align: middle;\n",
       "    }\n",
       "\n",
       "    .dataframe tbody tr th {\n",
       "        vertical-align: top;\n",
       "    }\n",
       "\n",
       "    .dataframe thead th {\n",
       "        text-align: right;\n",
       "    }\n",
       "</style>\n",
       "<table border=\"1\" class=\"dataframe\">\n",
       "  <thead>\n",
       "    <tr style=\"text-align: right;\">\n",
       "      <th></th>\n",
       "      <th>0</th>\n",
       "      <th>1</th>\n",
       "      <th>2</th>\n",
       "      <th>3</th>\n",
       "    </tr>\n",
       "  </thead>\n",
       "  <tbody>\n",
       "    <tr>\n",
       "      <th>0</th>\n",
       "      <td>Moscow</td>\n",
       "      <td>10.5</td>\n",
       "      <td>45</td>\n",
       "      <td>0.0</td>\n",
       "    </tr>\n",
       "    <tr>\n",
       "      <th>1</th>\n",
       "      <td>Saint Petersburg</td>\n",
       "      <td>7.3</td>\n",
       "      <td>68</td>\n",
       "      <td>1.2</td>\n",
       "    </tr>\n",
       "    <tr>\n",
       "      <th>2</th>\n",
       "      <td>Vladivostok</td>\n",
       "      <td>15.1</td>\n",
       "      <td>57</td>\n",
       "      <td>3.5</td>\n",
       "    </tr>\n",
       "  </tbody>\n",
       "</table>\n",
       "</div>"
      ],
      "text/plain": [
       "                  0     1   2    3\n",
       "0            Moscow  10.5  45  0.0\n",
       "1  Saint Petersburg   7.3  68  1.2\n",
       "2       Vladivostok  15.1  57  3.5"
      ]
     },
     "execution_count": 325,
     "metadata": {},
     "output_type": "execute_result"
    }
   ],
   "source": [
    "df"
   ]
  },
  {
   "cell_type": "markdown",
   "metadata": {},
   "source": [
    "Все так, но что же скрывается за этими загадочными цифрами? Давайте сделаем нормальные и понятные названия столбцов."
   ]
  },
  {
   "cell_type": "code",
   "execution_count": 326,
   "metadata": {},
   "outputs": [
    {
     "data": {
      "text/html": [
       "<div>\n",
       "<style scoped>\n",
       "    .dataframe tbody tr th:only-of-type {\n",
       "        vertical-align: middle;\n",
       "    }\n",
       "\n",
       "    .dataframe tbody tr th {\n",
       "        vertical-align: top;\n",
       "    }\n",
       "\n",
       "    .dataframe thead th {\n",
       "        text-align: right;\n",
       "    }\n",
       "</style>\n",
       "<table border=\"1\" class=\"dataframe\">\n",
       "  <thead>\n",
       "    <tr style=\"text-align: right;\">\n",
       "      <th></th>\n",
       "      <th>City</th>\n",
       "      <th>Temperature</th>\n",
       "      <th>Humidity</th>\n",
       "      <th>Precipitation</th>\n",
       "    </tr>\n",
       "  </thead>\n",
       "  <tbody>\n",
       "    <tr>\n",
       "      <th>0</th>\n",
       "      <td>Moscow</td>\n",
       "      <td>10.5</td>\n",
       "      <td>45</td>\n",
       "      <td>0.0</td>\n",
       "    </tr>\n",
       "    <tr>\n",
       "      <th>1</th>\n",
       "      <td>Saint Petersburg</td>\n",
       "      <td>7.3</td>\n",
       "      <td>68</td>\n",
       "      <td>1.2</td>\n",
       "    </tr>\n",
       "    <tr>\n",
       "      <th>2</th>\n",
       "      <td>Vladivostok</td>\n",
       "      <td>15.1</td>\n",
       "      <td>57</td>\n",
       "      <td>3.5</td>\n",
       "    </tr>\n",
       "  </tbody>\n",
       "</table>\n",
       "</div>"
      ],
      "text/plain": [
       "               City  Temperature  Humidity  Precipitation\n",
       "0            Moscow         10.5        45            0.0\n",
       "1  Saint Petersburg          7.3        68            1.2\n",
       "2       Vladivostok         15.1        57            3.5"
      ]
     },
     "execution_count": 326,
     "metadata": {},
     "output_type": "execute_result"
    }
   ],
   "source": [
    "# указываем названия столбцов\n",
    "df.columns = ['City', 'Temperature', 'Humidity', 'Precipitation']\n",
    "df"
   ]
  },
  {
   "cell_type": "markdown",
   "metadata": {},
   "source": [
    "Так гораздо лучше, но хорошо бы _индексами строк_ – там где сейчас `0,1,2` сделать названия городов. И так сделать можно с помощью метода `.set_index(column_name)`, который принимает название колонки, которую мы хотим сделать индексом.\n",
    "\n",
    "Еще можно сразу при создании датафрейма передать параметр `index_col`.\n",
    "\n",
    "_Удалить индекс можно с помощью метода `reset_index(...)`_."
   ]
  },
  {
   "cell_type": "code",
   "execution_count": 327,
   "metadata": {},
   "outputs": [
    {
     "data": {
      "text/html": [
       "<div>\n",
       "<style scoped>\n",
       "    .dataframe tbody tr th:only-of-type {\n",
       "        vertical-align: middle;\n",
       "    }\n",
       "\n",
       "    .dataframe tbody tr th {\n",
       "        vertical-align: top;\n",
       "    }\n",
       "\n",
       "    .dataframe thead th {\n",
       "        text-align: right;\n",
       "    }\n",
       "</style>\n",
       "<table border=\"1\" class=\"dataframe\">\n",
       "  <thead>\n",
       "    <tr style=\"text-align: right;\">\n",
       "      <th></th>\n",
       "      <th>Temperature</th>\n",
       "      <th>Humidity</th>\n",
       "      <th>Precipitation</th>\n",
       "    </tr>\n",
       "    <tr>\n",
       "      <th>City</th>\n",
       "      <th></th>\n",
       "      <th></th>\n",
       "      <th></th>\n",
       "    </tr>\n",
       "  </thead>\n",
       "  <tbody>\n",
       "    <tr>\n",
       "      <th>Moscow</th>\n",
       "      <td>10.5</td>\n",
       "      <td>45</td>\n",
       "      <td>0.0</td>\n",
       "    </tr>\n",
       "    <tr>\n",
       "      <th>Saint Petersburg</th>\n",
       "      <td>7.3</td>\n",
       "      <td>68</td>\n",
       "      <td>1.2</td>\n",
       "    </tr>\n",
       "    <tr>\n",
       "      <th>Vladivostok</th>\n",
       "      <td>15.1</td>\n",
       "      <td>57</td>\n",
       "      <td>3.5</td>\n",
       "    </tr>\n",
       "  </tbody>\n",
       "</table>\n",
       "</div>"
      ],
      "text/plain": [
       "                  Temperature  Humidity  Precipitation\n",
       "City                                                  \n",
       "Moscow                   10.5        45            0.0\n",
       "Saint Petersburg          7.3        68            1.2\n",
       "Vladivostok              15.1        57            3.5"
      ]
     },
     "execution_count": 327,
     "metadata": {},
     "output_type": "execute_result"
    }
   ],
   "source": [
    "df = df.set_index('City')\n",
    "df"
   ]
  },
  {
   "cell_type": "markdown",
   "metadata": {},
   "source": [
    "Теперь мы можем удобно обращаться к столбцам и колонкам. Например, мы хотим посмотреть, все данные по Москве:"
   ]
  },
  {
   "cell_type": "code",
   "execution_count": 328,
   "metadata": {},
   "outputs": [
    {
     "data": {
      "text/plain": [
       "Temperature      10.5\n",
       "Humidity         45.0\n",
       "Precipitation     0.0\n",
       "Name: Moscow, dtype: float64"
      ]
     },
     "execution_count": 328,
     "metadata": {},
     "output_type": "execute_result"
    }
   ],
   "source": [
    "df.loc['Moscow']"
   ]
  },
  {
   "cell_type": "markdown",
   "metadata": {},
   "source": [
    "...или получить все данные по осадкам (то есть по столбцу):"
   ]
  },
  {
   "cell_type": "code",
   "execution_count": 329,
   "metadata": {},
   "outputs": [
    {
     "data": {
      "text/plain": [
       "City\n",
       "Moscow              0.0\n",
       "Saint Petersburg    1.2\n",
       "Vladivostok         3.5\n",
       "Name: Precipitation, dtype: float64"
      ]
     },
     "execution_count": 329,
     "metadata": {},
     "output_type": "execute_result"
    }
   ],
   "source": [
    "df['Precipitation']"
   ]
  },
  {
   "cell_type": "markdown",
   "metadata": {},
   "source": [
    "Кстати, Pandas позволяет обращаться к столбцам без скобок, вот так:"
   ]
  },
  {
   "cell_type": "code",
   "execution_count": 330,
   "metadata": {},
   "outputs": [
    {
     "data": {
      "text/plain": [
       "City\n",
       "Moscow              10.5\n",
       "Saint Petersburg     7.3\n",
       "Vladivostok         15.1\n",
       "Name: Temperature, dtype: float64"
      ]
     },
     "execution_count": 330,
     "metadata": {},
     "output_type": "execute_result"
    }
   ],
   "source": [
    "df.Temperature"
   ]
  },
  {
   "cell_type": "markdown",
   "metadata": {},
   "source": [
    "_Но лучше так не делать, потому что так работает только в том случае, если название вашего столбца это одно слово. Если бы столбец назывался, например, не `Temperature`, а `Temperature, C`, то такое обращение уже вызвало бы ошибку_."
   ]
  },
  {
   "cell_type": "markdown",
   "metadata": {},
   "source": [
    "Мы можем получить данные по осадкам в Москве, то есть обратиться к _конкретной ячейке таблицы_:"
   ]
  },
  {
   "cell_type": "code",
   "execution_count": 331,
   "metadata": {},
   "outputs": [
    {
     "data": {
      "text/plain": [
       "0.0"
      ]
     },
     "execution_count": 331,
     "metadata": {},
     "output_type": "execute_result"
    }
   ],
   "source": [
    "df.at['Moscow', 'Precipitation']"
   ]
  },
  {
   "cell_type": "markdown",
   "metadata": {},
   "source": [
    "А еще можем переопределить значение этой ячейки:"
   ]
  },
  {
   "cell_type": "code",
   "execution_count": 332,
   "metadata": {},
   "outputs": [
    {
     "data": {
      "text/html": [
       "<div>\n",
       "<style scoped>\n",
       "    .dataframe tbody tr th:only-of-type {\n",
       "        vertical-align: middle;\n",
       "    }\n",
       "\n",
       "    .dataframe tbody tr th {\n",
       "        vertical-align: top;\n",
       "    }\n",
       "\n",
       "    .dataframe thead th {\n",
       "        text-align: right;\n",
       "    }\n",
       "</style>\n",
       "<table border=\"1\" class=\"dataframe\">\n",
       "  <thead>\n",
       "    <tr style=\"text-align: right;\">\n",
       "      <th></th>\n",
       "      <th>Temperature</th>\n",
       "      <th>Humidity</th>\n",
       "      <th>Precipitation</th>\n",
       "    </tr>\n",
       "    <tr>\n",
       "      <th>City</th>\n",
       "      <th></th>\n",
       "      <th></th>\n",
       "      <th></th>\n",
       "    </tr>\n",
       "  </thead>\n",
       "  <tbody>\n",
       "    <tr>\n",
       "      <th>Moscow</th>\n",
       "      <td>10.5</td>\n",
       "      <td>45</td>\n",
       "      <td>15.0</td>\n",
       "    </tr>\n",
       "    <tr>\n",
       "      <th>Saint Petersburg</th>\n",
       "      <td>7.3</td>\n",
       "      <td>68</td>\n",
       "      <td>1.2</td>\n",
       "    </tr>\n",
       "    <tr>\n",
       "      <th>Vladivostok</th>\n",
       "      <td>15.1</td>\n",
       "      <td>57</td>\n",
       "      <td>3.5</td>\n",
       "    </tr>\n",
       "  </tbody>\n",
       "</table>\n",
       "</div>"
      ],
      "text/plain": [
       "                  Temperature  Humidity  Precipitation\n",
       "City                                                  \n",
       "Moscow                   10.5        45           15.0\n",
       "Saint Petersburg          7.3        68            1.2\n",
       "Vladivostok              15.1        57            3.5"
      ]
     },
     "execution_count": 332,
     "metadata": {},
     "output_type": "execute_result"
    }
   ],
   "source": [
    "df.at['Moscow', 'Precipitation'] = 15.0\n",
    "df"
   ]
  },
  {
   "cell_type": "markdown",
   "metadata": {},
   "source": [
    "Кстати, об индексах – мы всегда можем проверить, какие у нашего датафрейма индексы с помощью специального метода:"
   ]
  },
  {
   "cell_type": "code",
   "execution_count": 333,
   "metadata": {},
   "outputs": [
    {
     "data": {
      "text/plain": [
       "Index(['Moscow', 'Saint Petersburg', 'Vladivostok'], dtype='object', name='City')"
      ]
     },
     "execution_count": 333,
     "metadata": {},
     "output_type": "execute_result"
    }
   ],
   "source": [
    "df.index"
   ]
  },
  {
   "cell_type": "markdown",
   "metadata": {},
   "source": [
    "И какие колонки тоже"
   ]
  },
  {
   "cell_type": "code",
   "execution_count": 334,
   "metadata": {},
   "outputs": [
    {
     "data": {
      "text/plain": [
       "Index(['Temperature', 'Humidity', 'Precipitation'], dtype='object')"
      ]
     },
     "execution_count": 334,
     "metadata": {},
     "output_type": "execute_result"
    }
   ],
   "source": [
    "df.columns"
   ]
  },
  {
   "cell_type": "markdown",
   "metadata": {},
   "source": [
    "### Срезы и сложности синтаксиса\n",
    "\n",
    "Как мы уже знаем, если мы напишем просто квадратные скобки после названия датафрейма, то получим колонку:"
   ]
  },
  {
   "cell_type": "code",
   "execution_count": 335,
   "metadata": {},
   "outputs": [
    {
     "data": {
      "text/plain": [
       "City\n",
       "Moscow              10.5\n",
       "Saint Petersburg     7.3\n",
       "Vladivostok         15.1\n",
       "Name: Temperature, dtype: float64"
      ]
     },
     "execution_count": 335,
     "metadata": {},
     "output_type": "execute_result"
    }
   ],
   "source": [
    "df['Temperature']"
   ]
  },
  {
   "cell_type": "markdown",
   "metadata": {},
   "source": [
    "А вот если мы передадим туда два _индексных (числовых)_ значения через двоеточие, то получим срез в виде нового датафрейма. Правила те же, что и в срезах у списков – левая граница включается, а правая нет:"
   ]
  },
  {
   "cell_type": "code",
   "execution_count": 336,
   "metadata": {},
   "outputs": [
    {
     "data": {
      "text/html": [
       "<div>\n",
       "<style scoped>\n",
       "    .dataframe tbody tr th:only-of-type {\n",
       "        vertical-align: middle;\n",
       "    }\n",
       "\n",
       "    .dataframe tbody tr th {\n",
       "        vertical-align: top;\n",
       "    }\n",
       "\n",
       "    .dataframe thead th {\n",
       "        text-align: right;\n",
       "    }\n",
       "</style>\n",
       "<table border=\"1\" class=\"dataframe\">\n",
       "  <thead>\n",
       "    <tr style=\"text-align: right;\">\n",
       "      <th></th>\n",
       "      <th>Temperature</th>\n",
       "      <th>Humidity</th>\n",
       "      <th>Precipitation</th>\n",
       "    </tr>\n",
       "    <tr>\n",
       "      <th>City</th>\n",
       "      <th></th>\n",
       "      <th></th>\n",
       "      <th></th>\n",
       "    </tr>\n",
       "  </thead>\n",
       "  <tbody>\n",
       "    <tr>\n",
       "      <th>Moscow</th>\n",
       "      <td>10.5</td>\n",
       "      <td>45</td>\n",
       "      <td>15.0</td>\n",
       "    </tr>\n",
       "    <tr>\n",
       "      <th>Saint Petersburg</th>\n",
       "      <td>7.3</td>\n",
       "      <td>68</td>\n",
       "      <td>1.2</td>\n",
       "    </tr>\n",
       "  </tbody>\n",
       "</table>\n",
       "</div>"
      ],
      "text/plain": [
       "                  Temperature  Humidity  Precipitation\n",
       "City                                                  \n",
       "Moscow                   10.5        45           15.0\n",
       "Saint Petersburg          7.3        68            1.2"
      ]
     },
     "execution_count": 336,
     "metadata": {},
     "output_type": "execute_result"
    }
   ],
   "source": [
    "df[0:2]"
   ]
  },
  {
   "cell_type": "markdown",
   "metadata": {},
   "source": [
    "Еще срезы можно делать не по номерам строк, а по именам. И в этом случае обе границы будут включающими :)\n",
    "\n",
    "Что поделать, это просто придется запомнить:"
   ]
  },
  {
   "cell_type": "code",
   "execution_count": 337,
   "metadata": {},
   "outputs": [
    {
     "data": {
      "text/html": [
       "<div>\n",
       "<style scoped>\n",
       "    .dataframe tbody tr th:only-of-type {\n",
       "        vertical-align: middle;\n",
       "    }\n",
       "\n",
       "    .dataframe tbody tr th {\n",
       "        vertical-align: top;\n",
       "    }\n",
       "\n",
       "    .dataframe thead th {\n",
       "        text-align: right;\n",
       "    }\n",
       "</style>\n",
       "<table border=\"1\" class=\"dataframe\">\n",
       "  <thead>\n",
       "    <tr style=\"text-align: right;\">\n",
       "      <th></th>\n",
       "      <th>Temperature</th>\n",
       "      <th>Humidity</th>\n",
       "      <th>Precipitation</th>\n",
       "    </tr>\n",
       "    <tr>\n",
       "      <th>City</th>\n",
       "      <th></th>\n",
       "      <th></th>\n",
       "      <th></th>\n",
       "    </tr>\n",
       "  </thead>\n",
       "  <tbody>\n",
       "    <tr>\n",
       "      <th>Moscow</th>\n",
       "      <td>10.5</td>\n",
       "      <td>45</td>\n",
       "      <td>15.0</td>\n",
       "    </tr>\n",
       "    <tr>\n",
       "      <th>Saint Petersburg</th>\n",
       "      <td>7.3</td>\n",
       "      <td>68</td>\n",
       "      <td>1.2</td>\n",
       "    </tr>\n",
       "  </tbody>\n",
       "</table>\n",
       "</div>"
      ],
      "text/plain": [
       "                  Temperature  Humidity  Precipitation\n",
       "City                                                  \n",
       "Moscow                   10.5        45           15.0\n",
       "Saint Petersburg          7.3        68            1.2"
      ]
     },
     "execution_count": 337,
     "metadata": {},
     "output_type": "execute_result"
    }
   ],
   "source": [
    "df['Moscow':'Saint Petersburg']"
   ]
  },
  {
   "cell_type": "markdown",
   "metadata": {},
   "source": [
    "Есть еще вот такой способ, позволяющий получить весь столбец в виде нового Dataframe. Обратите внимание, что запись вида `df['Temperature']`, которую мы делали выше, возврвщает нам данные столбца в виде Series. А запись вида `df[:'Temperature']`, когда мы используем срез, – новый Dataframe."
   ]
  },
  {
   "cell_type": "code",
   "execution_count": 338,
   "metadata": {},
   "outputs": [
    {
     "data": {
      "text/html": [
       "<div>\n",
       "<style scoped>\n",
       "    .dataframe tbody tr th:only-of-type {\n",
       "        vertical-align: middle;\n",
       "    }\n",
       "\n",
       "    .dataframe tbody tr th {\n",
       "        vertical-align: top;\n",
       "    }\n",
       "\n",
       "    .dataframe thead th {\n",
       "        text-align: right;\n",
       "    }\n",
       "</style>\n",
       "<table border=\"1\" class=\"dataframe\">\n",
       "  <thead>\n",
       "    <tr style=\"text-align: right;\">\n",
       "      <th></th>\n",
       "      <th>Temperature</th>\n",
       "      <th>Humidity</th>\n",
       "      <th>Precipitation</th>\n",
       "    </tr>\n",
       "    <tr>\n",
       "      <th>City</th>\n",
       "      <th></th>\n",
       "      <th></th>\n",
       "      <th></th>\n",
       "    </tr>\n",
       "  </thead>\n",
       "  <tbody>\n",
       "    <tr>\n",
       "      <th>Moscow</th>\n",
       "      <td>10.5</td>\n",
       "      <td>45</td>\n",
       "      <td>15.0</td>\n",
       "    </tr>\n",
       "    <tr>\n",
       "      <th>Saint Petersburg</th>\n",
       "      <td>7.3</td>\n",
       "      <td>68</td>\n",
       "      <td>1.2</td>\n",
       "    </tr>\n",
       "  </tbody>\n",
       "</table>\n",
       "</div>"
      ],
      "text/plain": [
       "                  Temperature  Humidity  Precipitation\n",
       "City                                                  \n",
       "Moscow                   10.5        45           15.0\n",
       "Saint Petersburg          7.3        68            1.2"
      ]
     },
     "execution_count": 338,
     "metadata": {},
     "output_type": "execute_result"
    }
   ],
   "source": [
    "df[:'Temperature']"
   ]
  },
  {
   "cell_type": "code",
   "execution_count": 339,
   "metadata": {},
   "outputs": [
    {
     "data": {
      "text/plain": [
       "City\n",
       "Moscow              10.5\n",
       "Saint Petersburg     7.3\n",
       "Vladivostok         15.1\n",
       "Name: Temperature, dtype: float64"
      ]
     },
     "execution_count": 339,
     "metadata": {},
     "output_type": "execute_result"
    }
   ],
   "source": [
    "df['Temperature']"
   ]
  },
  {
   "cell_type": "markdown",
   "metadata": {},
   "source": [
    "Со строками это, кстати, тоже работает:"
   ]
  },
  {
   "cell_type": "code",
   "execution_count": 340,
   "metadata": {},
   "outputs": [
    {
     "data": {
      "text/html": [
       "<div>\n",
       "<style scoped>\n",
       "    .dataframe tbody tr th:only-of-type {\n",
       "        vertical-align: middle;\n",
       "    }\n",
       "\n",
       "    .dataframe tbody tr th {\n",
       "        vertical-align: top;\n",
       "    }\n",
       "\n",
       "    .dataframe thead th {\n",
       "        text-align: right;\n",
       "    }\n",
       "</style>\n",
       "<table border=\"1\" class=\"dataframe\">\n",
       "  <thead>\n",
       "    <tr style=\"text-align: right;\">\n",
       "      <th></th>\n",
       "      <th>Temperature</th>\n",
       "      <th>Humidity</th>\n",
       "      <th>Precipitation</th>\n",
       "    </tr>\n",
       "    <tr>\n",
       "      <th>City</th>\n",
       "      <th></th>\n",
       "      <th></th>\n",
       "      <th></th>\n",
       "    </tr>\n",
       "  </thead>\n",
       "  <tbody>\n",
       "    <tr>\n",
       "      <th>Moscow</th>\n",
       "      <td>10.5</td>\n",
       "      <td>45</td>\n",
       "      <td>15.0</td>\n",
       "    </tr>\n",
       "  </tbody>\n",
       "</table>\n",
       "</div>"
      ],
      "text/plain": [
       "        Temperature  Humidity  Precipitation\n",
       "City                                        \n",
       "Moscow         10.5        45           15.0"
      ]
     },
     "execution_count": 340,
     "metadata": {},
     "output_type": "execute_result"
    }
   ],
   "source": [
    "df.loc[:'Moscow']"
   ]
  },
  {
   "cell_type": "code",
   "execution_count": 341,
   "metadata": {},
   "outputs": [
    {
     "data": {
      "text/plain": [
       "Temperature      10.5\n",
       "Humidity         45.0\n",
       "Precipitation    15.0\n",
       "Name: Moscow, dtype: float64"
      ]
     },
     "execution_count": 341,
     "metadata": {},
     "output_type": "execute_result"
    }
   ],
   "source": [
    "df.loc['Moscow']"
   ]
  },
  {
   "cell_type": "markdown",
   "metadata": {},
   "source": [
    "### Обращение по имени и по индексу: `loc` и `iloc` / `at` и `iat`\n",
    "\n",
    "Мы уже поняли, что запись `df.loc['name']` позволяет нам обращаться к строкам таблицы по именам. Однако, если вы вдруг захотите обратиться к N-ой строке этой таблицы, использование `loc` выдаст ошибку. "
   ]
  },
  {
   "cell_type": "code",
   "execution_count": 113,
   "metadata": {},
   "outputs": [
    {
     "ename": "KeyError",
     "evalue": "1",
     "output_type": "error",
     "traceback": [
      "\u001b[0;31m---------------------------------------------------------------------------\u001b[0m",
      "\u001b[0;31mKeyError\u001b[0m                                  Traceback (most recent call last)",
      "\u001b[0;32m/usr/local/lib/python3.8/dist-packages/pandas/core/indexes/base.py\u001b[0m in \u001b[0;36mget_loc\u001b[0;34m(self, key, method, tolerance)\u001b[0m\n\u001b[1;32m   2894\u001b[0m             \u001b[0;32mtry\u001b[0m\u001b[0;34m:\u001b[0m\u001b[0;34m\u001b[0m\u001b[0;34m\u001b[0m\u001b[0m\n\u001b[0;32m-> 2895\u001b[0;31m                 \u001b[0;32mreturn\u001b[0m \u001b[0mself\u001b[0m\u001b[0;34m.\u001b[0m\u001b[0m_engine\u001b[0m\u001b[0;34m.\u001b[0m\u001b[0mget_loc\u001b[0m\u001b[0;34m(\u001b[0m\u001b[0mcasted_key\u001b[0m\u001b[0;34m)\u001b[0m\u001b[0;34m\u001b[0m\u001b[0;34m\u001b[0m\u001b[0m\n\u001b[0m\u001b[1;32m   2896\u001b[0m             \u001b[0;32mexcept\u001b[0m \u001b[0mKeyError\u001b[0m \u001b[0;32mas\u001b[0m \u001b[0merr\u001b[0m\u001b[0;34m:\u001b[0m\u001b[0;34m\u001b[0m\u001b[0;34m\u001b[0m\u001b[0m\n",
      "\u001b[0;32mpandas/_libs/index.pyx\u001b[0m in \u001b[0;36mpandas._libs.index.IndexEngine.get_loc\u001b[0;34m()\u001b[0m\n",
      "\u001b[0;32mpandas/_libs/index.pyx\u001b[0m in \u001b[0;36mpandas._libs.index.IndexEngine.get_loc\u001b[0;34m()\u001b[0m\n",
      "\u001b[0;32mpandas/_libs/hashtable_class_helper.pxi\u001b[0m in \u001b[0;36mpandas._libs.hashtable.PyObjectHashTable.get_item\u001b[0;34m()\u001b[0m\n",
      "\u001b[0;32mpandas/_libs/hashtable_class_helper.pxi\u001b[0m in \u001b[0;36mpandas._libs.hashtable.PyObjectHashTable.get_item\u001b[0;34m()\u001b[0m\n",
      "\u001b[0;31mKeyError\u001b[0m: 1",
      "\nThe above exception was the direct cause of the following exception:\n",
      "\u001b[0;31mKeyError\u001b[0m                                  Traceback (most recent call last)",
      "\u001b[0;32m<ipython-input-113-1f09d9ff6611>\u001b[0m in \u001b[0;36m<module>\u001b[0;34m\u001b[0m\n\u001b[0;32m----> 1\u001b[0;31m \u001b[0mdf\u001b[0m\u001b[0;34m.\u001b[0m\u001b[0mloc\u001b[0m\u001b[0;34m[\u001b[0m\u001b[0;36m1\u001b[0m\u001b[0;34m]\u001b[0m\u001b[0;34m\u001b[0m\u001b[0;34m\u001b[0m\u001b[0m\n\u001b[0m",
      "\u001b[0;32m/usr/local/lib/python3.8/dist-packages/pandas/core/indexing.py\u001b[0m in \u001b[0;36m__getitem__\u001b[0;34m(self, key)\u001b[0m\n\u001b[1;32m    877\u001b[0m \u001b[0;34m\u001b[0m\u001b[0m\n\u001b[1;32m    878\u001b[0m             \u001b[0mmaybe_callable\u001b[0m \u001b[0;34m=\u001b[0m \u001b[0mcom\u001b[0m\u001b[0;34m.\u001b[0m\u001b[0mapply_if_callable\u001b[0m\u001b[0;34m(\u001b[0m\u001b[0mkey\u001b[0m\u001b[0;34m,\u001b[0m \u001b[0mself\u001b[0m\u001b[0;34m.\u001b[0m\u001b[0mobj\u001b[0m\u001b[0;34m)\u001b[0m\u001b[0;34m\u001b[0m\u001b[0;34m\u001b[0m\u001b[0m\n\u001b[0;32m--> 879\u001b[0;31m             \u001b[0;32mreturn\u001b[0m \u001b[0mself\u001b[0m\u001b[0;34m.\u001b[0m\u001b[0m_getitem_axis\u001b[0m\u001b[0;34m(\u001b[0m\u001b[0mmaybe_callable\u001b[0m\u001b[0;34m,\u001b[0m \u001b[0maxis\u001b[0m\u001b[0;34m=\u001b[0m\u001b[0maxis\u001b[0m\u001b[0;34m)\u001b[0m\u001b[0;34m\u001b[0m\u001b[0;34m\u001b[0m\u001b[0m\n\u001b[0m\u001b[1;32m    880\u001b[0m \u001b[0;34m\u001b[0m\u001b[0m\n\u001b[1;32m    881\u001b[0m     \u001b[0;32mdef\u001b[0m \u001b[0m_is_scalar_access\u001b[0m\u001b[0;34m(\u001b[0m\u001b[0mself\u001b[0m\u001b[0;34m,\u001b[0m \u001b[0mkey\u001b[0m\u001b[0;34m:\u001b[0m \u001b[0mTuple\u001b[0m\u001b[0;34m)\u001b[0m\u001b[0;34m:\u001b[0m\u001b[0;34m\u001b[0m\u001b[0;34m\u001b[0m\u001b[0m\n",
      "\u001b[0;32m/usr/local/lib/python3.8/dist-packages/pandas/core/indexing.py\u001b[0m in \u001b[0;36m_getitem_axis\u001b[0;34m(self, key, axis)\u001b[0m\n\u001b[1;32m   1108\u001b[0m         \u001b[0;31m# fall thru to straight lookup\u001b[0m\u001b[0;34m\u001b[0m\u001b[0;34m\u001b[0m\u001b[0;34m\u001b[0m\u001b[0m\n\u001b[1;32m   1109\u001b[0m         \u001b[0mself\u001b[0m\u001b[0;34m.\u001b[0m\u001b[0m_validate_key\u001b[0m\u001b[0;34m(\u001b[0m\u001b[0mkey\u001b[0m\u001b[0;34m,\u001b[0m \u001b[0maxis\u001b[0m\u001b[0;34m)\u001b[0m\u001b[0;34m\u001b[0m\u001b[0;34m\u001b[0m\u001b[0m\n\u001b[0;32m-> 1110\u001b[0;31m         \u001b[0;32mreturn\u001b[0m \u001b[0mself\u001b[0m\u001b[0;34m.\u001b[0m\u001b[0m_get_label\u001b[0m\u001b[0;34m(\u001b[0m\u001b[0mkey\u001b[0m\u001b[0;34m,\u001b[0m \u001b[0maxis\u001b[0m\u001b[0;34m=\u001b[0m\u001b[0maxis\u001b[0m\u001b[0;34m)\u001b[0m\u001b[0;34m\u001b[0m\u001b[0;34m\u001b[0m\u001b[0m\n\u001b[0m\u001b[1;32m   1111\u001b[0m \u001b[0;34m\u001b[0m\u001b[0m\n\u001b[1;32m   1112\u001b[0m     \u001b[0;32mdef\u001b[0m \u001b[0m_get_slice_axis\u001b[0m\u001b[0;34m(\u001b[0m\u001b[0mself\u001b[0m\u001b[0;34m,\u001b[0m \u001b[0mslice_obj\u001b[0m\u001b[0;34m:\u001b[0m \u001b[0mslice\u001b[0m\u001b[0;34m,\u001b[0m \u001b[0maxis\u001b[0m\u001b[0;34m:\u001b[0m \u001b[0mint\u001b[0m\u001b[0;34m)\u001b[0m\u001b[0;34m:\u001b[0m\u001b[0;34m\u001b[0m\u001b[0;34m\u001b[0m\u001b[0m\n",
      "\u001b[0;32m/usr/local/lib/python3.8/dist-packages/pandas/core/indexing.py\u001b[0m in \u001b[0;36m_get_label\u001b[0;34m(self, label, axis)\u001b[0m\n\u001b[1;32m   1057\u001b[0m     \u001b[0;32mdef\u001b[0m \u001b[0m_get_label\u001b[0m\u001b[0;34m(\u001b[0m\u001b[0mself\u001b[0m\u001b[0;34m,\u001b[0m \u001b[0mlabel\u001b[0m\u001b[0;34m,\u001b[0m \u001b[0maxis\u001b[0m\u001b[0;34m:\u001b[0m \u001b[0mint\u001b[0m\u001b[0;34m)\u001b[0m\u001b[0;34m:\u001b[0m\u001b[0;34m\u001b[0m\u001b[0;34m\u001b[0m\u001b[0m\n\u001b[1;32m   1058\u001b[0m         \u001b[0;31m# GH#5667 this will fail if the label is not present in the axis.\u001b[0m\u001b[0;34m\u001b[0m\u001b[0;34m\u001b[0m\u001b[0;34m\u001b[0m\u001b[0m\n\u001b[0;32m-> 1059\u001b[0;31m         \u001b[0;32mreturn\u001b[0m \u001b[0mself\u001b[0m\u001b[0;34m.\u001b[0m\u001b[0mobj\u001b[0m\u001b[0;34m.\u001b[0m\u001b[0mxs\u001b[0m\u001b[0;34m(\u001b[0m\u001b[0mlabel\u001b[0m\u001b[0;34m,\u001b[0m \u001b[0maxis\u001b[0m\u001b[0;34m=\u001b[0m\u001b[0maxis\u001b[0m\u001b[0;34m)\u001b[0m\u001b[0;34m\u001b[0m\u001b[0;34m\u001b[0m\u001b[0m\n\u001b[0m\u001b[1;32m   1060\u001b[0m \u001b[0;34m\u001b[0m\u001b[0m\n\u001b[1;32m   1061\u001b[0m     \u001b[0;32mdef\u001b[0m \u001b[0m_handle_lowerdim_multi_index_axis0\u001b[0m\u001b[0;34m(\u001b[0m\u001b[0mself\u001b[0m\u001b[0;34m,\u001b[0m \u001b[0mtup\u001b[0m\u001b[0;34m:\u001b[0m \u001b[0mTuple\u001b[0m\u001b[0;34m)\u001b[0m\u001b[0;34m:\u001b[0m\u001b[0;34m\u001b[0m\u001b[0;34m\u001b[0m\u001b[0m\n",
      "\u001b[0;32m/usr/local/lib/python3.8/dist-packages/pandas/core/generic.py\u001b[0m in \u001b[0;36mxs\u001b[0;34m(self, key, axis, level, drop_level)\u001b[0m\n\u001b[1;32m   3489\u001b[0m             \u001b[0mloc\u001b[0m\u001b[0;34m,\u001b[0m \u001b[0mnew_index\u001b[0m \u001b[0;34m=\u001b[0m \u001b[0mself\u001b[0m\u001b[0;34m.\u001b[0m\u001b[0mindex\u001b[0m\u001b[0;34m.\u001b[0m\u001b[0mget_loc_level\u001b[0m\u001b[0;34m(\u001b[0m\u001b[0mkey\u001b[0m\u001b[0;34m,\u001b[0m \u001b[0mdrop_level\u001b[0m\u001b[0;34m=\u001b[0m\u001b[0mdrop_level\u001b[0m\u001b[0;34m)\u001b[0m\u001b[0;34m\u001b[0m\u001b[0;34m\u001b[0m\u001b[0m\n\u001b[1;32m   3490\u001b[0m         \u001b[0;32melse\u001b[0m\u001b[0;34m:\u001b[0m\u001b[0;34m\u001b[0m\u001b[0;34m\u001b[0m\u001b[0m\n\u001b[0;32m-> 3491\u001b[0;31m             \u001b[0mloc\u001b[0m \u001b[0;34m=\u001b[0m \u001b[0mself\u001b[0m\u001b[0;34m.\u001b[0m\u001b[0mindex\u001b[0m\u001b[0;34m.\u001b[0m\u001b[0mget_loc\u001b[0m\u001b[0;34m(\u001b[0m\u001b[0mkey\u001b[0m\u001b[0;34m)\u001b[0m\u001b[0;34m\u001b[0m\u001b[0;34m\u001b[0m\u001b[0m\n\u001b[0m\u001b[1;32m   3492\u001b[0m \u001b[0;34m\u001b[0m\u001b[0m\n\u001b[1;32m   3493\u001b[0m             \u001b[0;32mif\u001b[0m \u001b[0misinstance\u001b[0m\u001b[0;34m(\u001b[0m\u001b[0mloc\u001b[0m\u001b[0;34m,\u001b[0m \u001b[0mnp\u001b[0m\u001b[0;34m.\u001b[0m\u001b[0mndarray\u001b[0m\u001b[0;34m)\u001b[0m\u001b[0;34m:\u001b[0m\u001b[0;34m\u001b[0m\u001b[0;34m\u001b[0m\u001b[0m\n",
      "\u001b[0;32m/usr/local/lib/python3.8/dist-packages/pandas/core/indexes/base.py\u001b[0m in \u001b[0;36mget_loc\u001b[0;34m(self, key, method, tolerance)\u001b[0m\n\u001b[1;32m   2895\u001b[0m                 \u001b[0;32mreturn\u001b[0m \u001b[0mself\u001b[0m\u001b[0;34m.\u001b[0m\u001b[0m_engine\u001b[0m\u001b[0;34m.\u001b[0m\u001b[0mget_loc\u001b[0m\u001b[0;34m(\u001b[0m\u001b[0mcasted_key\u001b[0m\u001b[0;34m)\u001b[0m\u001b[0;34m\u001b[0m\u001b[0;34m\u001b[0m\u001b[0m\n\u001b[1;32m   2896\u001b[0m             \u001b[0;32mexcept\u001b[0m \u001b[0mKeyError\u001b[0m \u001b[0;32mas\u001b[0m \u001b[0merr\u001b[0m\u001b[0;34m:\u001b[0m\u001b[0;34m\u001b[0m\u001b[0;34m\u001b[0m\u001b[0m\n\u001b[0;32m-> 2897\u001b[0;31m                 \u001b[0;32mraise\u001b[0m \u001b[0mKeyError\u001b[0m\u001b[0;34m(\u001b[0m\u001b[0mkey\u001b[0m\u001b[0;34m)\u001b[0m \u001b[0;32mfrom\u001b[0m \u001b[0merr\u001b[0m\u001b[0;34m\u001b[0m\u001b[0;34m\u001b[0m\u001b[0m\n\u001b[0m\u001b[1;32m   2898\u001b[0m \u001b[0;34m\u001b[0m\u001b[0m\n\u001b[1;32m   2899\u001b[0m         \u001b[0;32mif\u001b[0m \u001b[0mtolerance\u001b[0m \u001b[0;32mis\u001b[0m \u001b[0;32mnot\u001b[0m \u001b[0;32mNone\u001b[0m\u001b[0;34m:\u001b[0m\u001b[0;34m\u001b[0m\u001b[0;34m\u001b[0m\u001b[0m\n",
      "\u001b[0;31mKeyError\u001b[0m: 1"
     ]
    }
   ],
   "source": [
    "df.loc[1]"
   ]
  },
  {
   "cell_type": "markdown",
   "metadata": {},
   "source": [
    "Python в данном случае ожидает, что мы передадим именно _ключ_, но такого ключа в нашем датафрейме нет. Чтобы обратиться к строке по ее индексу (номеру), нужно использовать `iloc`:"
   ]
  },
  {
   "cell_type": "code",
   "execution_count": 114,
   "metadata": {},
   "outputs": [
    {
     "data": {
      "text/plain": [
       "Temperature       7.3\n",
       "Humidity         68.0\n",
       "Precipitation     1.2\n",
       "Name: Saint Petersburg, dtype: float64"
      ]
     },
     "execution_count": 114,
     "metadata": {},
     "output_type": "execute_result"
    }
   ],
   "source": [
    "df.iloc[1]"
   ]
  },
  {
   "cell_type": "code",
   "execution_count": 115,
   "metadata": {},
   "outputs": [
    {
     "data": {
      "text/html": [
       "<div>\n",
       "<style scoped>\n",
       "    .dataframe tbody tr th:only-of-type {\n",
       "        vertical-align: middle;\n",
       "    }\n",
       "\n",
       "    .dataframe tbody tr th {\n",
       "        vertical-align: top;\n",
       "    }\n",
       "\n",
       "    .dataframe thead th {\n",
       "        text-align: right;\n",
       "    }\n",
       "</style>\n",
       "<table border=\"1\" class=\"dataframe\">\n",
       "  <thead>\n",
       "    <tr style=\"text-align: right;\">\n",
       "      <th></th>\n",
       "      <th>Temperature</th>\n",
       "      <th>Humidity</th>\n",
       "      <th>Precipitation</th>\n",
       "    </tr>\n",
       "    <tr>\n",
       "      <th>City</th>\n",
       "      <th></th>\n",
       "      <th></th>\n",
       "      <th></th>\n",
       "    </tr>\n",
       "  </thead>\n",
       "  <tbody>\n",
       "    <tr>\n",
       "      <th>Moscow</th>\n",
       "      <td>10.5</td>\n",
       "      <td>45</td>\n",
       "      <td>15.0</td>\n",
       "    </tr>\n",
       "  </tbody>\n",
       "</table>\n",
       "</div>"
      ],
      "text/plain": [
       "        Temperature  Humidity  Precipitation\n",
       "City                                        \n",
       "Moscow         10.5        45           15.0"
      ]
     },
     "execution_count": 115,
     "metadata": {},
     "output_type": "execute_result"
    }
   ],
   "source": [
    "df.iloc[:1]"
   ]
  },
  {
   "cell_type": "code",
   "execution_count": 117,
   "metadata": {},
   "outputs": [
    {
     "data": {
      "text/html": [
       "<div>\n",
       "<style scoped>\n",
       "    .dataframe tbody tr th:only-of-type {\n",
       "        vertical-align: middle;\n",
       "    }\n",
       "\n",
       "    .dataframe tbody tr th {\n",
       "        vertical-align: top;\n",
       "    }\n",
       "\n",
       "    .dataframe thead th {\n",
       "        text-align: right;\n",
       "    }\n",
       "</style>\n",
       "<table border=\"1\" class=\"dataframe\">\n",
       "  <thead>\n",
       "    <tr style=\"text-align: right;\">\n",
       "      <th></th>\n",
       "      <th>Temperature</th>\n",
       "      <th>Humidity</th>\n",
       "      <th>Precipitation</th>\n",
       "    </tr>\n",
       "    <tr>\n",
       "      <th>City</th>\n",
       "      <th></th>\n",
       "      <th></th>\n",
       "      <th></th>\n",
       "    </tr>\n",
       "  </thead>\n",
       "  <tbody>\n",
       "    <tr>\n",
       "      <th>Saint Petersburg</th>\n",
       "      <td>7.3</td>\n",
       "      <td>68</td>\n",
       "      <td>1.2</td>\n",
       "    </tr>\n",
       "    <tr>\n",
       "      <th>Vladivostok</th>\n",
       "      <td>15.1</td>\n",
       "      <td>57</td>\n",
       "      <td>3.5</td>\n",
       "    </tr>\n",
       "  </tbody>\n",
       "</table>\n",
       "</div>"
      ],
      "text/plain": [
       "                  Temperature  Humidity  Precipitation\n",
       "City                                                  \n",
       "Saint Petersburg          7.3        68            1.2\n",
       "Vladivostok              15.1        57            3.5"
      ]
     },
     "execution_count": 117,
     "metadata": {},
     "output_type": "execute_result"
    }
   ],
   "source": [
    "df.iloc[1:]"
   ]
  },
  {
   "cell_type": "markdown",
   "metadata": {},
   "source": [
    "Аналогичным образом работает и обращение к ячейкам таблицы: `at` используется для обращения по именам:"
   ]
  },
  {
   "cell_type": "code",
   "execution_count": 122,
   "metadata": {},
   "outputs": [
    {
     "data": {
      "text/plain": [
       "10.5"
      ]
     },
     "execution_count": 122,
     "metadata": {},
     "output_type": "execute_result"
    }
   ],
   "source": [
    "df.at['Moscow', 'Temperature'] # данные в строке Moscow и колонке Temperature"
   ]
  },
  {
   "cell_type": "markdown",
   "metadata": {},
   "source": [
    "И `iat` для обращения по индексам:"
   ]
  },
  {
   "cell_type": "code",
   "execution_count": 123,
   "metadata": {},
   "outputs": [
    {
     "data": {
      "text/plain": [
       "45"
      ]
     },
     "execution_count": 123,
     "metadata": {},
     "output_type": "execute_result"
    }
   ],
   "source": [
    "df.iat[0, 1] # данные в 1 строке  (индекс 0) и 2 колонке (индекс 1)"
   ]
  },
  {
   "cell_type": "code",
   "execution_count": 124,
   "metadata": {},
   "outputs": [
    {
     "data": {
      "text/plain": [
       "15.1"
      ]
     },
     "execution_count": 124,
     "metadata": {},
     "output_type": "execute_result"
    }
   ],
   "source": [
    "df.iat[2, 0] # данные в 3 строке (индекс 2) и 1 колонке (индекс 1)"
   ]
  },
  {
   "cell_type": "markdown",
   "metadata": {},
   "source": [
    "### Выбор по условию\n",
    "\n",
    "Помните, как мы выбирали элементы из массива Numpy по каким-то условиям? С датафреймами можно делать то же самое только для ячеек. Например, вот так мы можем выбрать все строки, где температура больше 10 градусов:"
   ]
  },
  {
   "cell_type": "code",
   "execution_count": 140,
   "metadata": {},
   "outputs": [
    {
     "data": {
      "text/html": [
       "<div>\n",
       "<style scoped>\n",
       "    .dataframe tbody tr th:only-of-type {\n",
       "        vertical-align: middle;\n",
       "    }\n",
       "\n",
       "    .dataframe tbody tr th {\n",
       "        vertical-align: top;\n",
       "    }\n",
       "\n",
       "    .dataframe thead th {\n",
       "        text-align: right;\n",
       "    }\n",
       "</style>\n",
       "<table border=\"1\" class=\"dataframe\">\n",
       "  <thead>\n",
       "    <tr style=\"text-align: right;\">\n",
       "      <th></th>\n",
       "      <th>Temperature</th>\n",
       "      <th>Humidity</th>\n",
       "      <th>Precipitation</th>\n",
       "    </tr>\n",
       "    <tr>\n",
       "      <th>City</th>\n",
       "      <th></th>\n",
       "      <th></th>\n",
       "      <th></th>\n",
       "    </tr>\n",
       "  </thead>\n",
       "  <tbody>\n",
       "    <tr>\n",
       "      <th>Moscow</th>\n",
       "      <td>10.5</td>\n",
       "      <td>45</td>\n",
       "      <td>15.0</td>\n",
       "    </tr>\n",
       "    <tr>\n",
       "      <th>Vladivostok</th>\n",
       "      <td>15.1</td>\n",
       "      <td>57</td>\n",
       "      <td>3.5</td>\n",
       "    </tr>\n",
       "  </tbody>\n",
       "</table>\n",
       "</div>"
      ],
      "text/plain": [
       "             Temperature  Humidity  Precipitation\n",
       "City                                             \n",
       "Moscow              10.5        45           15.0\n",
       "Vladivostok         15.1        57            3.5"
      ]
     },
     "execution_count": 140,
     "metadata": {},
     "output_type": "execute_result"
    }
   ],
   "source": [
    "df[df['Temperature']> 10]"
   ]
  },
  {
   "cell_type": "markdown",
   "metadata": {},
   "source": [
    "### Статистические операции\n",
    "\n",
    "Pandas – мощный инструмент именно для статистического анализа данных. Поэтому он умеет расчитывать для датафреймов различные статистические показатели.\n",
    "\n",
    "Например, вот так мы можем найти среднюю температуру среди трех представленных в нашей таблице городов (пример лишен реального смысла – никому не нужна средняя температура между Москвой, Питером и Владивостоком, он показывает лишь возможности используемого нами инструмента):"
   ]
  },
  {
   "cell_type": "code",
   "execution_count": 125,
   "metadata": {},
   "outputs": [
    {
     "data": {
      "text/plain": [
       "10.966666666666667"
      ]
     },
     "execution_count": 125,
     "metadata": {},
     "output_type": "execute_result"
    }
   ],
   "source": [
    "df['Temperature'].mean() # среднее значение по колонке Temperature"
   ]
  },
  {
   "cell_type": "code",
   "execution_count": 127,
   "metadata": {},
   "outputs": [
    {
     "data": {
      "text/plain": [
       "15.1"
      ]
     },
     "execution_count": 127,
     "metadata": {},
     "output_type": "execute_result"
    }
   ],
   "source": [
    "df['Temperature'].max() # максимальное значение по колонке Temperature"
   ]
  },
  {
   "cell_type": "markdown",
   "metadata": {},
   "source": [
    "Еще можем найти, например, медиану:"
   ]
  },
  {
   "cell_type": "code",
   "execution_count": 128,
   "metadata": {},
   "outputs": [
    {
     "data": {
      "text/plain": [
       "10.5"
      ]
     },
     "execution_count": 128,
     "metadata": {},
     "output_type": "execute_result"
    }
   ],
   "source": [
    "df['Temperature'].median() # медианное значение по колонке Temperature"
   ]
  },
  {
   "cell_type": "markdown",
   "metadata": {},
   "source": [
    "...или моду. Правда для этого, давайте сперва добавим в наш датафрейм еще одну ячейку, чтобы у нас было два однаковых значения температуры."
   ]
  },
  {
   "cell_type": "code",
   "execution_count": 132,
   "metadata": {},
   "outputs": [
    {
     "data": {
      "text/html": [
       "<div>\n",
       "<style scoped>\n",
       "    .dataframe tbody tr th:only-of-type {\n",
       "        vertical-align: middle;\n",
       "    }\n",
       "\n",
       "    .dataframe tbody tr th {\n",
       "        vertical-align: top;\n",
       "    }\n",
       "\n",
       "    .dataframe thead th {\n",
       "        text-align: right;\n",
       "    }\n",
       "</style>\n",
       "<table border=\"1\" class=\"dataframe\">\n",
       "  <thead>\n",
       "    <tr style=\"text-align: right;\">\n",
       "      <th></th>\n",
       "      <th>Temperature</th>\n",
       "      <th>Humidity</th>\n",
       "      <th>Precipitation</th>\n",
       "    </tr>\n",
       "  </thead>\n",
       "  <tbody>\n",
       "    <tr>\n",
       "      <th>Moscow</th>\n",
       "      <td>10.5</td>\n",
       "      <td>45.0</td>\n",
       "      <td>15.0</td>\n",
       "    </tr>\n",
       "    <tr>\n",
       "      <th>Saint Petersburg</th>\n",
       "      <td>7.3</td>\n",
       "      <td>68.0</td>\n",
       "      <td>1.2</td>\n",
       "    </tr>\n",
       "    <tr>\n",
       "      <th>Vladivostok</th>\n",
       "      <td>15.1</td>\n",
       "      <td>57.0</td>\n",
       "      <td>3.5</td>\n",
       "    </tr>\n",
       "    <tr>\n",
       "      <th>Sochi</th>\n",
       "      <td>10.5</td>\n",
       "      <td>25.0</td>\n",
       "      <td>2.5</td>\n",
       "    </tr>\n",
       "  </tbody>\n",
       "</table>\n",
       "</div>"
      ],
      "text/plain": [
       "                  Temperature  Humidity  Precipitation\n",
       "Moscow                   10.5      45.0           15.0\n",
       "Saint Petersburg          7.3      68.0            1.2\n",
       "Vladivostok              15.1      57.0            3.5\n",
       "Sochi                    10.5      25.0            2.5"
      ]
     },
     "execution_count": 132,
     "metadata": {},
     "output_type": "execute_result"
    }
   ],
   "source": [
    "df1 = df.append({\"Temperature\": 10.5, \"Humidity\": 25, \"Precipitation\": 2.5}, ignore_index = True)\n",
    "df1.index = ['Moscow', 'Saint Petersburg', 'Vladivostok', 'Sochi']\n",
    "df1"
   ]
  },
  {
   "cell_type": "code",
   "execution_count": 133,
   "metadata": {},
   "outputs": [
    {
     "data": {
      "text/plain": [
       "0    10.5\n",
       "dtype: float64"
      ]
     },
     "execution_count": 133,
     "metadata": {},
     "output_type": "execute_result"
    }
   ],
   "source": [
    "df1['Temperature'].mode() # теперь можем посчитать моду по колонке Temperature"
   ]
  },
  {
   "cell_type": "markdown",
   "metadata": {},
   "source": [
    "Вообще говоря, можно применять статистические методы вообще ко всему датафрейму. Тогда в ответ мы получим новый датафрейм с рассчитанными показателями для каждой колонки:"
   ]
  },
  {
   "cell_type": "code",
   "execution_count": 134,
   "metadata": {},
   "outputs": [
    {
     "data": {
      "text/html": [
       "<div>\n",
       "<style scoped>\n",
       "    .dataframe tbody tr th:only-of-type {\n",
       "        vertical-align: middle;\n",
       "    }\n",
       "\n",
       "    .dataframe tbody tr th {\n",
       "        vertical-align: top;\n",
       "    }\n",
       "\n",
       "    .dataframe thead th {\n",
       "        text-align: right;\n",
       "    }\n",
       "</style>\n",
       "<table border=\"1\" class=\"dataframe\">\n",
       "  <thead>\n",
       "    <tr style=\"text-align: right;\">\n",
       "      <th></th>\n",
       "      <th>Temperature</th>\n",
       "      <th>Humidity</th>\n",
       "      <th>Precipitation</th>\n",
       "    </tr>\n",
       "  </thead>\n",
       "  <tbody>\n",
       "    <tr>\n",
       "      <th>0</th>\n",
       "      <td>10.5</td>\n",
       "      <td>25.0</td>\n",
       "      <td>1.2</td>\n",
       "    </tr>\n",
       "    <tr>\n",
       "      <th>1</th>\n",
       "      <td>NaN</td>\n",
       "      <td>45.0</td>\n",
       "      <td>2.5</td>\n",
       "    </tr>\n",
       "    <tr>\n",
       "      <th>2</th>\n",
       "      <td>NaN</td>\n",
       "      <td>57.0</td>\n",
       "      <td>3.5</td>\n",
       "    </tr>\n",
       "    <tr>\n",
       "      <th>3</th>\n",
       "      <td>NaN</td>\n",
       "      <td>68.0</td>\n",
       "      <td>15.0</td>\n",
       "    </tr>\n",
       "  </tbody>\n",
       "</table>\n",
       "</div>"
      ],
      "text/plain": [
       "   Temperature  Humidity  Precipitation\n",
       "0         10.5      25.0            1.2\n",
       "1          NaN      45.0            2.5\n",
       "2          NaN      57.0            3.5\n",
       "3          NaN      68.0           15.0"
      ]
     },
     "execution_count": 134,
     "metadata": {},
     "output_type": "execute_result"
    }
   ],
   "source": [
    "df1.mode()"
   ]
  },
  {
   "cell_type": "markdown",
   "metadata": {},
   "source": [
    "...а в некоторых случаях (когда значения не двухмерные) – серию:"
   ]
  },
  {
   "cell_type": "code",
   "execution_count": 135,
   "metadata": {},
   "outputs": [
    {
     "data": {
      "text/plain": [
       "Temperature      15.1\n",
       "Humidity         68.0\n",
       "Precipitation    15.0\n",
       "dtype: float64"
      ]
     },
     "execution_count": 135,
     "metadata": {},
     "output_type": "execute_result"
    }
   ],
   "source": [
    "df.max()"
   ]
  },
  {
   "cell_type": "code",
   "execution_count": 136,
   "metadata": {},
   "outputs": [
    {
     "data": {
      "text/plain": [
       "Temperature      10.5\n",
       "Humidity         57.0\n",
       "Precipitation     3.5\n",
       "dtype: float64"
      ]
     },
     "execution_count": 136,
     "metadata": {},
     "output_type": "execute_result"
    }
   ],
   "source": [
    "df.median()"
   ]
  },
  {
   "cell_type": "code",
   "execution_count": 137,
   "metadata": {},
   "outputs": [
    {
     "data": {
      "text/plain": [
       "Temperature      10.966667\n",
       "Humidity         56.666667\n",
       "Precipitation     6.566667\n",
       "dtype: float64"
      ]
     },
     "execution_count": 137,
     "metadata": {},
     "output_type": "execute_result"
    }
   ],
   "source": [
    "df.mean()"
   ]
  },
  {
   "cell_type": "markdown",
   "metadata": {},
   "source": [
    "### Реальные данные\n",
    "\n",
    "Смотреть на табличку из цифр, конечно, прикольно, но все же работать с реальными данными интереснее. Так что давайте загрузим [вот этот](https://raw.githubusercontent.com/ekostogorov/hse_datajournalism/master/data/twitter.csv) датасет с информацией о твиттерах американских политиков.\n",
    "\n",
    "В пакете Pandas есть множество классных функций, которые умеют строить датафрейм из разных файлов – например, `csv` или `excel`. Что такое `csv` мы с вами уже говорили, но если не помните, почитайте [тут](https://ru.wikipedia.org/wiki/CSV).\n",
    "\n",
    "Например, вот так легко и просто можно считать `csv` файл и превратить его в датафрейм. При этом в аргументах мы можем передать как путь к файлу на вашем компьютере, так и ссылку, крутота!"
   ]
  },
  {
   "cell_type": "code",
   "execution_count": 342,
   "metadata": {},
   "outputs": [
    {
     "data": {
      "text/html": [
       "<div>\n",
       "<style scoped>\n",
       "    .dataframe tbody tr th:only-of-type {\n",
       "        vertical-align: middle;\n",
       "    }\n",
       "\n",
       "    .dataframe tbody tr th {\n",
       "        vertical-align: top;\n",
       "    }\n",
       "\n",
       "    .dataframe thead th {\n",
       "        text-align: right;\n",
       "    }\n",
       "</style>\n",
       "<table border=\"1\" class=\"dataframe\">\n",
       "  <thead>\n",
       "    <tr style=\"text-align: right;\">\n",
       "      <th></th>\n",
       "      <th>Name</th>\n",
       "      <th>Twitter_username</th>\n",
       "      <th>Account_start_time</th>\n",
       "      <th>Account_ID</th>\n",
       "      <th>Sex</th>\n",
       "      <th>Birthplace</th>\n",
       "      <th>Birthday</th>\n",
       "      <th>Age</th>\n",
       "      <th>Instagram_username</th>\n",
       "      <th>Political_party</th>\n",
       "    </tr>\n",
       "  </thead>\n",
       "  <tbody>\n",
       "    <tr>\n",
       "      <th>0</th>\n",
       "      <td>A. Donald McEachin</td>\n",
       "      <td>RepMcEachin</td>\n",
       "      <td>2017-01-03T00:00:00Z</td>\n",
       "      <td>816181091673448448</td>\n",
       "      <td>male</td>\n",
       "      <td>Germany</td>\n",
       "      <td>1961-10-10T00:00:00Z</td>\n",
       "      <td>59.0</td>\n",
       "      <td>repmceachin</td>\n",
       "      <td>Democratic Party</td>\n",
       "    </tr>\n",
       "    <tr>\n",
       "      <th>1</th>\n",
       "      <td>Aaron Michlewitz</td>\n",
       "      <td>RepMichlewitz</td>\n",
       "      <td>2010-06-27T00:00:00Z</td>\n",
       "      <td>160246973</td>\n",
       "      <td>male</td>\n",
       "      <td>United States of America</td>\n",
       "      <td>1978-01-01T00:00:00Z</td>\n",
       "      <td>42.0</td>\n",
       "      <td>NaN</td>\n",
       "      <td>Democratic Party</td>\n",
       "    </tr>\n",
       "    <tr>\n",
       "      <th>2</th>\n",
       "      <td>Aaron Peskin</td>\n",
       "      <td>AaronPeskin</td>\n",
       "      <td>2010-11-13T00:00:00Z</td>\n",
       "      <td>215369273</td>\n",
       "      <td>male</td>\n",
       "      <td>United States of America</td>\n",
       "      <td>1964-06-17T00:00:00Z</td>\n",
       "      <td>56.0</td>\n",
       "      <td>apeskin52</td>\n",
       "      <td>Democratic Party</td>\n",
       "    </tr>\n",
       "    <tr>\n",
       "      <th>3</th>\n",
       "      <td>Aaron Peña</td>\n",
       "      <td>AaronPena</td>\n",
       "      <td>2007-10-31T00:00:00Z</td>\n",
       "      <td>9843332</td>\n",
       "      <td>male</td>\n",
       "      <td>United States of America</td>\n",
       "      <td>1959-06-08T00:00:00Z</td>\n",
       "      <td>61.0</td>\n",
       "      <td>NaN</td>\n",
       "      <td>Republican Party</td>\n",
       "    </tr>\n",
       "    <tr>\n",
       "      <th>4</th>\n",
       "      <td>Aaron Schock</td>\n",
       "      <td>aaronschock</td>\n",
       "      <td>2009-03-12T00:00:00Z</td>\n",
       "      <td>23951197</td>\n",
       "      <td>male</td>\n",
       "      <td>United States of America</td>\n",
       "      <td>1981-05-28T00:00:00Z</td>\n",
       "      <td>39.0</td>\n",
       "      <td>aaronschock</td>\n",
       "      <td>Republican Party</td>\n",
       "    </tr>\n",
       "  </tbody>\n",
       "</table>\n",
       "</div>"
      ],
      "text/plain": [
       "                 Name Twitter_username    Account_start_time  \\\n",
       "0  A. Donald McEachin      RepMcEachin  2017-01-03T00:00:00Z   \n",
       "1    Aaron Michlewitz    RepMichlewitz  2010-06-27T00:00:00Z   \n",
       "2        Aaron Peskin      AaronPeskin  2010-11-13T00:00:00Z   \n",
       "3          Aaron Peña        AaronPena  2007-10-31T00:00:00Z   \n",
       "4        Aaron Schock      aaronschock  2009-03-12T00:00:00Z   \n",
       "\n",
       "           Account_ID   Sex                Birthplace              Birthday  \\\n",
       "0  816181091673448448  male                   Germany  1961-10-10T00:00:00Z   \n",
       "1           160246973  male  United States of America  1978-01-01T00:00:00Z   \n",
       "2           215369273  male  United States of America  1964-06-17T00:00:00Z   \n",
       "3             9843332  male  United States of America  1959-06-08T00:00:00Z   \n",
       "4            23951197  male  United States of America  1981-05-28T00:00:00Z   \n",
       "\n",
       "    Age Instagram_username   Political_party  \n",
       "0  59.0        repmceachin  Democratic Party  \n",
       "1  42.0                NaN  Democratic Party  \n",
       "2  56.0          apeskin52  Democratic Party  \n",
       "3  61.0                NaN  Republican Party  \n",
       "4  39.0        aaronschock  Republican Party  "
      ]
     },
     "execution_count": 342,
     "metadata": {},
     "output_type": "execute_result"
    }
   ],
   "source": [
    "df = pd.read_csv('https://raw.githubusercontent.com/ekostogorov/hse_datajournalism/master/data/twitter.csv')\n",
    "df.head()"
   ]
  },
  {
   "cell_type": "code",
   "execution_count": 343,
   "metadata": {},
   "outputs": [
    {
     "data": {
      "text/plain": [
       "['Name',\n",
       " 'Twitter_username',\n",
       " 'Account_start_time',\n",
       " 'Account_ID',\n",
       " 'Sex',\n",
       " 'Birthplace',\n",
       " 'Birthday',\n",
       " 'Age',\n",
       " 'Instagram_username',\n",
       " 'Political_party']"
      ]
     },
     "execution_count": 343,
     "metadata": {},
     "output_type": "execute_result"
    }
   ],
   "source": [
    "list(df.columns)"
   ]
  },
  {
   "cell_type": "code",
   "execution_count": 344,
   "metadata": {},
   "outputs": [
    {
     "data": {
      "text/plain": [
       "2514"
      ]
     },
     "execution_count": 344,
     "metadata": {},
     "output_type": "execute_result"
    }
   ],
   "source": [
    "len(df)"
   ]
  },
  {
   "cell_type": "markdown",
   "metadata": {},
   "source": [
    "Любая работа с данными начинается с их оценки, давайте посмотрим, что же у нас есть. А есть у нас табличка со следующими колонками: имя политика, его юзернейм в твиттере, дата и время, когда аккаунт был зарегистрирован, ID аккаунта, пол, место рождения, возраст, юзернейм в инстаграме и название политической партии, к которой он принадлежит.\n",
    "\n",
    "Всего – 2514 строк.\n",
    "\n",
    "Данные редко бывают чистыми и готовыми к работе сразу. Сначала нужно оценить их на предмет отсутствия какой-то информации или наоборот ее дублирования. Частенько в таблицах встречаются дубли – строки с одинаковыми значениями. Чтобы проверить, есть ли они у нас, мы можем вызвать специальный метод `duplicated`, передав ему имя колонки, по которой мы хотим искать дубликаты."
   ]
  },
  {
   "cell_type": "code",
   "execution_count": 351,
   "metadata": {},
   "outputs": [
    {
     "data": {
      "text/plain": [
       "0       False\n",
       "1       False\n",
       "2       False\n",
       "3       False\n",
       "4       False\n",
       "        ...  \n",
       "2509     True\n",
       "2510    False\n",
       "2511    False\n",
       "2512    False\n",
       "2513    False\n",
       "Length: 2514, dtype: bool"
      ]
     },
     "execution_count": 351,
     "metadata": {},
     "output_type": "execute_result"
    }
   ],
   "source": [
    "df.duplicated(subset='Twitter_username')"
   ]
  },
  {
   "cell_type": "markdown",
   "metadata": {},
   "source": [
    "Дубликаты действительно есть. Давай отсортируем наш датафрейм, чтобы посомтреть на них."
   ]
  },
  {
   "cell_type": "code",
   "execution_count": 352,
   "metadata": {},
   "outputs": [
    {
     "data": {
      "text/html": [
       "<div>\n",
       "<style scoped>\n",
       "    .dataframe tbody tr th:only-of-type {\n",
       "        vertical-align: middle;\n",
       "    }\n",
       "\n",
       "    .dataframe tbody tr th {\n",
       "        vertical-align: top;\n",
       "    }\n",
       "\n",
       "    .dataframe thead th {\n",
       "        text-align: right;\n",
       "    }\n",
       "</style>\n",
       "<table border=\"1\" class=\"dataframe\">\n",
       "  <thead>\n",
       "    <tr style=\"text-align: right;\">\n",
       "      <th></th>\n",
       "      <th>Name</th>\n",
       "      <th>Twitter_username</th>\n",
       "      <th>Account_start_time</th>\n",
       "      <th>Account_ID</th>\n",
       "      <th>Sex</th>\n",
       "      <th>Birthplace</th>\n",
       "      <th>Birthday</th>\n",
       "      <th>Age</th>\n",
       "      <th>Instagram_username</th>\n",
       "      <th>Political_party</th>\n",
       "    </tr>\n",
       "  </thead>\n",
       "  <tbody>\n",
       "    <tr>\n",
       "      <th>1818</th>\n",
       "      <td>Niger Innis</td>\n",
       "      <td>3568ni</td>\n",
       "      <td>NaN</td>\n",
       "      <td>NaN</td>\n",
       "      <td>male</td>\n",
       "      <td>United States of America</td>\n",
       "      <td>1968-01-01T00:00:00Z</td>\n",
       "      <td>52.0</td>\n",
       "      <td>NaN</td>\n",
       "      <td>Republican Party</td>\n",
       "    </tr>\n",
       "    <tr>\n",
       "      <th>2497</th>\n",
       "      <td>Xavier Becerra</td>\n",
       "      <td>AGBecerra</td>\n",
       "      <td>NaN</td>\n",
       "      <td>NaN</td>\n",
       "      <td>male</td>\n",
       "      <td>United States of America</td>\n",
       "      <td>1958-01-26T00:00:00Z</td>\n",
       "      <td>62.0</td>\n",
       "      <td>repbecerra</td>\n",
       "      <td>Democratic Party</td>\n",
       "    </tr>\n",
       "    <tr>\n",
       "      <th>2498</th>\n",
       "      <td>Xavier Becerra</td>\n",
       "      <td>AGBecerra</td>\n",
       "      <td>NaN</td>\n",
       "      <td>NaN</td>\n",
       "      <td>male</td>\n",
       "      <td>United States of America</td>\n",
       "      <td>1958-01-26T00:00:00Z</td>\n",
       "      <td>62.0</td>\n",
       "      <td>repbecerra</td>\n",
       "      <td>Democratic Party</td>\n",
       "    </tr>\n",
       "    <tr>\n",
       "      <th>2496</th>\n",
       "      <td>Xavier Becerra</td>\n",
       "      <td>AGBecerra</td>\n",
       "      <td>NaN</td>\n",
       "      <td>NaN</td>\n",
       "      <td>male</td>\n",
       "      <td>United States of America</td>\n",
       "      <td>1958-01-26T00:00:00Z</td>\n",
       "      <td>62.0</td>\n",
       "      <td>repbecerra</td>\n",
       "      <td>Democratic Party</td>\n",
       "    </tr>\n",
       "    <tr>\n",
       "      <th>702</th>\n",
       "      <td>Doug Peterson</td>\n",
       "      <td>AGDougPeterson</td>\n",
       "      <td>2015-01-07T00:00:00Z</td>\n",
       "      <td>2963960540</td>\n",
       "      <td>male</td>\n",
       "      <td>United States of America</td>\n",
       "      <td>1959-01-01T00:00:00Z</td>\n",
       "      <td>61.0</td>\n",
       "      <td>NaN</td>\n",
       "      <td>Republican Party</td>\n",
       "    </tr>\n",
       "    <tr>\n",
       "      <th>...</th>\n",
       "      <td>...</td>\n",
       "      <td>...</td>\n",
       "      <td>...</td>\n",
       "      <td>...</td>\n",
       "      <td>...</td>\n",
       "      <td>...</td>\n",
       "      <td>...</td>\n",
       "      <td>...</td>\n",
       "      <td>...</td>\n",
       "      <td>...</td>\n",
       "    </tr>\n",
       "    <tr>\n",
       "      <th>613</th>\n",
       "      <td>David Yancey</td>\n",
       "      <td>yancey4delegate</td>\n",
       "      <td>2017-08-07T00:00:00Z</td>\n",
       "      <td>894689892134944768</td>\n",
       "      <td>male</td>\n",
       "      <td>United States of America</td>\n",
       "      <td>1972-04-06T00:00:00Z</td>\n",
       "      <td>48.0</td>\n",
       "      <td>NaN</td>\n",
       "      <td>Republican Party</td>\n",
       "    </tr>\n",
       "    <tr>\n",
       "      <th>1067</th>\n",
       "      <td>Jeff Yarbro</td>\n",
       "      <td>yarbro</td>\n",
       "      <td>NaN</td>\n",
       "      <td>NaN</td>\n",
       "      <td>male</td>\n",
       "      <td>United States of America</td>\n",
       "      <td>1977-02-16T00:00:00Z</td>\n",
       "      <td>43.0</td>\n",
       "      <td>NaN</td>\n",
       "      <td>Democratic Party</td>\n",
       "    </tr>\n",
       "    <tr>\n",
       "      <th>2510</th>\n",
       "      <td>Yvette Herrell</td>\n",
       "      <td>yvette4congress</td>\n",
       "      <td>2017-08-19T00:00:00Z</td>\n",
       "      <td>898787903609765890</td>\n",
       "      <td>female</td>\n",
       "      <td>United States of America</td>\n",
       "      <td>1964-03-16T00:00:00Z</td>\n",
       "      <td>56.0</td>\n",
       "      <td>NaN</td>\n",
       "      <td>Republican Party</td>\n",
       "    </tr>\n",
       "    <tr>\n",
       "      <th>2511</th>\n",
       "      <td>Zephyr Teachout</td>\n",
       "      <td>zephyrteachout</td>\n",
       "      <td>2008-07-17T00:00:00Z</td>\n",
       "      <td>15467700</td>\n",
       "      <td>female</td>\n",
       "      <td>United States of America</td>\n",
       "      <td>1971-10-24T00:00:00Z</td>\n",
       "      <td>49.0</td>\n",
       "      <td>zephyrteachout</td>\n",
       "      <td>Democratic Party</td>\n",
       "    </tr>\n",
       "    <tr>\n",
       "      <th>2513</th>\n",
       "      <td>Zoltan Istvan</td>\n",
       "      <td>zoltan_istvan</td>\n",
       "      <td>2013-07-02T00:00:00Z</td>\n",
       "      <td>1562177648</td>\n",
       "      <td>male</td>\n",
       "      <td>United States of America</td>\n",
       "      <td>1973-03-30T00:00:00Z</td>\n",
       "      <td>47.0</td>\n",
       "      <td>zoltan_istvan</td>\n",
       "      <td>Libertarian Party</td>\n",
       "    </tr>\n",
       "  </tbody>\n",
       "</table>\n",
       "<p>2514 rows × 10 columns</p>\n",
       "</div>"
      ],
      "text/plain": [
       "                 Name Twitter_username    Account_start_time  \\\n",
       "1818      Niger Innis           3568ni                   NaN   \n",
       "2497   Xavier Becerra        AGBecerra                   NaN   \n",
       "2498   Xavier Becerra        AGBecerra                   NaN   \n",
       "2496   Xavier Becerra        AGBecerra                   NaN   \n",
       "702     Doug Peterson   AGDougPeterson  2015-01-07T00:00:00Z   \n",
       "...               ...              ...                   ...   \n",
       "613      David Yancey  yancey4delegate  2017-08-07T00:00:00Z   \n",
       "1067      Jeff Yarbro           yarbro                   NaN   \n",
       "2510   Yvette Herrell  yvette4congress  2017-08-19T00:00:00Z   \n",
       "2511  Zephyr Teachout   zephyrteachout  2008-07-17T00:00:00Z   \n",
       "2513    Zoltan Istvan    zoltan_istvan  2013-07-02T00:00:00Z   \n",
       "\n",
       "              Account_ID     Sex                Birthplace  \\\n",
       "1818                 NaN    male  United States of America   \n",
       "2497                 NaN    male  United States of America   \n",
       "2498                 NaN    male  United States of America   \n",
       "2496                 NaN    male  United States of America   \n",
       "702           2963960540    male  United States of America   \n",
       "...                  ...     ...                       ...   \n",
       "613   894689892134944768    male  United States of America   \n",
       "1067                 NaN    male  United States of America   \n",
       "2510  898787903609765890  female  United States of America   \n",
       "2511            15467700  female  United States of America   \n",
       "2513          1562177648    male  United States of America   \n",
       "\n",
       "                  Birthday   Age Instagram_username    Political_party  \n",
       "1818  1968-01-01T00:00:00Z  52.0                NaN   Republican Party  \n",
       "2497  1958-01-26T00:00:00Z  62.0         repbecerra   Democratic Party  \n",
       "2498  1958-01-26T00:00:00Z  62.0         repbecerra   Democratic Party  \n",
       "2496  1958-01-26T00:00:00Z  62.0         repbecerra   Democratic Party  \n",
       "702   1959-01-01T00:00:00Z  61.0                NaN   Republican Party  \n",
       "...                    ...   ...                ...                ...  \n",
       "613   1972-04-06T00:00:00Z  48.0                NaN   Republican Party  \n",
       "1067  1977-02-16T00:00:00Z  43.0                NaN   Democratic Party  \n",
       "2510  1964-03-16T00:00:00Z  56.0                NaN   Republican Party  \n",
       "2511  1971-10-24T00:00:00Z  49.0     zephyrteachout   Democratic Party  \n",
       "2513  1973-03-30T00:00:00Z  47.0      zoltan_istvan  Libertarian Party  \n",
       "\n",
       "[2514 rows x 10 columns]"
      ]
     },
     "execution_count": 352,
     "metadata": {},
     "output_type": "execute_result"
    }
   ],
   "source": [
    "df.sort_values(by=['Twitter_username'], ascending=True) # сортируем по колонке Twitter_username по возрастанию (ascending)"
   ]
  },
  {
   "cell_type": "markdown",
   "metadata": {},
   "source": [
    "Вот они: посмотрите, например, на строки с пользователем AGBecerra. \n",
    "\n",
    "_Обратите внимание, что сортировка не всегда помогает вам с первого раза увидеть дубликаты, ведь они могут быть в середине датафрйема. Так что используйте именно метод `dublicated()`, чтобы убедиться в их присутстствии или отсутствии._\n",
    "\n",
    "От дублей нам необходимо избавляться, иначе они помешают в расчетах. И хорошо, что в Pandas есть для этого специальная функция `drop_duplicates().`\n",
    "\n",
    "В аргументах она принимает `subset` – название поля, по которому искать дубли (или список таких полей), `keep` – способ дедупликации (`first` будет означать, что нам нужно удалить все дублирующиеся записи, кроме первой), `inplace` – показывает, нужно ли удалить дубли из текущего датайрейма или создать новый. Мы перенесем данные в новый датафрейм, поэтому там `False`."
   ]
  },
  {
   "cell_type": "code",
   "execution_count": 369,
   "metadata": {},
   "outputs": [],
   "source": [
    "filtered_df = df.drop_duplicates(subset='Twitter_username', keep='first', inplace=False)"
   ]
  },
  {
   "cell_type": "code",
   "execution_count": 370,
   "metadata": {},
   "outputs": [
    {
     "data": {
      "text/html": [
       "<div>\n",
       "<style scoped>\n",
       "    .dataframe tbody tr th:only-of-type {\n",
       "        vertical-align: middle;\n",
       "    }\n",
       "\n",
       "    .dataframe tbody tr th {\n",
       "        vertical-align: top;\n",
       "    }\n",
       "\n",
       "    .dataframe thead th {\n",
       "        text-align: right;\n",
       "    }\n",
       "</style>\n",
       "<table border=\"1\" class=\"dataframe\">\n",
       "  <thead>\n",
       "    <tr style=\"text-align: right;\">\n",
       "      <th></th>\n",
       "      <th>Name</th>\n",
       "      <th>Twitter_username</th>\n",
       "      <th>Account_start_time</th>\n",
       "      <th>Account_ID</th>\n",
       "      <th>Sex</th>\n",
       "      <th>Birthplace</th>\n",
       "      <th>Birthday</th>\n",
       "      <th>Age</th>\n",
       "      <th>Instagram_username</th>\n",
       "      <th>Political_party</th>\n",
       "    </tr>\n",
       "  </thead>\n",
       "  <tbody>\n",
       "    <tr>\n",
       "      <th>1818</th>\n",
       "      <td>Niger Innis</td>\n",
       "      <td>3568ni</td>\n",
       "      <td>NaN</td>\n",
       "      <td>NaN</td>\n",
       "      <td>male</td>\n",
       "      <td>United States of America</td>\n",
       "      <td>1968-01-01T00:00:00Z</td>\n",
       "      <td>52.0</td>\n",
       "      <td>NaN</td>\n",
       "      <td>Republican Party</td>\n",
       "    </tr>\n",
       "    <tr>\n",
       "      <th>2496</th>\n",
       "      <td>Xavier Becerra</td>\n",
       "      <td>AGBecerra</td>\n",
       "      <td>NaN</td>\n",
       "      <td>NaN</td>\n",
       "      <td>male</td>\n",
       "      <td>United States of America</td>\n",
       "      <td>1958-01-26T00:00:00Z</td>\n",
       "      <td>62.0</td>\n",
       "      <td>repbecerra</td>\n",
       "      <td>Democratic Party</td>\n",
       "    </tr>\n",
       "    <tr>\n",
       "      <th>702</th>\n",
       "      <td>Doug Peterson</td>\n",
       "      <td>AGDougPeterson</td>\n",
       "      <td>2015-01-07T00:00:00Z</td>\n",
       "      <td>2963960540</td>\n",
       "      <td>male</td>\n",
       "      <td>United States of America</td>\n",
       "      <td>1959-01-01T00:00:00Z</td>\n",
       "      <td>61.0</td>\n",
       "      <td>NaN</td>\n",
       "      <td>Republican Party</td>\n",
       "    </tr>\n",
       "    <tr>\n",
       "      <th>44</th>\n",
       "      <td>Alexandria Ocasio-Cortez</td>\n",
       "      <td>AOC</td>\n",
       "      <td>2018-12-29T00:00:00Z</td>\n",
       "      <td>1079104563280527364</td>\n",
       "      <td>female</td>\n",
       "      <td>United States of America</td>\n",
       "      <td>1989-10-13T00:00:00Z</td>\n",
       "      <td>31.0</td>\n",
       "      <td>aoc</td>\n",
       "      <td>Democratic Party</td>\n",
       "    </tr>\n",
       "    <tr>\n",
       "      <th>148</th>\n",
       "      <td>Austin Petersen</td>\n",
       "      <td>AP4Liberty</td>\n",
       "      <td>NaN</td>\n",
       "      <td>NaN</td>\n",
       "      <td>male</td>\n",
       "      <td>United States of America</td>\n",
       "      <td>1981-02-19T00:00:00Z</td>\n",
       "      <td>39.0</td>\n",
       "      <td>ap4liberty</td>\n",
       "      <td>Republican Party</td>\n",
       "    </tr>\n",
       "    <tr>\n",
       "      <th>...</th>\n",
       "      <td>...</td>\n",
       "      <td>...</td>\n",
       "      <td>...</td>\n",
       "      <td>...</td>\n",
       "      <td>...</td>\n",
       "      <td>...</td>\n",
       "      <td>...</td>\n",
       "      <td>...</td>\n",
       "      <td>...</td>\n",
       "      <td>...</td>\n",
       "    </tr>\n",
       "    <tr>\n",
       "      <th>613</th>\n",
       "      <td>David Yancey</td>\n",
       "      <td>yancey4delegate</td>\n",
       "      <td>2017-08-07T00:00:00Z</td>\n",
       "      <td>894689892134944768</td>\n",
       "      <td>male</td>\n",
       "      <td>United States of America</td>\n",
       "      <td>1972-04-06T00:00:00Z</td>\n",
       "      <td>48.0</td>\n",
       "      <td>NaN</td>\n",
       "      <td>Republican Party</td>\n",
       "    </tr>\n",
       "    <tr>\n",
       "      <th>1067</th>\n",
       "      <td>Jeff Yarbro</td>\n",
       "      <td>yarbro</td>\n",
       "      <td>NaN</td>\n",
       "      <td>NaN</td>\n",
       "      <td>male</td>\n",
       "      <td>United States of America</td>\n",
       "      <td>1977-02-16T00:00:00Z</td>\n",
       "      <td>43.0</td>\n",
       "      <td>NaN</td>\n",
       "      <td>Democratic Party</td>\n",
       "    </tr>\n",
       "    <tr>\n",
       "      <th>2510</th>\n",
       "      <td>Yvette Herrell</td>\n",
       "      <td>yvette4congress</td>\n",
       "      <td>2017-08-19T00:00:00Z</td>\n",
       "      <td>898787903609765890</td>\n",
       "      <td>female</td>\n",
       "      <td>United States of America</td>\n",
       "      <td>1964-03-16T00:00:00Z</td>\n",
       "      <td>56.0</td>\n",
       "      <td>NaN</td>\n",
       "      <td>Republican Party</td>\n",
       "    </tr>\n",
       "    <tr>\n",
       "      <th>2511</th>\n",
       "      <td>Zephyr Teachout</td>\n",
       "      <td>zephyrteachout</td>\n",
       "      <td>2008-07-17T00:00:00Z</td>\n",
       "      <td>15467700</td>\n",
       "      <td>female</td>\n",
       "      <td>United States of America</td>\n",
       "      <td>1971-10-24T00:00:00Z</td>\n",
       "      <td>49.0</td>\n",
       "      <td>zephyrteachout</td>\n",
       "      <td>Democratic Party</td>\n",
       "    </tr>\n",
       "    <tr>\n",
       "      <th>2513</th>\n",
       "      <td>Zoltan Istvan</td>\n",
       "      <td>zoltan_istvan</td>\n",
       "      <td>2013-07-02T00:00:00Z</td>\n",
       "      <td>1562177648</td>\n",
       "      <td>male</td>\n",
       "      <td>United States of America</td>\n",
       "      <td>1973-03-30T00:00:00Z</td>\n",
       "      <td>47.0</td>\n",
       "      <td>zoltan_istvan</td>\n",
       "      <td>Libertarian Party</td>\n",
       "    </tr>\n",
       "  </tbody>\n",
       "</table>\n",
       "<p>1935 rows × 10 columns</p>\n",
       "</div>"
      ],
      "text/plain": [
       "                          Name Twitter_username    Account_start_time  \\\n",
       "1818               Niger Innis           3568ni                   NaN   \n",
       "2496            Xavier Becerra        AGBecerra                   NaN   \n",
       "702              Doug Peterson   AGDougPeterson  2015-01-07T00:00:00Z   \n",
       "44    Alexandria Ocasio-Cortez              AOC  2018-12-29T00:00:00Z   \n",
       "148            Austin Petersen       AP4Liberty                   NaN   \n",
       "...                        ...              ...                   ...   \n",
       "613               David Yancey  yancey4delegate  2017-08-07T00:00:00Z   \n",
       "1067               Jeff Yarbro           yarbro                   NaN   \n",
       "2510            Yvette Herrell  yvette4congress  2017-08-19T00:00:00Z   \n",
       "2511           Zephyr Teachout   zephyrteachout  2008-07-17T00:00:00Z   \n",
       "2513             Zoltan Istvan    zoltan_istvan  2013-07-02T00:00:00Z   \n",
       "\n",
       "               Account_ID     Sex                Birthplace  \\\n",
       "1818                  NaN    male  United States of America   \n",
       "2496                  NaN    male  United States of America   \n",
       "702            2963960540    male  United States of America   \n",
       "44    1079104563280527364  female  United States of America   \n",
       "148                   NaN    male  United States of America   \n",
       "...                   ...     ...                       ...   \n",
       "613    894689892134944768    male  United States of America   \n",
       "1067                  NaN    male  United States of America   \n",
       "2510   898787903609765890  female  United States of America   \n",
       "2511             15467700  female  United States of America   \n",
       "2513           1562177648    male  United States of America   \n",
       "\n",
       "                  Birthday   Age Instagram_username    Political_party  \n",
       "1818  1968-01-01T00:00:00Z  52.0                NaN   Republican Party  \n",
       "2496  1958-01-26T00:00:00Z  62.0         repbecerra   Democratic Party  \n",
       "702   1959-01-01T00:00:00Z  61.0                NaN   Republican Party  \n",
       "44    1989-10-13T00:00:00Z  31.0                aoc   Democratic Party  \n",
       "148   1981-02-19T00:00:00Z  39.0         ap4liberty   Republican Party  \n",
       "...                    ...   ...                ...                ...  \n",
       "613   1972-04-06T00:00:00Z  48.0                NaN   Republican Party  \n",
       "1067  1977-02-16T00:00:00Z  43.0                NaN   Democratic Party  \n",
       "2510  1964-03-16T00:00:00Z  56.0                NaN   Republican Party  \n",
       "2511  1971-10-24T00:00:00Z  49.0     zephyrteachout   Democratic Party  \n",
       "2513  1973-03-30T00:00:00Z  47.0      zoltan_istvan  Libertarian Party  \n",
       "\n",
       "[1935 rows x 10 columns]"
      ]
     },
     "execution_count": 370,
     "metadata": {},
     "output_type": "execute_result"
    }
   ],
   "source": [
    "filtered_df.sort_values(by=['Twitter_username'], ascending=True) # сортируем по колонке Twitter_username по возрастанию (ascending)"
   ]
  },
  {
   "cell_type": "markdown",
   "metadata": {},
   "source": [
    "Ну вот, так уже лучше.\n",
    "\n",
    "Теперь можем оценить политиков-твиттероводов по возрасту. Например, давайте выясним, сколько лет самому младшему и самому старшему. А еще найдем средний возраст и моду."
   ]
  },
  {
   "cell_type": "code",
   "execution_count": 371,
   "metadata": {},
   "outputs": [
    {
     "data": {
      "text/plain": [
       "18.0"
      ]
     },
     "execution_count": 371,
     "metadata": {},
     "output_type": "execute_result"
    }
   ],
   "source": [
    "filtered_df['Age'].min()"
   ]
  },
  {
   "cell_type": "code",
   "execution_count": 372,
   "metadata": {},
   "outputs": [
    {
     "data": {
      "text/plain": [
       "119.0"
      ]
     },
     "execution_count": 372,
     "metadata": {},
     "output_type": "execute_result"
    }
   ],
   "source": [
    "filtered_df['Age'].max()"
   ]
  },
  {
   "cell_type": "markdown",
   "metadata": {},
   "source": [
    "Хммм... у нас явно есть долгожитель. Но скорее всего просто данные грязные. Давайте отсортируем наш датафрейм по колонке `Age` и посмотрим на самых старших представителей."
   ]
  },
  {
   "cell_type": "code",
   "execution_count": 374,
   "metadata": {},
   "outputs": [
    {
     "data": {
      "text/html": [
       "<div>\n",
       "<style scoped>\n",
       "    .dataframe tbody tr th:only-of-type {\n",
       "        vertical-align: middle;\n",
       "    }\n",
       "\n",
       "    .dataframe tbody tr th {\n",
       "        vertical-align: top;\n",
       "    }\n",
       "\n",
       "    .dataframe thead th {\n",
       "        text-align: right;\n",
       "    }\n",
       "</style>\n",
       "<table border=\"1\" class=\"dataframe\">\n",
       "  <thead>\n",
       "    <tr style=\"text-align: right;\">\n",
       "      <th></th>\n",
       "      <th>Name</th>\n",
       "      <th>Twitter_username</th>\n",
       "      <th>Account_start_time</th>\n",
       "      <th>Account_ID</th>\n",
       "      <th>Sex</th>\n",
       "      <th>Birthplace</th>\n",
       "      <th>Birthday</th>\n",
       "      <th>Age</th>\n",
       "      <th>Instagram_username</th>\n",
       "      <th>Political_party</th>\n",
       "    </tr>\n",
       "  </thead>\n",
       "  <tbody>\n",
       "    <tr>\n",
       "      <th>1799</th>\n",
       "      <td>Nate Tinbite</td>\n",
       "      <td>natetinbite</td>\n",
       "      <td>2016-05-04T00:00:00Z</td>\n",
       "      <td>727970917008158720</td>\n",
       "      <td>male</td>\n",
       "      <td>United States of America</td>\n",
       "      <td>2002-05-09T00:00:00Z</td>\n",
       "      <td>18.0</td>\n",
       "      <td>natetinbite</td>\n",
       "      <td>Democratic Party</td>\n",
       "    </tr>\n",
       "    <tr>\n",
       "      <th>1491</th>\n",
       "      <td>Lorraine Cortés-Vázquez</td>\n",
       "      <td>LorraineCortesV</td>\n",
       "      <td>2011-07-27T00:00:00Z</td>\n",
       "      <td>343513430</td>\n",
       "      <td>female</td>\n",
       "      <td>United States of America</td>\n",
       "      <td>2000-01-01T00:00:00Z</td>\n",
       "      <td>20.0</td>\n",
       "      <td>NaN</td>\n",
       "      <td>Democratic Party</td>\n",
       "    </tr>\n",
       "    <tr>\n",
       "      <th>1105</th>\n",
       "      <td>Jim Dabakis</td>\n",
       "      <td>JimDabakis</td>\n",
       "      <td>2011-03-22T00:00:00Z</td>\n",
       "      <td>270462608</td>\n",
       "      <td>male</td>\n",
       "      <td>United States of America</td>\n",
       "      <td>2000-01-01T00:00:00Z</td>\n",
       "      <td>20.0</td>\n",
       "      <td>NaN</td>\n",
       "      <td>Democratic Party</td>\n",
       "    </tr>\n",
       "    <tr>\n",
       "      <th>1528</th>\n",
       "      <td>Madison Cawthorn</td>\n",
       "      <td>CawthornforNC</td>\n",
       "      <td>NaN</td>\n",
       "      <td>NaN</td>\n",
       "      <td>male</td>\n",
       "      <td>United States of America</td>\n",
       "      <td>1995-08-01T00:00:00Z</td>\n",
       "      <td>25.0</td>\n",
       "      <td>NaN</td>\n",
       "      <td>Republican Party</td>\n",
       "    </tr>\n",
       "    <tr>\n",
       "      <th>996</th>\n",
       "      <td>James Allsup</td>\n",
       "      <td>realjamesallsup</td>\n",
       "      <td>NaN</td>\n",
       "      <td>NaN</td>\n",
       "      <td>male</td>\n",
       "      <td>United States of America</td>\n",
       "      <td>1995-09-07T00:00:00Z</td>\n",
       "      <td>25.0</td>\n",
       "      <td>NaN</td>\n",
       "      <td>Republican Party</td>\n",
       "    </tr>\n",
       "    <tr>\n",
       "      <th>...</th>\n",
       "      <td>...</td>\n",
       "      <td>...</td>\n",
       "      <td>...</td>\n",
       "      <td>...</td>\n",
       "      <td>...</td>\n",
       "      <td>...</td>\n",
       "      <td>...</td>\n",
       "      <td>...</td>\n",
       "      <td>...</td>\n",
       "      <td>...</td>\n",
       "    </tr>\n",
       "    <tr>\n",
       "      <th>2209</th>\n",
       "      <td>Stephanie Chang</td>\n",
       "      <td>stephanielily</td>\n",
       "      <td>2008-10-15T00:00:00Z</td>\n",
       "      <td>16785950</td>\n",
       "      <td>female</td>\n",
       "      <td>United States of America</td>\n",
       "      <td>NaN</td>\n",
       "      <td>NaN</td>\n",
       "      <td>NaN</td>\n",
       "      <td>Democratic Party</td>\n",
       "    </tr>\n",
       "    <tr>\n",
       "      <th>2215</th>\n",
       "      <td>Stephen L. Meredith</td>\n",
       "      <td>slmeredithky1</td>\n",
       "      <td>NaN</td>\n",
       "      <td>NaN</td>\n",
       "      <td>male</td>\n",
       "      <td>United States of America</td>\n",
       "      <td>NaN</td>\n",
       "      <td>NaN</td>\n",
       "      <td>NaN</td>\n",
       "      <td>Republican Party</td>\n",
       "    </tr>\n",
       "    <tr>\n",
       "      <th>2225</th>\n",
       "      <td>Steve Gaynor</td>\n",
       "      <td>realSteveGaynor</td>\n",
       "      <td>2017-10-11T00:00:00Z</td>\n",
       "      <td>917990859957817345</td>\n",
       "      <td>male</td>\n",
       "      <td>United States of America</td>\n",
       "      <td>NaN</td>\n",
       "      <td>NaN</td>\n",
       "      <td>NaN</td>\n",
       "      <td>Republican Party</td>\n",
       "    </tr>\n",
       "    <tr>\n",
       "      <th>2375</th>\n",
       "      <td>Tom Cochran</td>\n",
       "      <td>reptomcochran</td>\n",
       "      <td>NaN</td>\n",
       "      <td>NaN</td>\n",
       "      <td>male</td>\n",
       "      <td>United States of America</td>\n",
       "      <td>NaN</td>\n",
       "      <td>NaN</td>\n",
       "      <td>NaN</td>\n",
       "      <td>Democratic Party</td>\n",
       "    </tr>\n",
       "    <tr>\n",
       "      <th>2464</th>\n",
       "      <td>Victoria Seaman</td>\n",
       "      <td>VictoriaDseaman</td>\n",
       "      <td>2010-08-04T00:00:00Z</td>\n",
       "      <td>174715313</td>\n",
       "      <td>female</td>\n",
       "      <td>United States of America</td>\n",
       "      <td>NaN</td>\n",
       "      <td>NaN</td>\n",
       "      <td>NaN</td>\n",
       "      <td>Republican Party</td>\n",
       "    </tr>\n",
       "  </tbody>\n",
       "</table>\n",
       "<p>1935 rows × 10 columns</p>\n",
       "</div>"
      ],
      "text/plain": [
       "                         Name Twitter_username    Account_start_time  \\\n",
       "1799             Nate Tinbite      natetinbite  2016-05-04T00:00:00Z   \n",
       "1491  Lorraine Cortés-Vázquez  LorraineCortesV  2011-07-27T00:00:00Z   \n",
       "1105              Jim Dabakis       JimDabakis  2011-03-22T00:00:00Z   \n",
       "1528         Madison Cawthorn    CawthornforNC                   NaN   \n",
       "996              James Allsup  realjamesallsup                   NaN   \n",
       "...                       ...              ...                   ...   \n",
       "2209          Stephanie Chang    stephanielily  2008-10-15T00:00:00Z   \n",
       "2215      Stephen L. Meredith    slmeredithky1                   NaN   \n",
       "2225             Steve Gaynor  realSteveGaynor  2017-10-11T00:00:00Z   \n",
       "2375              Tom Cochran    reptomcochran                   NaN   \n",
       "2464          Victoria Seaman  VictoriaDseaman  2010-08-04T00:00:00Z   \n",
       "\n",
       "              Account_ID     Sex                Birthplace  \\\n",
       "1799  727970917008158720    male  United States of America   \n",
       "1491           343513430  female  United States of America   \n",
       "1105           270462608    male  United States of America   \n",
       "1528                 NaN    male  United States of America   \n",
       "996                  NaN    male  United States of America   \n",
       "...                  ...     ...                       ...   \n",
       "2209            16785950  female  United States of America   \n",
       "2215                 NaN    male  United States of America   \n",
       "2225  917990859957817345    male  United States of America   \n",
       "2375                 NaN    male  United States of America   \n",
       "2464           174715313  female  United States of America   \n",
       "\n",
       "                  Birthday   Age Instagram_username   Political_party  \n",
       "1799  2002-05-09T00:00:00Z  18.0        natetinbite  Democratic Party  \n",
       "1491  2000-01-01T00:00:00Z  20.0                NaN  Democratic Party  \n",
       "1105  2000-01-01T00:00:00Z  20.0                NaN  Democratic Party  \n",
       "1528  1995-08-01T00:00:00Z  25.0                NaN  Republican Party  \n",
       "996   1995-09-07T00:00:00Z  25.0                NaN  Republican Party  \n",
       "...                    ...   ...                ...               ...  \n",
       "2209                   NaN   NaN                NaN  Democratic Party  \n",
       "2215                   NaN   NaN                NaN  Republican Party  \n",
       "2225                   NaN   NaN                NaN  Republican Party  \n",
       "2375                   NaN   NaN                NaN  Democratic Party  \n",
       "2464                   NaN   NaN                NaN  Republican Party  \n",
       "\n",
       "[1935 rows x 10 columns]"
      ]
     },
     "execution_count": 374,
     "metadata": {},
     "output_type": "execute_result"
    }
   ],
   "source": [
    "filtered_df.sort_values(by='Age', ascending=True)"
   ]
  },
  {
   "cell_type": "markdown",
   "metadata": {},
   "source": [
    "Мы ожидали возраст, но вылез какой-то `NaN` :(\n",
    "\n",
    "Не пугайтесь, `NaN` означает Not A Number – в этой числовой ячейке нет значения, поэтому Pandas расценивает его как нечисло. Нам такие данные для расчетов по возрасту не нужны. Давайте их удалим. Для этого в Pandas есть специальный метод `dropna()`, удаляющий отсутствующие значения."
   ]
  },
  {
   "cell_type": "code",
   "execution_count": 376,
   "metadata": {},
   "outputs": [],
   "source": [
    "cleaned_df = filtered_df.dropna(subset=['Age'], inplace=False)"
   ]
  },
  {
   "cell_type": "code",
   "execution_count": 383,
   "metadata": {},
   "outputs": [
    {
     "data": {
      "text/html": [
       "<div>\n",
       "<style scoped>\n",
       "    .dataframe tbody tr th:only-of-type {\n",
       "        vertical-align: middle;\n",
       "    }\n",
       "\n",
       "    .dataframe tbody tr th {\n",
       "        vertical-align: top;\n",
       "    }\n",
       "\n",
       "    .dataframe thead th {\n",
       "        text-align: right;\n",
       "    }\n",
       "</style>\n",
       "<table border=\"1\" class=\"dataframe\">\n",
       "  <thead>\n",
       "    <tr style=\"text-align: right;\">\n",
       "      <th></th>\n",
       "      <th>Name</th>\n",
       "      <th>Twitter_username</th>\n",
       "      <th>Account_start_time</th>\n",
       "      <th>Account_ID</th>\n",
       "      <th>Sex</th>\n",
       "      <th>Birthplace</th>\n",
       "      <th>Birthday</th>\n",
       "      <th>Age</th>\n",
       "      <th>Instagram_username</th>\n",
       "      <th>Political_party</th>\n",
       "    </tr>\n",
       "  </thead>\n",
       "  <tbody>\n",
       "    <tr>\n",
       "      <th>1799</th>\n",
       "      <td>Nate Tinbite</td>\n",
       "      <td>natetinbite</td>\n",
       "      <td>2016-05-04T00:00:00Z</td>\n",
       "      <td>727970917008158720</td>\n",
       "      <td>male</td>\n",
       "      <td>United States of America</td>\n",
       "      <td>2002-05-09T00:00:00Z</td>\n",
       "      <td>18.0</td>\n",
       "      <td>natetinbite</td>\n",
       "      <td>Democratic Party</td>\n",
       "    </tr>\n",
       "    <tr>\n",
       "      <th>1491</th>\n",
       "      <td>Lorraine Cortés-Vázquez</td>\n",
       "      <td>LorraineCortesV</td>\n",
       "      <td>2011-07-27T00:00:00Z</td>\n",
       "      <td>343513430</td>\n",
       "      <td>female</td>\n",
       "      <td>United States of America</td>\n",
       "      <td>2000-01-01T00:00:00Z</td>\n",
       "      <td>20.0</td>\n",
       "      <td>NaN</td>\n",
       "      <td>Democratic Party</td>\n",
       "    </tr>\n",
       "    <tr>\n",
       "      <th>1105</th>\n",
       "      <td>Jim Dabakis</td>\n",
       "      <td>JimDabakis</td>\n",
       "      <td>2011-03-22T00:00:00Z</td>\n",
       "      <td>270462608</td>\n",
       "      <td>male</td>\n",
       "      <td>United States of America</td>\n",
       "      <td>2000-01-01T00:00:00Z</td>\n",
       "      <td>20.0</td>\n",
       "      <td>NaN</td>\n",
       "      <td>Democratic Party</td>\n",
       "    </tr>\n",
       "    <tr>\n",
       "      <th>1528</th>\n",
       "      <td>Madison Cawthorn</td>\n",
       "      <td>CawthornforNC</td>\n",
       "      <td>NaN</td>\n",
       "      <td>NaN</td>\n",
       "      <td>male</td>\n",
       "      <td>United States of America</td>\n",
       "      <td>1995-08-01T00:00:00Z</td>\n",
       "      <td>25.0</td>\n",
       "      <td>NaN</td>\n",
       "      <td>Republican Party</td>\n",
       "    </tr>\n",
       "    <tr>\n",
       "      <th>996</th>\n",
       "      <td>James Allsup</td>\n",
       "      <td>realjamesallsup</td>\n",
       "      <td>NaN</td>\n",
       "      <td>NaN</td>\n",
       "      <td>male</td>\n",
       "      <td>United States of America</td>\n",
       "      <td>1995-09-07T00:00:00Z</td>\n",
       "      <td>25.0</td>\n",
       "      <td>NaN</td>\n",
       "      <td>Republican Party</td>\n",
       "    </tr>\n",
       "    <tr>\n",
       "      <th>...</th>\n",
       "      <td>...</td>\n",
       "      <td>...</td>\n",
       "      <td>...</td>\n",
       "      <td>...</td>\n",
       "      <td>...</td>\n",
       "      <td>...</td>\n",
       "      <td>...</td>\n",
       "      <td>...</td>\n",
       "      <td>...</td>\n",
       "      <td>...</td>\n",
       "    </tr>\n",
       "    <tr>\n",
       "      <th>735</th>\n",
       "      <td>Edwin Edwards</td>\n",
       "      <td>EdwinWEdwards</td>\n",
       "      <td>2014-02-27T00:00:00Z</td>\n",
       "      <td>2363378742</td>\n",
       "      <td>male</td>\n",
       "      <td>United States of America</td>\n",
       "      <td>1927-08-07T00:00:00Z</td>\n",
       "      <td>93.0</td>\n",
       "      <td>NaN</td>\n",
       "      <td>Democratic Party</td>\n",
       "    </tr>\n",
       "    <tr>\n",
       "      <th>1194</th>\n",
       "      <td>John Dingell, Jr.</td>\n",
       "      <td>JohnDingell</td>\n",
       "      <td>2010-01-27T00:00:00Z</td>\n",
       "      <td>109025212</td>\n",
       "      <td>male</td>\n",
       "      <td>United States of America</td>\n",
       "      <td>1926-07-08T00:00:00Z</td>\n",
       "      <td>94.0</td>\n",
       "      <td>NaN</td>\n",
       "      <td>Democratic Party</td>\n",
       "    </tr>\n",
       "    <tr>\n",
       "      <th>721</th>\n",
       "      <td>Ed Koch</td>\n",
       "      <td>mayoredkoch</td>\n",
       "      <td>2010-05-13T00:00:00Z</td>\n",
       "      <td>143524116</td>\n",
       "      <td>male</td>\n",
       "      <td>United States of America</td>\n",
       "      <td>1924-12-12T00:00:00Z</td>\n",
       "      <td>95.0</td>\n",
       "      <td>NaN</td>\n",
       "      <td>Democratic Party</td>\n",
       "    </tr>\n",
       "    <tr>\n",
       "      <th>854</th>\n",
       "      <td>George H. W. Bush</td>\n",
       "      <td>GeorgeHWBush</td>\n",
       "      <td>2012-01-27T00:00:00Z</td>\n",
       "      <td>475988505</td>\n",
       "      <td>male</td>\n",
       "      <td>United States of America</td>\n",
       "      <td>1924-06-12T00:00:00Z</td>\n",
       "      <td>96.0</td>\n",
       "      <td>NaN</td>\n",
       "      <td>Republican Party</td>\n",
       "    </tr>\n",
       "    <tr>\n",
       "      <th>272</th>\n",
       "      <td>Bob Dole</td>\n",
       "      <td>SenatorDole</td>\n",
       "      <td>2015-06-23T00:00:00Z</td>\n",
       "      <td>3342812001</td>\n",
       "      <td>male</td>\n",
       "      <td>United States of America</td>\n",
       "      <td>1923-07-22T00:00:00Z</td>\n",
       "      <td>97.0</td>\n",
       "      <td>NaN</td>\n",
       "      <td>Republican Party</td>\n",
       "    </tr>\n",
       "  </tbody>\n",
       "</table>\n",
       "<p>1910 rows × 10 columns</p>\n",
       "</div>"
      ],
      "text/plain": [
       "                         Name Twitter_username    Account_start_time  \\\n",
       "1799             Nate Tinbite      natetinbite  2016-05-04T00:00:00Z   \n",
       "1491  Lorraine Cortés-Vázquez  LorraineCortesV  2011-07-27T00:00:00Z   \n",
       "1105              Jim Dabakis       JimDabakis  2011-03-22T00:00:00Z   \n",
       "1528         Madison Cawthorn    CawthornforNC                   NaN   \n",
       "996              James Allsup  realjamesallsup                   NaN   \n",
       "...                       ...              ...                   ...   \n",
       "735             Edwin Edwards    EdwinWEdwards  2014-02-27T00:00:00Z   \n",
       "1194        John Dingell, Jr.      JohnDingell  2010-01-27T00:00:00Z   \n",
       "721                   Ed Koch      mayoredkoch  2010-05-13T00:00:00Z   \n",
       "854         George H. W. Bush     GeorgeHWBush  2012-01-27T00:00:00Z   \n",
       "272                  Bob Dole      SenatorDole  2015-06-23T00:00:00Z   \n",
       "\n",
       "              Account_ID     Sex                Birthplace  \\\n",
       "1799  727970917008158720    male  United States of America   \n",
       "1491           343513430  female  United States of America   \n",
       "1105           270462608    male  United States of America   \n",
       "1528                 NaN    male  United States of America   \n",
       "996                  NaN    male  United States of America   \n",
       "...                  ...     ...                       ...   \n",
       "735           2363378742    male  United States of America   \n",
       "1194           109025212    male  United States of America   \n",
       "721            143524116    male  United States of America   \n",
       "854            475988505    male  United States of America   \n",
       "272           3342812001    male  United States of America   \n",
       "\n",
       "                  Birthday   Age Instagram_username   Political_party  \n",
       "1799  2002-05-09T00:00:00Z  18.0        natetinbite  Democratic Party  \n",
       "1491  2000-01-01T00:00:00Z  20.0                NaN  Democratic Party  \n",
       "1105  2000-01-01T00:00:00Z  20.0                NaN  Democratic Party  \n",
       "1528  1995-08-01T00:00:00Z  25.0                NaN  Republican Party  \n",
       "996   1995-09-07T00:00:00Z  25.0                NaN  Republican Party  \n",
       "...                    ...   ...                ...               ...  \n",
       "735   1927-08-07T00:00:00Z  93.0                NaN  Democratic Party  \n",
       "1194  1926-07-08T00:00:00Z  94.0                NaN  Democratic Party  \n",
       "721   1924-12-12T00:00:00Z  95.0                NaN  Democratic Party  \n",
       "854   1924-06-12T00:00:00Z  96.0                NaN  Republican Party  \n",
       "272   1923-07-22T00:00:00Z  97.0                NaN  Republican Party  \n",
       "\n",
       "[1910 rows x 10 columns]"
      ]
     },
     "execution_count": 383,
     "metadata": {},
     "output_type": "execute_result"
    }
   ],
   "source": [
    "cleaned_df = cleaned_df.sort_values(by='Age', ascending=True)\n",
    "cleaned_df"
   ]
  },
  {
   "cell_type": "markdown",
   "metadata": {},
   "source": [
    "Ну вот, так лучше. Теперь мы видим, что в конце нашего датафрейма аж два 119-летних человека. На подозрение наводит то, что в соседней колонке с датой рождения мы видим `1901-01-01T00:00:00Z`. Скорее всего это означает, что такое значение вместо отсутствующего подставил тот, кто собирал этот датасет. Быстрое гугление человека по имени Elizabeth Guzmán подтверждает, что ей явно не 119 лет, а значит, наши данные ошибочны.\n",
    "\n",
    "Давайте удалим из датафрейма всех, кто старше 100 лет."
   ]
  },
  {
   "cell_type": "code",
   "execution_count": 384,
   "metadata": {},
   "outputs": [
    {
     "data": {
      "text/html": [
       "<div>\n",
       "<style scoped>\n",
       "    .dataframe tbody tr th:only-of-type {\n",
       "        vertical-align: middle;\n",
       "    }\n",
       "\n",
       "    .dataframe tbody tr th {\n",
       "        vertical-align: top;\n",
       "    }\n",
       "\n",
       "    .dataframe thead th {\n",
       "        text-align: right;\n",
       "    }\n",
       "</style>\n",
       "<table border=\"1\" class=\"dataframe\">\n",
       "  <thead>\n",
       "    <tr style=\"text-align: right;\">\n",
       "      <th></th>\n",
       "      <th>Name</th>\n",
       "      <th>Twitter_username</th>\n",
       "      <th>Account_start_time</th>\n",
       "      <th>Account_ID</th>\n",
       "      <th>Sex</th>\n",
       "      <th>Birthplace</th>\n",
       "      <th>Birthday</th>\n",
       "      <th>Age</th>\n",
       "      <th>Instagram_username</th>\n",
       "      <th>Political_party</th>\n",
       "    </tr>\n",
       "  </thead>\n",
       "  <tbody>\n",
       "    <tr>\n",
       "      <th>1799</th>\n",
       "      <td>Nate Tinbite</td>\n",
       "      <td>natetinbite</td>\n",
       "      <td>2016-05-04T00:00:00Z</td>\n",
       "      <td>727970917008158720</td>\n",
       "      <td>male</td>\n",
       "      <td>United States of America</td>\n",
       "      <td>2002-05-09T00:00:00Z</td>\n",
       "      <td>18.0</td>\n",
       "      <td>natetinbite</td>\n",
       "      <td>Democratic Party</td>\n",
       "    </tr>\n",
       "    <tr>\n",
       "      <th>1491</th>\n",
       "      <td>Lorraine Cortés-Vázquez</td>\n",
       "      <td>LorraineCortesV</td>\n",
       "      <td>2011-07-27T00:00:00Z</td>\n",
       "      <td>343513430</td>\n",
       "      <td>female</td>\n",
       "      <td>United States of America</td>\n",
       "      <td>2000-01-01T00:00:00Z</td>\n",
       "      <td>20.0</td>\n",
       "      <td>NaN</td>\n",
       "      <td>Democratic Party</td>\n",
       "    </tr>\n",
       "    <tr>\n",
       "      <th>1105</th>\n",
       "      <td>Jim Dabakis</td>\n",
       "      <td>JimDabakis</td>\n",
       "      <td>2011-03-22T00:00:00Z</td>\n",
       "      <td>270462608</td>\n",
       "      <td>male</td>\n",
       "      <td>United States of America</td>\n",
       "      <td>2000-01-01T00:00:00Z</td>\n",
       "      <td>20.0</td>\n",
       "      <td>NaN</td>\n",
       "      <td>Democratic Party</td>\n",
       "    </tr>\n",
       "    <tr>\n",
       "      <th>1528</th>\n",
       "      <td>Madison Cawthorn</td>\n",
       "      <td>CawthornforNC</td>\n",
       "      <td>NaN</td>\n",
       "      <td>NaN</td>\n",
       "      <td>male</td>\n",
       "      <td>United States of America</td>\n",
       "      <td>1995-08-01T00:00:00Z</td>\n",
       "      <td>25.0</td>\n",
       "      <td>NaN</td>\n",
       "      <td>Republican Party</td>\n",
       "    </tr>\n",
       "    <tr>\n",
       "      <th>996</th>\n",
       "      <td>James Allsup</td>\n",
       "      <td>realjamesallsup</td>\n",
       "      <td>NaN</td>\n",
       "      <td>NaN</td>\n",
       "      <td>male</td>\n",
       "      <td>United States of America</td>\n",
       "      <td>1995-09-07T00:00:00Z</td>\n",
       "      <td>25.0</td>\n",
       "      <td>NaN</td>\n",
       "      <td>Republican Party</td>\n",
       "    </tr>\n",
       "    <tr>\n",
       "      <th>...</th>\n",
       "      <td>...</td>\n",
       "      <td>...</td>\n",
       "      <td>...</td>\n",
       "      <td>...</td>\n",
       "      <td>...</td>\n",
       "      <td>...</td>\n",
       "      <td>...</td>\n",
       "      <td>...</td>\n",
       "      <td>...</td>\n",
       "      <td>...</td>\n",
       "    </tr>\n",
       "    <tr>\n",
       "      <th>735</th>\n",
       "      <td>Edwin Edwards</td>\n",
       "      <td>EdwinWEdwards</td>\n",
       "      <td>2014-02-27T00:00:00Z</td>\n",
       "      <td>2363378742</td>\n",
       "      <td>male</td>\n",
       "      <td>United States of America</td>\n",
       "      <td>1927-08-07T00:00:00Z</td>\n",
       "      <td>93.0</td>\n",
       "      <td>NaN</td>\n",
       "      <td>Democratic Party</td>\n",
       "    </tr>\n",
       "    <tr>\n",
       "      <th>1194</th>\n",
       "      <td>John Dingell, Jr.</td>\n",
       "      <td>JohnDingell</td>\n",
       "      <td>2010-01-27T00:00:00Z</td>\n",
       "      <td>109025212</td>\n",
       "      <td>male</td>\n",
       "      <td>United States of America</td>\n",
       "      <td>1926-07-08T00:00:00Z</td>\n",
       "      <td>94.0</td>\n",
       "      <td>NaN</td>\n",
       "      <td>Democratic Party</td>\n",
       "    </tr>\n",
       "    <tr>\n",
       "      <th>721</th>\n",
       "      <td>Ed Koch</td>\n",
       "      <td>mayoredkoch</td>\n",
       "      <td>2010-05-13T00:00:00Z</td>\n",
       "      <td>143524116</td>\n",
       "      <td>male</td>\n",
       "      <td>United States of America</td>\n",
       "      <td>1924-12-12T00:00:00Z</td>\n",
       "      <td>95.0</td>\n",
       "      <td>NaN</td>\n",
       "      <td>Democratic Party</td>\n",
       "    </tr>\n",
       "    <tr>\n",
       "      <th>854</th>\n",
       "      <td>George H. W. Bush</td>\n",
       "      <td>GeorgeHWBush</td>\n",
       "      <td>2012-01-27T00:00:00Z</td>\n",
       "      <td>475988505</td>\n",
       "      <td>male</td>\n",
       "      <td>United States of America</td>\n",
       "      <td>1924-06-12T00:00:00Z</td>\n",
       "      <td>96.0</td>\n",
       "      <td>NaN</td>\n",
       "      <td>Republican Party</td>\n",
       "    </tr>\n",
       "    <tr>\n",
       "      <th>272</th>\n",
       "      <td>Bob Dole</td>\n",
       "      <td>SenatorDole</td>\n",
       "      <td>2015-06-23T00:00:00Z</td>\n",
       "      <td>3342812001</td>\n",
       "      <td>male</td>\n",
       "      <td>United States of America</td>\n",
       "      <td>1923-07-22T00:00:00Z</td>\n",
       "      <td>97.0</td>\n",
       "      <td>NaN</td>\n",
       "      <td>Republican Party</td>\n",
       "    </tr>\n",
       "  </tbody>\n",
       "</table>\n",
       "<p>1910 rows × 10 columns</p>\n",
       "</div>"
      ],
      "text/plain": [
       "                         Name Twitter_username    Account_start_time  \\\n",
       "1799             Nate Tinbite      natetinbite  2016-05-04T00:00:00Z   \n",
       "1491  Lorraine Cortés-Vázquez  LorraineCortesV  2011-07-27T00:00:00Z   \n",
       "1105              Jim Dabakis       JimDabakis  2011-03-22T00:00:00Z   \n",
       "1528         Madison Cawthorn    CawthornforNC                   NaN   \n",
       "996              James Allsup  realjamesallsup                   NaN   \n",
       "...                       ...              ...                   ...   \n",
       "735             Edwin Edwards    EdwinWEdwards  2014-02-27T00:00:00Z   \n",
       "1194        John Dingell, Jr.      JohnDingell  2010-01-27T00:00:00Z   \n",
       "721                   Ed Koch      mayoredkoch  2010-05-13T00:00:00Z   \n",
       "854         George H. W. Bush     GeorgeHWBush  2012-01-27T00:00:00Z   \n",
       "272                  Bob Dole      SenatorDole  2015-06-23T00:00:00Z   \n",
       "\n",
       "              Account_ID     Sex                Birthplace  \\\n",
       "1799  727970917008158720    male  United States of America   \n",
       "1491           343513430  female  United States of America   \n",
       "1105           270462608    male  United States of America   \n",
       "1528                 NaN    male  United States of America   \n",
       "996                  NaN    male  United States of America   \n",
       "...                  ...     ...                       ...   \n",
       "735           2363378742    male  United States of America   \n",
       "1194           109025212    male  United States of America   \n",
       "721            143524116    male  United States of America   \n",
       "854            475988505    male  United States of America   \n",
       "272           3342812001    male  United States of America   \n",
       "\n",
       "                  Birthday   Age Instagram_username   Political_party  \n",
       "1799  2002-05-09T00:00:00Z  18.0        natetinbite  Democratic Party  \n",
       "1491  2000-01-01T00:00:00Z  20.0                NaN  Democratic Party  \n",
       "1105  2000-01-01T00:00:00Z  20.0                NaN  Democratic Party  \n",
       "1528  1995-08-01T00:00:00Z  25.0                NaN  Republican Party  \n",
       "996   1995-09-07T00:00:00Z  25.0                NaN  Republican Party  \n",
       "...                    ...   ...                ...               ...  \n",
       "735   1927-08-07T00:00:00Z  93.0                NaN  Democratic Party  \n",
       "1194  1926-07-08T00:00:00Z  94.0                NaN  Democratic Party  \n",
       "721   1924-12-12T00:00:00Z  95.0                NaN  Democratic Party  \n",
       "854   1924-06-12T00:00:00Z  96.0                NaN  Republican Party  \n",
       "272   1923-07-22T00:00:00Z  97.0                NaN  Republican Party  \n",
       "\n",
       "[1910 rows x 10 columns]"
      ]
     },
     "execution_count": 384,
     "metadata": {},
     "output_type": "execute_result"
    }
   ],
   "source": [
    "cleaned_df = cleaned_df[cleaned_df['Age'] < 100]\n",
    "cleaned_df"
   ]
  },
  {
   "cell_type": "markdown",
   "metadata": {},
   "source": [
    "Наконец-то можем посмотреть, какие-нибудь статистические показатели по нашему датафрейму!"
   ]
  },
  {
   "cell_type": "code",
   "execution_count": 385,
   "metadata": {},
   "outputs": [
    {
     "data": {
      "text/plain": [
       "58.904712041884814"
      ]
     },
     "execution_count": 385,
     "metadata": {},
     "output_type": "execute_result"
    }
   ],
   "source": [
    "cleaned_df['Age'].mean() # средний возраст"
   ]
  },
  {
   "cell_type": "code",
   "execution_count": 386,
   "metadata": {},
   "outputs": [
    {
     "data": {
      "text/plain": [
       "0    66.0\n",
       "dtype: float64"
      ]
     },
     "execution_count": 386,
     "metadata": {},
     "output_type": "execute_result"
    }
   ],
   "source": [
    "cleaned_df['Age'].mode() # мода возрастов"
   ]
  },
  {
   "cell_type": "markdown",
   "metadata": {},
   "source": [
    "Интересно, что учитывая наличие и 18-летнего политика, средний возвраст и мода – около 59 лет. Еще интересно, что эти два показателя довольно близки.\n",
    "\n",
    "Можем даже нарисовать красивую гистограмму распределения по возрасту."
   ]
  },
  {
   "cell_type": "code",
   "execution_count": 359,
   "metadata": {},
   "outputs": [],
   "source": [
    "%matplotlib inline"
   ]
  },
  {
   "cell_type": "code",
   "execution_count": 387,
   "metadata": {},
   "outputs": [
    {
     "data": {
      "text/plain": [
       "<AxesSubplot:ylabel='Frequency'>"
      ]
     },
     "execution_count": 387,
     "metadata": {},
     "output_type": "execute_result"
    },
    {
     "data": {
      "image/png": "[encoded data removed]",
      "text/plain": [
       "<Figure size 432x288 with 1 Axes>"
      ]
     },
     "metadata": {
      "needs_background": "light"
     },
     "output_type": "display_data"
    }
   ],
   "source": [
    "cleaned_df['Age'].plot.hist(**{'alpha':0.7,'ls':'--','linewidth':1,'edgecolor':'r'})"
   ]
  },
  {
   "cell_type": "markdown",
   "metadata": {},
   "source": [
    "А теперь давайте выясним, кого среди них больше – мужчин или женщин?"
   ]
  },
  {
   "cell_type": "code",
   "execution_count": 388,
   "metadata": {},
   "outputs": [
    {
     "data": {
      "text/plain": [
       "1376"
      ]
     },
     "execution_count": 388,
     "metadata": {},
     "output_type": "execute_result"
    }
   ],
   "source": [
    "len(cleaned_df[cleaned_df['Sex'] == 'male'])"
   ]
  },
  {
   "cell_type": "code",
   "execution_count": 389,
   "metadata": {},
   "outputs": [
    {
     "data": {
      "text/plain": [
       "529"
      ]
     },
     "execution_count": 389,
     "metadata": {},
     "output_type": "execute_result"
    }
   ],
   "source": [
    "len(cleaned_df[cleaned_df['Sex'] == 'female'])"
   ]
  },
  {
   "cell_type": "markdown",
   "metadata": {},
   "source": [
    "Что ж, в политике на данный момент наверное в принципе больше мужчин. А теперь давайте посмотрим, кого среди них больше – республиканцев или демократов?"
   ]
  },
  {
   "cell_type": "code",
   "execution_count": 390,
   "metadata": {},
   "outputs": [
    {
     "data": {
      "text/plain": [
       "951"
      ]
     },
     "execution_count": 390,
     "metadata": {},
     "output_type": "execute_result"
    }
   ],
   "source": [
    "len(cleaned_df[cleaned_df['Political_party'] == 'Democratic Party'])"
   ]
  },
  {
   "cell_type": "code",
   "execution_count": 391,
   "metadata": {},
   "outputs": [
    {
     "data": {
      "text/plain": [
       "843"
      ]
     },
     "execution_count": 391,
     "metadata": {},
     "output_type": "execute_result"
    }
   ],
   "source": [
    "len(cleaned_df[cleaned_df['Political_party'] == 'Republican Party'])"
   ]
  },
  {
   "cell_type": "markdown",
   "metadata": {},
   "source": [
    "Оказывается, больше демократов.\n",
    "\n",
    "Кстати, мы можем писать и более сложные запросы. Например, можем добавить еще одно условие и узнать, сколько женщин среди представителей демократической партии.\n",
    "\n",
    "_Обратите внимание на круглые скобки, выделяющие условия и знак `&` – логическое И_."
   ]
  },
  {
   "cell_type": "code",
   "execution_count": 392,
   "metadata": {},
   "outputs": [
    {
     "data": {
      "text/html": [
       "<div>\n",
       "<style scoped>\n",
       "    .dataframe tbody tr th:only-of-type {\n",
       "        vertical-align: middle;\n",
       "    }\n",
       "\n",
       "    .dataframe tbody tr th {\n",
       "        vertical-align: top;\n",
       "    }\n",
       "\n",
       "    .dataframe thead th {\n",
       "        text-align: right;\n",
       "    }\n",
       "</style>\n",
       "<table border=\"1\" class=\"dataframe\">\n",
       "  <thead>\n",
       "    <tr style=\"text-align: right;\">\n",
       "      <th></th>\n",
       "      <th>Name</th>\n",
       "      <th>Twitter_username</th>\n",
       "      <th>Account_start_time</th>\n",
       "      <th>Account_ID</th>\n",
       "      <th>Sex</th>\n",
       "      <th>Birthplace</th>\n",
       "      <th>Birthday</th>\n",
       "      <th>Age</th>\n",
       "      <th>Instagram_username</th>\n",
       "      <th>Political_party</th>\n",
       "    </tr>\n",
       "  </thead>\n",
       "  <tbody>\n",
       "    <tr>\n",
       "      <th>1491</th>\n",
       "      <td>Lorraine Cortés-Vázquez</td>\n",
       "      <td>LorraineCortesV</td>\n",
       "      <td>2011-07-27T00:00:00Z</td>\n",
       "      <td>343513430</td>\n",
       "      <td>female</td>\n",
       "      <td>United States of America</td>\n",
       "      <td>2000-01-01T00:00:00Z</td>\n",
       "      <td>20.0</td>\n",
       "      <td>NaN</td>\n",
       "      <td>Democratic Party</td>\n",
       "    </tr>\n",
       "    <tr>\n",
       "      <th>44</th>\n",
       "      <td>Alexandria Ocasio-Cortez</td>\n",
       "      <td>AOC</td>\n",
       "      <td>2018-12-29T00:00:00Z</td>\n",
       "      <td>1079104563280527364</td>\n",
       "      <td>female</td>\n",
       "      <td>United States of America</td>\n",
       "      <td>1989-10-13T00:00:00Z</td>\n",
       "      <td>31.0</td>\n",
       "      <td>aoc</td>\n",
       "      <td>Democratic Party</td>\n",
       "    </tr>\n",
       "    <tr>\n",
       "      <th>5</th>\n",
       "      <td>Abby Finkenauer</td>\n",
       "      <td>Abby4Iowa</td>\n",
       "      <td>2013-03-12T00:00:00Z</td>\n",
       "      <td>1262017122</td>\n",
       "      <td>female</td>\n",
       "      <td>United States of America</td>\n",
       "      <td>1988-12-27T00:00:00Z</td>\n",
       "      <td>31.0</td>\n",
       "      <td>abby4iowa</td>\n",
       "      <td>Democratic Party</td>\n",
       "    </tr>\n",
       "    <tr>\n",
       "      <th>1425</th>\n",
       "      <td>Kylie Oversen</td>\n",
       "      <td>KylieOversen</td>\n",
       "      <td>2012-07-02T00:00:00Z</td>\n",
       "      <td>624883838</td>\n",
       "      <td>female</td>\n",
       "      <td>United States of America</td>\n",
       "      <td>1989-03-02T00:00:00Z</td>\n",
       "      <td>31.0</td>\n",
       "      <td>kylie_oversen</td>\n",
       "      <td>Democratic Party</td>\n",
       "    </tr>\n",
       "    <tr>\n",
       "      <th>2334</th>\n",
       "      <td>Tiffany Cabán</td>\n",
       "      <td>CabanForQueens</td>\n",
       "      <td>NaN</td>\n",
       "      <td>NaN</td>\n",
       "      <td>female</td>\n",
       "      <td>United States of America</td>\n",
       "      <td>1988-01-01T00:00:00Z</td>\n",
       "      <td>32.0</td>\n",
       "      <td>cabanforqueens</td>\n",
       "      <td>Democratic Party</td>\n",
       "    </tr>\n",
       "    <tr>\n",
       "      <th>...</th>\n",
       "      <td>...</td>\n",
       "      <td>...</td>\n",
       "      <td>...</td>\n",
       "      <td>...</td>\n",
       "      <td>...</td>\n",
       "      <td>...</td>\n",
       "      <td>...</td>\n",
       "      <td>...</td>\n",
       "      <td>...</td>\n",
       "      <td>...</td>\n",
       "    </tr>\n",
       "    <tr>\n",
       "      <th>729</th>\n",
       "      <td>Eddie Bernice Johnson</td>\n",
       "      <td>RepEBJ</td>\n",
       "      <td>2010-07-19T00:00:00Z</td>\n",
       "      <td>168502762</td>\n",
       "      <td>female</td>\n",
       "      <td>United States of America</td>\n",
       "      <td>1935-12-03T00:00:00Z</td>\n",
       "      <td>84.0</td>\n",
       "      <td>repebj</td>\n",
       "      <td>Democratic Party</td>\n",
       "    </tr>\n",
       "    <tr>\n",
       "      <th>660</th>\n",
       "      <td>Dianne Feinstein</td>\n",
       "      <td>SenFeinstein</td>\n",
       "      <td>2012-01-27T00:00:00Z</td>\n",
       "      <td>476256944</td>\n",
       "      <td>female</td>\n",
       "      <td>United States of America</td>\n",
       "      <td>1933-06-22T00:00:00Z</td>\n",
       "      <td>87.0</td>\n",
       "      <td>NaN</td>\n",
       "      <td>Democratic Party</td>\n",
       "    </tr>\n",
       "    <tr>\n",
       "      <th>1526</th>\n",
       "      <td>Madeleine M. Kunin</td>\n",
       "      <td>MadeleineKunin</td>\n",
       "      <td>2012-01-16T00:00:00Z</td>\n",
       "      <td>465807944</td>\n",
       "      <td>female</td>\n",
       "      <td>Switzerland</td>\n",
       "      <td>1933-09-28T00:00:00Z</td>\n",
       "      <td>87.0</td>\n",
       "      <td>NaN</td>\n",
       "      <td>Democratic Party</td>\n",
       "    </tr>\n",
       "    <tr>\n",
       "      <th>1498</th>\n",
       "      <td>Louise Slaughter</td>\n",
       "      <td>louiseslaughter</td>\n",
       "      <td>2009-08-05T00:00:00Z</td>\n",
       "      <td>63169388</td>\n",
       "      <td>female</td>\n",
       "      <td>United States of America</td>\n",
       "      <td>1929-08-14T00:00:00Z</td>\n",
       "      <td>91.0</td>\n",
       "      <td>louisemslaughter</td>\n",
       "      <td>Democratic Party</td>\n",
       "    </tr>\n",
       "    <tr>\n",
       "      <th>956</th>\n",
       "      <td>Ida G. Ruben</td>\n",
       "      <td>idagruben</td>\n",
       "      <td>2012-05-27T00:00:00Z</td>\n",
       "      <td>592065548</td>\n",
       "      <td>female</td>\n",
       "      <td>United States of America</td>\n",
       "      <td>1929-01-07T00:00:00Z</td>\n",
       "      <td>91.0</td>\n",
       "      <td>NaN</td>\n",
       "      <td>Democratic Party</td>\n",
       "    </tr>\n",
       "  </tbody>\n",
       "</table>\n",
       "<p>358 rows × 10 columns</p>\n",
       "</div>"
      ],
      "text/plain": [
       "                          Name Twitter_username    Account_start_time  \\\n",
       "1491   Lorraine Cortés-Vázquez  LorraineCortesV  2011-07-27T00:00:00Z   \n",
       "44    Alexandria Ocasio-Cortez              AOC  2018-12-29T00:00:00Z   \n",
       "5              Abby Finkenauer        Abby4Iowa  2013-03-12T00:00:00Z   \n",
       "1425             Kylie Oversen     KylieOversen  2012-07-02T00:00:00Z   \n",
       "2334             Tiffany Cabán   CabanForQueens                   NaN   \n",
       "...                        ...              ...                   ...   \n",
       "729      Eddie Bernice Johnson           RepEBJ  2010-07-19T00:00:00Z   \n",
       "660           Dianne Feinstein     SenFeinstein  2012-01-27T00:00:00Z   \n",
       "1526        Madeleine M. Kunin   MadeleineKunin  2012-01-16T00:00:00Z   \n",
       "1498          Louise Slaughter  louiseslaughter  2009-08-05T00:00:00Z   \n",
       "956               Ida G. Ruben        idagruben  2012-05-27T00:00:00Z   \n",
       "\n",
       "               Account_ID     Sex                Birthplace  \\\n",
       "1491            343513430  female  United States of America   \n",
       "44    1079104563280527364  female  United States of America   \n",
       "5              1262017122  female  United States of America   \n",
       "1425            624883838  female  United States of America   \n",
       "2334                  NaN  female  United States of America   \n",
       "...                   ...     ...                       ...   \n",
       "729             168502762  female  United States of America   \n",
       "660             476256944  female  United States of America   \n",
       "1526            465807944  female               Switzerland   \n",
       "1498             63169388  female  United States of America   \n",
       "956             592065548  female  United States of America   \n",
       "\n",
       "                  Birthday   Age Instagram_username   Political_party  \n",
       "1491  2000-01-01T00:00:00Z  20.0                NaN  Democratic Party  \n",
       "44    1989-10-13T00:00:00Z  31.0                aoc  Democratic Party  \n",
       "5     1988-12-27T00:00:00Z  31.0          abby4iowa  Democratic Party  \n",
       "1425  1989-03-02T00:00:00Z  31.0      kylie_oversen  Democratic Party  \n",
       "2334  1988-01-01T00:00:00Z  32.0     cabanforqueens  Democratic Party  \n",
       "...                    ...   ...                ...               ...  \n",
       "729   1935-12-03T00:00:00Z  84.0             repebj  Democratic Party  \n",
       "660   1933-06-22T00:00:00Z  87.0                NaN  Democratic Party  \n",
       "1526  1933-09-28T00:00:00Z  87.0                NaN  Democratic Party  \n",
       "1498  1929-08-14T00:00:00Z  91.0   louisemslaughter  Democratic Party  \n",
       "956   1929-01-07T00:00:00Z  91.0                NaN  Democratic Party  \n",
       "\n",
       "[358 rows x 10 columns]"
      ]
     },
     "execution_count": 392,
     "metadata": {},
     "output_type": "execute_result"
    }
   ],
   "source": [
    "cleaned_df[ (cleaned_df['Political_party'] == 'Democratic Party') & (cleaned_df['Sex'] == 'female')  ]"
   ]
  },
  {
   "cell_type": "markdown",
   "metadata": {},
   "source": [
    "Для сложных запросов в Pandas даже есть специальный метод `query`. Правда, удобство его использования остается под вопросом :)"
   ]
  },
  {
   "cell_type": "code",
   "execution_count": 393,
   "metadata": {},
   "outputs": [
    {
     "data": {
      "text/html": [
       "<div>\n",
       "<style scoped>\n",
       "    .dataframe tbody tr th:only-of-type {\n",
       "        vertical-align: middle;\n",
       "    }\n",
       "\n",
       "    .dataframe tbody tr th {\n",
       "        vertical-align: top;\n",
       "    }\n",
       "\n",
       "    .dataframe thead th {\n",
       "        text-align: right;\n",
       "    }\n",
       "</style>\n",
       "<table border=\"1\" class=\"dataframe\">\n",
       "  <thead>\n",
       "    <tr style=\"text-align: right;\">\n",
       "      <th></th>\n",
       "      <th>Name</th>\n",
       "      <th>Twitter_username</th>\n",
       "      <th>Account_start_time</th>\n",
       "      <th>Account_ID</th>\n",
       "      <th>Sex</th>\n",
       "      <th>Birthplace</th>\n",
       "      <th>Birthday</th>\n",
       "      <th>Age</th>\n",
       "      <th>Instagram_username</th>\n",
       "      <th>Political_party</th>\n",
       "    </tr>\n",
       "  </thead>\n",
       "  <tbody>\n",
       "    <tr>\n",
       "      <th>1491</th>\n",
       "      <td>Lorraine Cortés-Vázquez</td>\n",
       "      <td>LorraineCortesV</td>\n",
       "      <td>2011-07-27T00:00:00Z</td>\n",
       "      <td>343513430</td>\n",
       "      <td>female</td>\n",
       "      <td>United States of America</td>\n",
       "      <td>2000-01-01T00:00:00Z</td>\n",
       "      <td>20.0</td>\n",
       "      <td>NaN</td>\n",
       "      <td>Democratic Party</td>\n",
       "    </tr>\n",
       "    <tr>\n",
       "      <th>44</th>\n",
       "      <td>Alexandria Ocasio-Cortez</td>\n",
       "      <td>AOC</td>\n",
       "      <td>2018-12-29T00:00:00Z</td>\n",
       "      <td>1079104563280527364</td>\n",
       "      <td>female</td>\n",
       "      <td>United States of America</td>\n",
       "      <td>1989-10-13T00:00:00Z</td>\n",
       "      <td>31.0</td>\n",
       "      <td>aoc</td>\n",
       "      <td>Democratic Party</td>\n",
       "    </tr>\n",
       "    <tr>\n",
       "      <th>5</th>\n",
       "      <td>Abby Finkenauer</td>\n",
       "      <td>Abby4Iowa</td>\n",
       "      <td>2013-03-12T00:00:00Z</td>\n",
       "      <td>1262017122</td>\n",
       "      <td>female</td>\n",
       "      <td>United States of America</td>\n",
       "      <td>1988-12-27T00:00:00Z</td>\n",
       "      <td>31.0</td>\n",
       "      <td>abby4iowa</td>\n",
       "      <td>Democratic Party</td>\n",
       "    </tr>\n",
       "    <tr>\n",
       "      <th>1425</th>\n",
       "      <td>Kylie Oversen</td>\n",
       "      <td>KylieOversen</td>\n",
       "      <td>2012-07-02T00:00:00Z</td>\n",
       "      <td>624883838</td>\n",
       "      <td>female</td>\n",
       "      <td>United States of America</td>\n",
       "      <td>1989-03-02T00:00:00Z</td>\n",
       "      <td>31.0</td>\n",
       "      <td>kylie_oversen</td>\n",
       "      <td>Democratic Party</td>\n",
       "    </tr>\n",
       "    <tr>\n",
       "      <th>2334</th>\n",
       "      <td>Tiffany Cabán</td>\n",
       "      <td>CabanForQueens</td>\n",
       "      <td>NaN</td>\n",
       "      <td>NaN</td>\n",
       "      <td>female</td>\n",
       "      <td>United States of America</td>\n",
       "      <td>1988-01-01T00:00:00Z</td>\n",
       "      <td>32.0</td>\n",
       "      <td>cabanforqueens</td>\n",
       "      <td>Democratic Party</td>\n",
       "    </tr>\n",
       "    <tr>\n",
       "      <th>...</th>\n",
       "      <td>...</td>\n",
       "      <td>...</td>\n",
       "      <td>...</td>\n",
       "      <td>...</td>\n",
       "      <td>...</td>\n",
       "      <td>...</td>\n",
       "      <td>...</td>\n",
       "      <td>...</td>\n",
       "      <td>...</td>\n",
       "      <td>...</td>\n",
       "    </tr>\n",
       "    <tr>\n",
       "      <th>729</th>\n",
       "      <td>Eddie Bernice Johnson</td>\n",
       "      <td>RepEBJ</td>\n",
       "      <td>2010-07-19T00:00:00Z</td>\n",
       "      <td>168502762</td>\n",
       "      <td>female</td>\n",
       "      <td>United States of America</td>\n",
       "      <td>1935-12-03T00:00:00Z</td>\n",
       "      <td>84.0</td>\n",
       "      <td>repebj</td>\n",
       "      <td>Democratic Party</td>\n",
       "    </tr>\n",
       "    <tr>\n",
       "      <th>660</th>\n",
       "      <td>Dianne Feinstein</td>\n",
       "      <td>SenFeinstein</td>\n",
       "      <td>2012-01-27T00:00:00Z</td>\n",
       "      <td>476256944</td>\n",
       "      <td>female</td>\n",
       "      <td>United States of America</td>\n",
       "      <td>1933-06-22T00:00:00Z</td>\n",
       "      <td>87.0</td>\n",
       "      <td>NaN</td>\n",
       "      <td>Democratic Party</td>\n",
       "    </tr>\n",
       "    <tr>\n",
       "      <th>1526</th>\n",
       "      <td>Madeleine M. Kunin</td>\n",
       "      <td>MadeleineKunin</td>\n",
       "      <td>2012-01-16T00:00:00Z</td>\n",
       "      <td>465807944</td>\n",
       "      <td>female</td>\n",
       "      <td>Switzerland</td>\n",
       "      <td>1933-09-28T00:00:00Z</td>\n",
       "      <td>87.0</td>\n",
       "      <td>NaN</td>\n",
       "      <td>Democratic Party</td>\n",
       "    </tr>\n",
       "    <tr>\n",
       "      <th>1498</th>\n",
       "      <td>Louise Slaughter</td>\n",
       "      <td>louiseslaughter</td>\n",
       "      <td>2009-08-05T00:00:00Z</td>\n",
       "      <td>63169388</td>\n",
       "      <td>female</td>\n",
       "      <td>United States of America</td>\n",
       "      <td>1929-08-14T00:00:00Z</td>\n",
       "      <td>91.0</td>\n",
       "      <td>louisemslaughter</td>\n",
       "      <td>Democratic Party</td>\n",
       "    </tr>\n",
       "    <tr>\n",
       "      <th>956</th>\n",
       "      <td>Ida G. Ruben</td>\n",
       "      <td>idagruben</td>\n",
       "      <td>2012-05-27T00:00:00Z</td>\n",
       "      <td>592065548</td>\n",
       "      <td>female</td>\n",
       "      <td>United States of America</td>\n",
       "      <td>1929-01-07T00:00:00Z</td>\n",
       "      <td>91.0</td>\n",
       "      <td>NaN</td>\n",
       "      <td>Democratic Party</td>\n",
       "    </tr>\n",
       "  </tbody>\n",
       "</table>\n",
       "<p>358 rows × 10 columns</p>\n",
       "</div>"
      ],
      "text/plain": [
       "                          Name Twitter_username    Account_start_time  \\\n",
       "1491   Lorraine Cortés-Vázquez  LorraineCortesV  2011-07-27T00:00:00Z   \n",
       "44    Alexandria Ocasio-Cortez              AOC  2018-12-29T00:00:00Z   \n",
       "5              Abby Finkenauer        Abby4Iowa  2013-03-12T00:00:00Z   \n",
       "1425             Kylie Oversen     KylieOversen  2012-07-02T00:00:00Z   \n",
       "2334             Tiffany Cabán   CabanForQueens                   NaN   \n",
       "...                        ...              ...                   ...   \n",
       "729      Eddie Bernice Johnson           RepEBJ  2010-07-19T00:00:00Z   \n",
       "660           Dianne Feinstein     SenFeinstein  2012-01-27T00:00:00Z   \n",
       "1526        Madeleine M. Kunin   MadeleineKunin  2012-01-16T00:00:00Z   \n",
       "1498          Louise Slaughter  louiseslaughter  2009-08-05T00:00:00Z   \n",
       "956               Ida G. Ruben        idagruben  2012-05-27T00:00:00Z   \n",
       "\n",
       "               Account_ID     Sex                Birthplace  \\\n",
       "1491            343513430  female  United States of America   \n",
       "44    1079104563280527364  female  United States of America   \n",
       "5              1262017122  female  United States of America   \n",
       "1425            624883838  female  United States of America   \n",
       "2334                  NaN  female  United States of America   \n",
       "...                   ...     ...                       ...   \n",
       "729             168502762  female  United States of America   \n",
       "660             476256944  female  United States of America   \n",
       "1526            465807944  female               Switzerland   \n",
       "1498             63169388  female  United States of America   \n",
       "956             592065548  female  United States of America   \n",
       "\n",
       "                  Birthday   Age Instagram_username   Political_party  \n",
       "1491  2000-01-01T00:00:00Z  20.0                NaN  Democratic Party  \n",
       "44    1989-10-13T00:00:00Z  31.0                aoc  Democratic Party  \n",
       "5     1988-12-27T00:00:00Z  31.0          abby4iowa  Democratic Party  \n",
       "1425  1989-03-02T00:00:00Z  31.0      kylie_oversen  Democratic Party  \n",
       "2334  1988-01-01T00:00:00Z  32.0     cabanforqueens  Democratic Party  \n",
       "...                    ...   ...                ...               ...  \n",
       "729   1935-12-03T00:00:00Z  84.0             repebj  Democratic Party  \n",
       "660   1933-06-22T00:00:00Z  87.0                NaN  Democratic Party  \n",
       "1526  1933-09-28T00:00:00Z  87.0                NaN  Democratic Party  \n",
       "1498  1929-08-14T00:00:00Z  91.0   louisemslaughter  Democratic Party  \n",
       "956   1929-01-07T00:00:00Z  91.0                NaN  Democratic Party  \n",
       "\n",
       "[358 rows x 10 columns]"
      ]
     },
     "execution_count": 393,
     "metadata": {},
     "output_type": "execute_result"
    }
   ],
   "source": [
    "cleaned_df.query('Political_party == \"Democratic Party\" and Sex == \"female\"')"
   ]
  },
  {
   "cell_type": "markdown",
   "metadata": {},
   "source": [
    "Еще мы могли бы проанализировать данные по полю – `Account_start_time` – времени, когда был заведен аккаунт. Однако данные в этой колонке на самом деле не совсем время – это строки. А значит, фильтровать и сортировать по этой колонке как по колонке с временем мы не можем..."
   ]
  },
  {
   "cell_type": "code",
   "execution_count": 395,
   "metadata": {},
   "outputs": [
    {
     "name": "stdout",
     "output_type": "stream",
     "text": [
      "2010-06-27T00:00:00Z\n"
     ]
    },
    {
     "data": {
      "text/plain": [
       "str"
      ]
     },
     "execution_count": 395,
     "metadata": {},
     "output_type": "execute_result"
    }
   ],
   "source": [
    "print(cleaned_df.at[1, 'Account_start_time'])\n",
    "type(cleaned_df.at[1, 'Account_start_time'])"
   ]
  },
  {
   "cell_type": "markdown",
   "metadata": {},
   "source": [
    "Это можно сделать с помощью специальной функции `to_datetime` из пакета Pandas. \n",
    "\n",
    "Хм, что прямо вот так? Без циклов и перебора всех значений?\n",
    "Да! Такие операции в Pandas тоже выполняются поэлементно – примерно так же как в массивах Numpy. Здесь мы поэлементно привели все ячейки в колонке `Account_start_time` из строк в специальный объект `Timestamp`, в котором в Python хранится время."
   ]
  },
  {
   "cell_type": "code",
   "execution_count": 396,
   "metadata": {},
   "outputs": [
    {
     "data": {
      "text/html": [
       "<div>\n",
       "<style scoped>\n",
       "    .dataframe tbody tr th:only-of-type {\n",
       "        vertical-align: middle;\n",
       "    }\n",
       "\n",
       "    .dataframe tbody tr th {\n",
       "        vertical-align: top;\n",
       "    }\n",
       "\n",
       "    .dataframe thead th {\n",
       "        text-align: right;\n",
       "    }\n",
       "</style>\n",
       "<table border=\"1\" class=\"dataframe\">\n",
       "  <thead>\n",
       "    <tr style=\"text-align: right;\">\n",
       "      <th></th>\n",
       "      <th>Name</th>\n",
       "      <th>Twitter_username</th>\n",
       "      <th>Account_start_time</th>\n",
       "      <th>Account_ID</th>\n",
       "      <th>Sex</th>\n",
       "      <th>Birthplace</th>\n",
       "      <th>Birthday</th>\n",
       "      <th>Age</th>\n",
       "      <th>Instagram_username</th>\n",
       "      <th>Political_party</th>\n",
       "    </tr>\n",
       "  </thead>\n",
       "  <tbody>\n",
       "    <tr>\n",
       "      <th>1799</th>\n",
       "      <td>Nate Tinbite</td>\n",
       "      <td>natetinbite</td>\n",
       "      <td>2016-05-04 00:00:00+00:00</td>\n",
       "      <td>727970917008158720</td>\n",
       "      <td>male</td>\n",
       "      <td>United States of America</td>\n",
       "      <td>2002-05-09T00:00:00Z</td>\n",
       "      <td>18.0</td>\n",
       "      <td>natetinbite</td>\n",
       "      <td>Democratic Party</td>\n",
       "    </tr>\n",
       "    <tr>\n",
       "      <th>1491</th>\n",
       "      <td>Lorraine Cortés-Vázquez</td>\n",
       "      <td>LorraineCortesV</td>\n",
       "      <td>2011-07-27 00:00:00+00:00</td>\n",
       "      <td>343513430</td>\n",
       "      <td>female</td>\n",
       "      <td>United States of America</td>\n",
       "      <td>2000-01-01T00:00:00Z</td>\n",
       "      <td>20.0</td>\n",
       "      <td>NaN</td>\n",
       "      <td>Democratic Party</td>\n",
       "    </tr>\n",
       "    <tr>\n",
       "      <th>1105</th>\n",
       "      <td>Jim Dabakis</td>\n",
       "      <td>JimDabakis</td>\n",
       "      <td>2011-03-22 00:00:00+00:00</td>\n",
       "      <td>270462608</td>\n",
       "      <td>male</td>\n",
       "      <td>United States of America</td>\n",
       "      <td>2000-01-01T00:00:00Z</td>\n",
       "      <td>20.0</td>\n",
       "      <td>NaN</td>\n",
       "      <td>Democratic Party</td>\n",
       "    </tr>\n",
       "    <tr>\n",
       "      <th>1528</th>\n",
       "      <td>Madison Cawthorn</td>\n",
       "      <td>CawthornforNC</td>\n",
       "      <td>NaT</td>\n",
       "      <td>NaN</td>\n",
       "      <td>male</td>\n",
       "      <td>United States of America</td>\n",
       "      <td>1995-08-01T00:00:00Z</td>\n",
       "      <td>25.0</td>\n",
       "      <td>NaN</td>\n",
       "      <td>Republican Party</td>\n",
       "    </tr>\n",
       "    <tr>\n",
       "      <th>996</th>\n",
       "      <td>James Allsup</td>\n",
       "      <td>realjamesallsup</td>\n",
       "      <td>NaT</td>\n",
       "      <td>NaN</td>\n",
       "      <td>male</td>\n",
       "      <td>United States of America</td>\n",
       "      <td>1995-09-07T00:00:00Z</td>\n",
       "      <td>25.0</td>\n",
       "      <td>NaN</td>\n",
       "      <td>Republican Party</td>\n",
       "    </tr>\n",
       "    <tr>\n",
       "      <th>...</th>\n",
       "      <td>...</td>\n",
       "      <td>...</td>\n",
       "      <td>...</td>\n",
       "      <td>...</td>\n",
       "      <td>...</td>\n",
       "      <td>...</td>\n",
       "      <td>...</td>\n",
       "      <td>...</td>\n",
       "      <td>...</td>\n",
       "      <td>...</td>\n",
       "    </tr>\n",
       "    <tr>\n",
       "      <th>735</th>\n",
       "      <td>Edwin Edwards</td>\n",
       "      <td>EdwinWEdwards</td>\n",
       "      <td>2014-02-27 00:00:00+00:00</td>\n",
       "      <td>2363378742</td>\n",
       "      <td>male</td>\n",
       "      <td>United States of America</td>\n",
       "      <td>1927-08-07T00:00:00Z</td>\n",
       "      <td>93.0</td>\n",
       "      <td>NaN</td>\n",
       "      <td>Democratic Party</td>\n",
       "    </tr>\n",
       "    <tr>\n",
       "      <th>1194</th>\n",
       "      <td>John Dingell, Jr.</td>\n",
       "      <td>JohnDingell</td>\n",
       "      <td>2010-01-27 00:00:00+00:00</td>\n",
       "      <td>109025212</td>\n",
       "      <td>male</td>\n",
       "      <td>United States of America</td>\n",
       "      <td>1926-07-08T00:00:00Z</td>\n",
       "      <td>94.0</td>\n",
       "      <td>NaN</td>\n",
       "      <td>Democratic Party</td>\n",
       "    </tr>\n",
       "    <tr>\n",
       "      <th>721</th>\n",
       "      <td>Ed Koch</td>\n",
       "      <td>mayoredkoch</td>\n",
       "      <td>2010-05-13 00:00:00+00:00</td>\n",
       "      <td>143524116</td>\n",
       "      <td>male</td>\n",
       "      <td>United States of America</td>\n",
       "      <td>1924-12-12T00:00:00Z</td>\n",
       "      <td>95.0</td>\n",
       "      <td>NaN</td>\n",
       "      <td>Democratic Party</td>\n",
       "    </tr>\n",
       "    <tr>\n",
       "      <th>854</th>\n",
       "      <td>George H. W. Bush</td>\n",
       "      <td>GeorgeHWBush</td>\n",
       "      <td>2012-01-27 00:00:00+00:00</td>\n",
       "      <td>475988505</td>\n",
       "      <td>male</td>\n",
       "      <td>United States of America</td>\n",
       "      <td>1924-06-12T00:00:00Z</td>\n",
       "      <td>96.0</td>\n",
       "      <td>NaN</td>\n",
       "      <td>Republican Party</td>\n",
       "    </tr>\n",
       "    <tr>\n",
       "      <th>272</th>\n",
       "      <td>Bob Dole</td>\n",
       "      <td>SenatorDole</td>\n",
       "      <td>2015-06-23 00:00:00+00:00</td>\n",
       "      <td>3342812001</td>\n",
       "      <td>male</td>\n",
       "      <td>United States of America</td>\n",
       "      <td>1923-07-22T00:00:00Z</td>\n",
       "      <td>97.0</td>\n",
       "      <td>NaN</td>\n",
       "      <td>Republican Party</td>\n",
       "    </tr>\n",
       "  </tbody>\n",
       "</table>\n",
       "<p>1910 rows × 10 columns</p>\n",
       "</div>"
      ],
      "text/plain": [
       "                         Name Twitter_username        Account_start_time  \\\n",
       "1799             Nate Tinbite      natetinbite 2016-05-04 00:00:00+00:00   \n",
       "1491  Lorraine Cortés-Vázquez  LorraineCortesV 2011-07-27 00:00:00+00:00   \n",
       "1105              Jim Dabakis       JimDabakis 2011-03-22 00:00:00+00:00   \n",
       "1528         Madison Cawthorn    CawthornforNC                       NaT   \n",
       "996              James Allsup  realjamesallsup                       NaT   \n",
       "...                       ...              ...                       ...   \n",
       "735             Edwin Edwards    EdwinWEdwards 2014-02-27 00:00:00+00:00   \n",
       "1194        John Dingell, Jr.      JohnDingell 2010-01-27 00:00:00+00:00   \n",
       "721                   Ed Koch      mayoredkoch 2010-05-13 00:00:00+00:00   \n",
       "854         George H. W. Bush     GeorgeHWBush 2012-01-27 00:00:00+00:00   \n",
       "272                  Bob Dole      SenatorDole 2015-06-23 00:00:00+00:00   \n",
       "\n",
       "              Account_ID     Sex                Birthplace  \\\n",
       "1799  727970917008158720    male  United States of America   \n",
       "1491           343513430  female  United States of America   \n",
       "1105           270462608    male  United States of America   \n",
       "1528                 NaN    male  United States of America   \n",
       "996                  NaN    male  United States of America   \n",
       "...                  ...     ...                       ...   \n",
       "735           2363378742    male  United States of America   \n",
       "1194           109025212    male  United States of America   \n",
       "721            143524116    male  United States of America   \n",
       "854            475988505    male  United States of America   \n",
       "272           3342812001    male  United States of America   \n",
       "\n",
       "                  Birthday   Age Instagram_username   Political_party  \n",
       "1799  2002-05-09T00:00:00Z  18.0        natetinbite  Democratic Party  \n",
       "1491  2000-01-01T00:00:00Z  20.0                NaN  Democratic Party  \n",
       "1105  2000-01-01T00:00:00Z  20.0                NaN  Democratic Party  \n",
       "1528  1995-08-01T00:00:00Z  25.0                NaN  Republican Party  \n",
       "996   1995-09-07T00:00:00Z  25.0                NaN  Republican Party  \n",
       "...                    ...   ...                ...               ...  \n",
       "735   1927-08-07T00:00:00Z  93.0                NaN  Democratic Party  \n",
       "1194  1926-07-08T00:00:00Z  94.0                NaN  Democratic Party  \n",
       "721   1924-12-12T00:00:00Z  95.0                NaN  Democratic Party  \n",
       "854   1924-06-12T00:00:00Z  96.0                NaN  Republican Party  \n",
       "272   1923-07-22T00:00:00Z  97.0                NaN  Republican Party  \n",
       "\n",
       "[1910 rows x 10 columns]"
      ]
     },
     "execution_count": 396,
     "metadata": {},
     "output_type": "execute_result"
    }
   ],
   "source": [
    "cleaned_df['Account_start_time'] = pd.to_datetime(cleaned_df['Account_start_time'])\n",
    "cleaned_df"
   ]
  },
  {
   "cell_type": "markdown",
   "metadata": {},
   "source": [
    "И правда время!"
   ]
  },
  {
   "cell_type": "code",
   "execution_count": 397,
   "metadata": {},
   "outputs": [
    {
     "data": {
      "text/plain": [
       "Timestamp('2010-06-27 00:00:00+0000', tz='UTC')"
      ]
     },
     "execution_count": 397,
     "metadata": {},
     "output_type": "execute_result"
    }
   ],
   "source": [
    "cleaned_df.at[1, 'Account_start_time']"
   ]
  },
  {
   "cell_type": "markdown",
   "metadata": {},
   "source": [
    "Ну, теперь можем посмотреть время регистрации первого и последнего аккаунта из нашей таблицы."
   ]
  },
  {
   "cell_type": "code",
   "execution_count": 398,
   "metadata": {},
   "outputs": [
    {
     "data": {
      "text/plain": [
       "Timestamp('2007-03-01 00:00:00+0000', tz='UTC')"
      ]
     },
     "execution_count": 398,
     "metadata": {},
     "output_type": "execute_result"
    }
   ],
   "source": [
    "cleaned_df['Account_start_time'].min()"
   ]
  },
  {
   "cell_type": "code",
   "execution_count": 399,
   "metadata": {},
   "outputs": [
    {
     "data": {
      "text/plain": [
       "Timestamp('2020-08-17 00:00:00+0000', tz='UTC')"
      ]
     },
     "execution_count": 399,
     "metadata": {},
     "output_type": "execute_result"
    }
   ],
   "source": [
    "cleaned_df['Account_start_time'].max()"
   ]
  },
  {
   "cell_type": "markdown",
   "metadata": {},
   "source": [
    "А можем и весь датафрейм отсортировать по этому полю, чтобы было удобнее смотреть."
   ]
  },
  {
   "cell_type": "code",
   "execution_count": 400,
   "metadata": {},
   "outputs": [
    {
     "data": {
      "text/html": [
       "<div>\n",
       "<style scoped>\n",
       "    .dataframe tbody tr th:only-of-type {\n",
       "        vertical-align: middle;\n",
       "    }\n",
       "\n",
       "    .dataframe tbody tr th {\n",
       "        vertical-align: top;\n",
       "    }\n",
       "\n",
       "    .dataframe thead th {\n",
       "        text-align: right;\n",
       "    }\n",
       "</style>\n",
       "<table border=\"1\" class=\"dataframe\">\n",
       "  <thead>\n",
       "    <tr style=\"text-align: right;\">\n",
       "      <th></th>\n",
       "      <th>Name</th>\n",
       "      <th>Twitter_username</th>\n",
       "      <th>Account_start_time</th>\n",
       "      <th>Account_ID</th>\n",
       "      <th>Sex</th>\n",
       "      <th>Birthplace</th>\n",
       "      <th>Birthday</th>\n",
       "      <th>Age</th>\n",
       "      <th>Instagram_username</th>\n",
       "      <th>Political_party</th>\n",
       "    </tr>\n",
       "  </thead>\n",
       "  <tbody>\n",
       "    <tr>\n",
       "      <th>934</th>\n",
       "      <td>Hans Riemer</td>\n",
       "      <td>hansriemer</td>\n",
       "      <td>2007-03-01 00:00:00+00:00</td>\n",
       "      <td>804295</td>\n",
       "      <td>male</td>\n",
       "      <td>United States of America</td>\n",
       "      <td>1972-09-05T00:00:00Z</td>\n",
       "      <td>48.0</td>\n",
       "      <td>NaN</td>\n",
       "      <td>Democratic Party</td>\n",
       "    </tr>\n",
       "    <tr>\n",
       "      <th>2131</th>\n",
       "      <td>Sarah Sanders</td>\n",
       "      <td>SHSanders45</td>\n",
       "      <td>2007-04-01 00:00:00+00:00</td>\n",
       "      <td>823693635564802048</td>\n",
       "      <td>female</td>\n",
       "      <td>United States of America</td>\n",
       "      <td>1982-08-13T00:00:00Z</td>\n",
       "      <td>38.0</td>\n",
       "      <td>NaN</td>\n",
       "      <td>Republican Party</td>\n",
       "    </tr>\n",
       "    <tr>\n",
       "      <th>2403</th>\n",
       "      <td>Tom Price</td>\n",
       "      <td>SecPriceMD</td>\n",
       "      <td>2007-06-01 00:00:00+00:00</td>\n",
       "      <td>6577802</td>\n",
       "      <td>male</td>\n",
       "      <td>United States of America</td>\n",
       "      <td>1954-10-08T00:00:00Z</td>\n",
       "      <td>66.0</td>\n",
       "      <td>secpricemd</td>\n",
       "      <td>Republican Party</td>\n",
       "    </tr>\n",
       "    <tr>\n",
       "      <th>2402</th>\n",
       "      <td>Tom Price</td>\n",
       "      <td>RepTomPrice</td>\n",
       "      <td>2007-06-01 00:00:00+00:00</td>\n",
       "      <td>6577802</td>\n",
       "      <td>male</td>\n",
       "      <td>United States of America</td>\n",
       "      <td>1954-10-08T00:00:00Z</td>\n",
       "      <td>66.0</td>\n",
       "      <td>secpricemd</td>\n",
       "      <td>Republican Party</td>\n",
       "    </tr>\n",
       "    <tr>\n",
       "      <th>1626</th>\n",
       "      <td>Matthew Whitaker</td>\n",
       "      <td>mattwhitaker46</td>\n",
       "      <td>2007-06-08 00:00:00+00:00</td>\n",
       "      <td>6672532</td>\n",
       "      <td>male</td>\n",
       "      <td>United States of America</td>\n",
       "      <td>1969-10-29T00:00:00Z</td>\n",
       "      <td>51.0</td>\n",
       "      <td>NaN</td>\n",
       "      <td>Republican Party</td>\n",
       "    </tr>\n",
       "    <tr>\n",
       "      <th>...</th>\n",
       "      <td>...</td>\n",
       "      <td>...</td>\n",
       "      <td>...</td>\n",
       "      <td>...</td>\n",
       "      <td>...</td>\n",
       "      <td>...</td>\n",
       "      <td>...</td>\n",
       "      <td>...</td>\n",
       "      <td>...</td>\n",
       "      <td>...</td>\n",
       "    </tr>\n",
       "    <tr>\n",
       "      <th>1850</th>\n",
       "      <td>Pat Roberts</td>\n",
       "      <td>SenPatRoberts</td>\n",
       "      <td>NaT</td>\n",
       "      <td>NaN</td>\n",
       "      <td>male</td>\n",
       "      <td>United States of America</td>\n",
       "      <td>1936-04-20T00:00:00Z</td>\n",
       "      <td>84.0</td>\n",
       "      <td>NaN</td>\n",
       "      <td>Republican Party</td>\n",
       "    </tr>\n",
       "    <tr>\n",
       "      <th>757</th>\n",
       "      <td>Elizabeth Dole</td>\n",
       "      <td>elizabethdole</td>\n",
       "      <td>NaT</td>\n",
       "      <td>NaN</td>\n",
       "      <td>female</td>\n",
       "      <td>United States of America</td>\n",
       "      <td>1936-07-29T00:00:00Z</td>\n",
       "      <td>84.0</td>\n",
       "      <td>NaN</td>\n",
       "      <td>Republican Party</td>\n",
       "    </tr>\n",
       "    <tr>\n",
       "      <th>357</th>\n",
       "      <td>Carl Levin</td>\n",
       "      <td>SenCarlLevin</td>\n",
       "      <td>NaT</td>\n",
       "      <td>NaN</td>\n",
       "      <td>male</td>\n",
       "      <td>United States of America</td>\n",
       "      <td>1934-06-28T00:00:00Z</td>\n",
       "      <td>86.0</td>\n",
       "      <td>NaN</td>\n",
       "      <td>Democratic Party</td>\n",
       "    </tr>\n",
       "    <tr>\n",
       "      <th>1972</th>\n",
       "      <td>Richard Lugar</td>\n",
       "      <td>senatorlugar</td>\n",
       "      <td>NaT</td>\n",
       "      <td>NaN</td>\n",
       "      <td>male</td>\n",
       "      <td>United States of America</td>\n",
       "      <td>1932-04-04T00:00:00Z</td>\n",
       "      <td>88.0</td>\n",
       "      <td>NaN</td>\n",
       "      <td>Republican Party</td>\n",
       "    </tr>\n",
       "    <tr>\n",
       "      <th>1304</th>\n",
       "      <td>Julian Carroll</td>\n",
       "      <td>julianpcarroll</td>\n",
       "      <td>NaT</td>\n",
       "      <td>NaN</td>\n",
       "      <td>male</td>\n",
       "      <td>United States of America</td>\n",
       "      <td>1931-01-01T00:00:00Z</td>\n",
       "      <td>89.0</td>\n",
       "      <td>NaN</td>\n",
       "      <td>Democratic Party</td>\n",
       "    </tr>\n",
       "  </tbody>\n",
       "</table>\n",
       "<p>1910 rows × 10 columns</p>\n",
       "</div>"
      ],
      "text/plain": [
       "                  Name Twitter_username        Account_start_time  \\\n",
       "934        Hans Riemer       hansriemer 2007-03-01 00:00:00+00:00   \n",
       "2131     Sarah Sanders      SHSanders45 2007-04-01 00:00:00+00:00   \n",
       "2403         Tom Price       SecPriceMD 2007-06-01 00:00:00+00:00   \n",
       "2402         Tom Price      RepTomPrice 2007-06-01 00:00:00+00:00   \n",
       "1626  Matthew Whitaker   mattwhitaker46 2007-06-08 00:00:00+00:00   \n",
       "...                ...              ...                       ...   \n",
       "1850       Pat Roberts    SenPatRoberts                       NaT   \n",
       "757     Elizabeth Dole    elizabethdole                       NaT   \n",
       "357         Carl Levin     SenCarlLevin                       NaT   \n",
       "1972     Richard Lugar     senatorlugar                       NaT   \n",
       "1304    Julian Carroll   julianpcarroll                       NaT   \n",
       "\n",
       "              Account_ID     Sex                Birthplace  \\\n",
       "934               804295    male  United States of America   \n",
       "2131  823693635564802048  female  United States of America   \n",
       "2403             6577802    male  United States of America   \n",
       "2402             6577802    male  United States of America   \n",
       "1626             6672532    male  United States of America   \n",
       "...                  ...     ...                       ...   \n",
       "1850                 NaN    male  United States of America   \n",
       "757                  NaN  female  United States of America   \n",
       "357                  NaN    male  United States of America   \n",
       "1972                 NaN    male  United States of America   \n",
       "1304                 NaN    male  United States of America   \n",
       "\n",
       "                  Birthday   Age Instagram_username   Political_party  \n",
       "934   1972-09-05T00:00:00Z  48.0                NaN  Democratic Party  \n",
       "2131  1982-08-13T00:00:00Z  38.0                NaN  Republican Party  \n",
       "2403  1954-10-08T00:00:00Z  66.0         secpricemd  Republican Party  \n",
       "2402  1954-10-08T00:00:00Z  66.0         secpricemd  Republican Party  \n",
       "1626  1969-10-29T00:00:00Z  51.0                NaN  Republican Party  \n",
       "...                    ...   ...                ...               ...  \n",
       "1850  1936-04-20T00:00:00Z  84.0                NaN  Republican Party  \n",
       "757   1936-07-29T00:00:00Z  84.0                NaN  Republican Party  \n",
       "357   1934-06-28T00:00:00Z  86.0                NaN  Democratic Party  \n",
       "1972  1932-04-04T00:00:00Z  88.0                NaN  Republican Party  \n",
       "1304  1931-01-01T00:00:00Z  89.0                NaN  Democratic Party  \n",
       "\n",
       "[1910 rows x 10 columns]"
      ]
     },
     "execution_count": 400,
     "metadata": {},
     "output_type": "execute_result"
    }
   ],
   "source": [
    "cleaned_df = cleaned_df.sort_values(by=['Account_start_time'], ascending = True)\n",
    "cleaned_df"
   ]
  },
  {
   "cell_type": "markdown",
   "metadata": {},
   "source": [
    "Оказывается, первым аккаунт в твиттере завел демократ Hans Riemer в 2007 году. Сколько ему было тогда лет? У нас есть дата рождения, и мы можем посчитать – 34 года.\n",
    "\n",
    "В каком возрасте представители разных партий заводят твиттер? У кого из них есть аккаунт в инстаграм, а кто сидит только в твиттере? Кто из политиков заводит твиттер раньше – мучжины или женщины? На все эти вопросы можно ответить с помощью этого датасета – поразвлекайтесь на досуге.\n",
    "\n",
    "А на этом на сегодня все!"
   ]
  }
 ],
 "metadata": {
  "kernelspec": {
   "display_name": "Python 3",
   "language": "python",
   "name": "python3"
  },
  "language_info": {
   "codemirror_mode": {
    "name": "ipython",
    "version": 3
   },
   "file_extension": ".py",
   "mimetype": "text/x-python",
   "name": "python",
   "nbconvert_exporter": "python",
   "pygments_lexer": "ipython3",
   "version": "3.8.2"
  }
 },
 "nbformat": 4,
 "nbformat_minor": 4
}
