{
 "cells": [
  {
   "cell_type": "markdown",
   "metadata": {},
   "source": [
    "# Лекция 2. Структуры данных в Python: списки, кортежи, словари, множества"
   ]
  },
  {
   "cell_type": "markdown",
   "metadata": {},
   "source": [
    "В прошлой лекции мы с вами впервые познакомились с языком программирования Python, узнали, что его можно использовать как простой калькулятор, разобрались, что в Python есть разные типы данных (они еще называются, примитивы), например, целые и вещественные числа, строки и логический тип. А еще узнали, что такое переменные.\n",
    "\n",
    "Здорово! Теперь мы пойдем дальше и узнаем, как можно удобно записывать, хранить и использовать данные внутри Python.\n",
    "\n",
    "## Списки\n",
    "\n",
    "### Списки и индексы\n",
    "\n",
    "Первая структура данных, с которой мы познакомимся, – список (list). Списком называют упорядоченный набор каких-то элементов. В Python элементы списка заключены в квадратные скобки и разделены запятой. Например, представьте, что вы составили список товаров, которые нужно купить в магазине. В Python он будет выглядеть как-то так:"
   ]
  },
  {
   "cell_type": "code",
   "execution_count": 18,
   "metadata": {},
   "outputs": [
    {
     "data": {
      "text/plain": [
       "['Apples', 'Oranges', 'Water']"
      ]
     },
     "execution_count": 18,
     "metadata": {},
     "output_type": "execute_result"
    }
   ],
   "source": [
    "['Apples', 'Oranges', 'Water']"
   ]
  },
  {
   "cell_type": "markdown",
   "metadata": {},
   "source": [
    "Список можно присвоить какой-нибудь переменной."
   ]
  },
  {
   "cell_type": "code",
   "execution_count": 19,
   "metadata": {},
   "outputs": [
    {
     "name": "stdout",
     "output_type": "stream",
     "text": [
      "['Apples', 'Oranges', 'Water']\n"
     ]
    }
   ],
   "source": [
    "products_to_buy = ['Apples', 'Oranges', 'Water']\n",
    "\n",
    "print(products_to_buy)"
   ]
  },
  {
   "cell_type": "markdown",
   "metadata": {},
   "source": [
    "У списка есть длина, узнать ее можно, вызвав специальную функцию len(), вот так:"
   ]
  },
  {
   "cell_type": "code",
   "execution_count": 20,
   "metadata": {},
   "outputs": [
    {
     "data": {
      "text/plain": [
       "3"
      ]
     },
     "execution_count": 20,
     "metadata": {},
     "output_type": "execute_result"
    }
   ],
   "source": [
    "len(products_to_buy)"
   ]
  },
  {
   "cell_type": "markdown",
   "metadata": {},
   "source": [
    "Мы видим, что в этом списке три элемента, соответственно и его длина равна трем. У каждого элемента списка есть свой номер, программисты называют этот номер индексом. Важно, что в программировании вообще почти вся нумерация начинается с нуля – это такой программерский секрет, чтобы отсеивать непосвященных :) (на самом деле все довольно просто, подробнее, почему все же с нуля, а не с единицы, можно почитать тут – ).\n",
    "\n",
    "Поэтому и индексы в списке тоже начинаются с нуля. Мы можем обратиться к первому элементу списка – элементу с индексом 0 – и посмотреть, что в нем находится. "
   ]
  },
  {
   "cell_type": "code",
   "execution_count": 21,
   "metadata": {},
   "outputs": [
    {
     "name": "stdout",
     "output_type": "stream",
     "text": [
      "First:  Apples\n",
      "Second:  Oranges\n",
      "Third:  Water\n"
     ]
    }
   ],
   "source": [
    "print('First: ', products_to_buy[0])\n",
    "print('Second: ', products_to_buy[1])\n",
    "print('Third: ', products_to_buy[2])"
   ]
  },
  {
   "cell_type": "markdown",
   "metadata": {},
   "source": [
    "Как мы уже поняли, в списке всего 3 элемента, поэтому если мы попробуем обратиться к четвертому, что получим ошибку."
   ]
  },
  {
   "cell_type": "code",
   "execution_count": 22,
   "metadata": {},
   "outputs": [
    {
     "ename": "IndexError",
     "evalue": "list index out of range",
     "output_type": "error",
     "traceback": [
      "\u001b[0;31m---------------------------------------------------------------------------\u001b[0m",
      "\u001b[0;31mIndexError\u001b[0m                                Traceback (most recent call last)",
      "\u001b[0;32m<ipython-input-22-b32ab03ccae0>\u001b[0m in \u001b[0;36m<module>\u001b[0;34m\u001b[0m\n\u001b[0;32m----> 1\u001b[0;31m \u001b[0mproducts_to_buy\u001b[0m\u001b[0;34m[\u001b[0m\u001b[0;36m3\u001b[0m\u001b[0;34m]\u001b[0m\u001b[0;34m\u001b[0m\u001b[0;34m\u001b[0m\u001b[0m\n\u001b[0m",
      "\u001b[0;31mIndexError\u001b[0m: list index out of range"
     ]
    }
   ],
   "source": [
    "products_to_buy[3]"
   ]
  },
  {
   "cell_type": "markdown",
   "metadata": {},
   "source": [
    "Мы можем посмотреть тип переменной products_to_buy, чтобы убедиться, что это действительно список"
   ]
  },
  {
   "cell_type": "code",
   "execution_count": 23,
   "metadata": {},
   "outputs": [
    {
     "data": {
      "text/plain": [
       "list"
      ]
     },
     "execution_count": 23,
     "metadata": {},
     "output_type": "execute_result"
    }
   ],
   "source": [
    "type(products_to_buy)"
   ]
  },
  {
   "cell_type": "markdown",
   "metadata": {},
   "source": [
    "Обратите внимание, что интерпретатор говорит нам, что тип products_to_buy это list. Однако мы ничего не знаем о типах элементов, которые лежат в этом списке. Но мы можем посмотреть это с помощью такой записи"
   ]
  },
  {
   "cell_type": "code",
   "execution_count": 24,
   "metadata": {},
   "outputs": [
    {
     "data": {
      "text/plain": [
       "str"
      ]
     },
     "execution_count": 24,
     "metadata": {},
     "output_type": "execute_result"
    }
   ],
   "source": [
    "type(products_to_buy[0])"
   ]
  },
  {
   "cell_type": "markdown",
   "metadata": {},
   "source": [
    "Как и предполагалось, это строка :)\n",
    "\n",
    "Давайте теперь представим, что нам нужно изменить наш список покупок. Например, оказалось так, что яблоки у нас уже есть, а вот бананы закончились. Это сделать несложно – нам нужно сказать интерпретатору, что в списке products_to_buy в ячейке с индексом 0 теперь будут 'Bananas'."
   ]
  },
  {
   "cell_type": "code",
   "execution_count": 25,
   "metadata": {},
   "outputs": [
    {
     "name": "stdout",
     "output_type": "stream",
     "text": [
      "['Bananas', 'Oranges', 'Water']\n",
      "Bananas\n"
     ]
    }
   ],
   "source": [
    "products_to_buy[0] = 'Bananas'\n",
    "print(products_to_buy)\n",
    "print(products_to_buy[0])"
   ]
  },
  {
   "cell_type": "markdown",
   "metadata": {},
   "source": [
    "### Добавление и удаление элементов списка"
   ]
  },
  {
   "cell_type": "markdown",
   "metadata": {},
   "source": [
    "А что если нам нужно не изменить имеющийся, а добавить новый элемент в список? Например, выяснилось, что дома у нас нет еще и молока. Это можно сделать с помощью метода append()"
   ]
  },
  {
   "cell_type": "code",
   "execution_count": 26,
   "metadata": {},
   "outputs": [
    {
     "name": "stdout",
     "output_type": "stream",
     "text": [
      "['Bananas', 'Oranges', 'Water', 'Milk']\n"
     ]
    }
   ],
   "source": [
    "products_to_buy.append('Milk')\n",
    "print(products_to_buy)"
   ]
  },
  {
   "cell_type": "markdown",
   "metadata": {},
   "source": [
    "Обратите внимание, что 'Milk' добавился в конец списка. Кстати, чтобы получить последний элемент списка в Python можно написать вот такую штуку"
   ]
  },
  {
   "cell_type": "code",
   "execution_count": 27,
   "metadata": {},
   "outputs": [
    {
     "name": "stdout",
     "output_type": "stream",
     "text": [
      "Milk\n"
     ]
    }
   ],
   "source": [
    "print(products_to_buy[-1])"
   ]
  },
  {
   "cell_type": "markdown",
   "metadata": {},
   "source": [
    "Прикольно! Нам еще нужно купить мясо, но мясной отдел находится сразу за отделом с фруктами, а вода стоит у самой кассы, поэтому нам логично сначала купить фркутов, потом мясо, потом молоко, а потом уже взять воду. Если мы будем использовать append(), то мясо встанет в конец списка, а хотелось бы, чтобы список продуктов тоже был упорядочен :( \n",
    "\n",
    "Можно ли вставить молоко перед водой? Можно! Для этого есть метод insert(), в котором мы указываем, на какое место (индекс) нужно вставить элемент"
   ]
  },
  {
   "cell_type": "code",
   "execution_count": 28,
   "metadata": {},
   "outputs": [
    {
     "name": "stdout",
     "output_type": "stream",
     "text": [
      "['Bananas', 'Oranges', 'Meat', 'Water', 'Milk']\n"
     ]
    }
   ],
   "source": [
    "products_to_buy.insert(2, 'Meat')\n",
    "print(products_to_buy)"
   ]
  },
  {
   "cell_type": "markdown",
   "metadata": {},
   "source": [
    "Придя в магазин, мы вспомнили, что мясо у нас все-таки есть. Надо бы удалить его из списка. Легко"
   ]
  },
  {
   "cell_type": "code",
   "execution_count": 29,
   "metadata": {},
   "outputs": [
    {
     "name": "stdout",
     "output_type": "stream",
     "text": [
      "['Bananas', 'Oranges', 'Water', 'Milk']\n"
     ]
    }
   ],
   "source": [
    "products_to_buy.pop(2)\n",
    "print(products_to_buy)"
   ]
  },
  {
   "cell_type": "markdown",
   "metadata": {},
   "source": [
    "Хмм... но для этого нужно всегда знать индекс элемента. А что если у нас список из 10 тысяч элементов и искать индекс ну совершенно неудобно? Тогда можно удалить элемент по значению. Вот так"
   ]
  },
  {
   "cell_type": "code",
   "execution_count": 32,
   "metadata": {},
   "outputs": [
    {
     "name": "stdout",
     "output_type": "stream",
     "text": [
      "['Bananas', 'Oranges', 'Milk']\n"
     ]
    }
   ],
   "source": [
    "products_to_buy.remove('Water')\n",
    "print(products_to_buy)"
   ]
  },
  {
   "cell_type": "markdown",
   "metadata": {},
   "source": [
    "Классно, но если воды нет в списке, то когда мы будем ее удалять, возникнет ошибка, ведь так? Совершенно верно. Нам нужно узнать, есть ли вода в списке. Это можно сделать разными способами, о которых мы еще поговорим позже, а пока самый простой из них – написать вот такой простой код, который вернет булево (логическое) значение"
   ]
  },
  {
   "cell_type": "code",
   "execution_count": 35,
   "metadata": {},
   "outputs": [
    {
     "data": {
      "text/plain": [
       "False"
      ]
     },
     "execution_count": 35,
     "metadata": {},
     "output_type": "execute_result"
    }
   ],
   "source": [
    "'Water' in products_to_buy"
   ]
  },
  {
   "cell_type": "code",
   "execution_count": 36,
   "metadata": {},
   "outputs": [
    {
     "data": {
      "text/plain": [
       "True"
      ]
     },
     "execution_count": 36,
     "metadata": {},
     "output_type": "execute_result"
    }
   ],
   "source": [
    "'Oranges' in products_to_buy"
   ]
  },
  {
   "cell_type": "markdown",
   "metadata": {},
   "source": [
    "### \"Склеивание\" списков, операции split и join"
   ]
  },
  {
   "cell_type": "markdown",
   "metadata": {},
   "source": [
    "Что еще можно сделать со списками? Их, например, можно \"склеить\""
   ]
  },
  {
   "cell_type": "code",
   "execution_count": 38,
   "metadata": {},
   "outputs": [
    {
     "name": "stdout",
     "output_type": "stream",
     "text": [
      "['a', 'b', 'c', 'd', 'e', 'f']\n"
     ]
    }
   ],
   "source": [
    "my_list_1 = ['a', 'b', 'c']\n",
    "my_list_2 = ['d', 'e', 'f']\n",
    "\n",
    "print(my_list_1 + my_list_2)"
   ]
  },
  {
   "cell_type": "markdown",
   "metadata": {},
   "source": [
    "А еще можно превратить список в строку..."
   ]
  },
  {
   "cell_type": "code",
   "execution_count": 40,
   "metadata": {},
   "outputs": [
    {
     "data": {
      "text/plain": [
       "\"['a', 'b', 'c']\""
      ]
     },
     "execution_count": 40,
     "metadata": {},
     "output_type": "execute_result"
    }
   ],
   "source": [
    "str(my_list_1)"
   ]
  },
  {
   "cell_type": "markdown",
   "metadata": {},
   "source": [
    "Обратите внимание, что у нас получилась строка с квадратными скобками и кавычками... Можно, конечно, удалить из нее все ненужное с помощью метода replace(), но есть вариант и попроще – сразу сделать нормальную строку без лишних символов с помощью метода join()"
   ]
  },
  {
   "cell_type": "code",
   "execution_count": 42,
   "metadata": {},
   "outputs": [
    {
     "name": "stdout",
     "output_type": "stream",
     "text": [
      "abc\n",
      "a***b***c\n",
      "a b c\n"
     ]
    }
   ],
   "source": [
    "print(''.join(my_list_1))\n",
    "print('***'.join(my_list_1))\n",
    "print(' '.join(my_list_1))"
   ]
  },
  {
   "cell_type": "markdown",
   "metadata": {},
   "source": [
    "join() – метод строки, а не списка, но на вход он принимает именно список, который надо заджойнить. Приведенная выше запись означает **\"соединить элементы списка my_list_1 с разделителем *\"**\n",
    "\n",
    "Если список можно превратить в строку, то и обратная операция должна быть? И она есть"
   ]
  },
  {
   "cell_type": "code",
   "execution_count": 43,
   "metadata": {},
   "outputs": [
    {
     "data": {
      "text/plain": [
       "['с', 'т', 'р', 'о', 'к', 'а']"
      ]
     },
     "execution_count": 43,
     "metadata": {},
     "output_type": "execute_result"
    }
   ],
   "source": [
    "list('строка')"
   ]
  },
  {
   "cell_type": "markdown",
   "metadata": {},
   "source": [
    "С помошью ключевого слова list() мы можем разбить строку на отдельные элементы по символу. А что если мы хотим разбить строку по какому-то специальному разделителю? И так тоже можно "
   ]
  },
  {
   "cell_type": "code",
   "execution_count": 44,
   "metadata": {},
   "outputs": [
    {
     "data": {
      "text/plain": [
       "['Mango', 'Papaya', 'Bananas', 'Kiwi']"
      ]
     },
     "execution_count": 44,
     "metadata": {},
     "output_type": "execute_result"
    }
   ],
   "source": [
    "'Mango,Papaya,Bananas,Kiwi'.split(',')"
   ]
  },
  {
   "cell_type": "markdown",
   "metadata": {},
   "source": [
    "### Срезы\n",
    "\n",
    "А что если нам нужно посмотреть первые N элементов списка? А если мы хотим посмотреть элементы списка со 2 по 5? А последние 5?\n",
    "\n",
    "Для этого в Python есть срезы. Например, вот такая запись говорит, что _нам нужны элементы списка my_list_3 с 0 по 3._"
   ]
  },
  {
   "cell_type": "code",
   "execution_count": 46,
   "metadata": {},
   "outputs": [
    {
     "data": {
      "text/plain": [
       "['a', 'b', 'c']"
      ]
     },
     "execution_count": 46,
     "metadata": {},
     "output_type": "execute_result"
    }
   ],
   "source": [
    "my_list_3 = ['a', 'b', 'c', 'd', 'e', 'f', 'g']\n",
    "\n",
    "my_list_3[:3]"
   ]
  },
  {
   "cell_type": "markdown",
   "metadata": {},
   "source": [
    "А вот такая, что со 2 по 4"
   ]
  },
  {
   "cell_type": "code",
   "execution_count": 47,
   "metadata": {},
   "outputs": [
    {
     "data": {
      "text/plain": [
       "['b', 'c', 'd']"
      ]
     },
     "execution_count": 47,
     "metadata": {},
     "output_type": "execute_result"
    }
   ],
   "source": [
    "my_list_3[1:4]"
   ]
  },
  {
   "cell_type": "markdown",
   "metadata": {},
   "source": [
    "_Заметили подвох?_\n",
    "\n",
    "В срезе левая граница _всегда_ исключающая, а правая – включающая. То есть если мы пишем, my_list_3[1:4], то получаем элементы с индексами со 2 по 4. Как думаете, что нужно написать, чтобы получить элементы с 5 и до конца списка?\n",
    "\n",
    "### И еще немного про списки\n",
    "\n",
    "Вообще-то говоря, в списке могут лежать не только строки, а вообще все, что угодно. Возможно, вы уже знакомы с языками программирования со строгой типизацией, где в списке строк не могут находиться, например, вещественные числа. Python же такого не запрещает :)"
   ]
  },
  {
   "cell_type": "code",
   "execution_count": 49,
   "metadata": {},
   "outputs": [
    {
     "name": "stdout",
     "output_type": "stream",
     "text": [
      "[1, 2, 'a', True, 'c', 1.2, 'anything you want']\n"
     ]
    }
   ],
   "source": [
    "my_mixed_list = [1, 2, 'a', True, 'c', 1.2]\n",
    "my_mixed_list.append('anything you want')\n",
    "\n",
    "print(my_mixed_list)"
   ]
  },
  {
   "cell_type": "markdown",
   "metadata": {},
   "source": [
    "Элементом списка может быть даже другой список"
   ]
  },
  {
   "cell_type": "code",
   "execution_count": 51,
   "metadata": {},
   "outputs": [
    {
     "name": "stdout",
     "output_type": "stream",
     "text": [
      "[1, 2, 'a', True, 'c', 1.2, 'anything you want', [1, 2, 3]]\n"
     ]
    }
   ],
   "source": [
    "my_mixed_list.append([1, 2, 3])\n",
    "print(my_mixed_list)"
   ]
  },
  {
   "cell_type": "markdown",
   "metadata": {},
   "source": [
    "На самом деле со списками можно делать множество операций. Например, находить максимальный или минимальный элемент..."
   ]
  },
  {
   "cell_type": "code",
   "execution_count": 53,
   "metadata": {},
   "outputs": [
    {
     "name": "stdout",
     "output_type": "stream",
     "text": [
      "c\n",
      "a\n"
     ]
    }
   ],
   "source": [
    "print(max(my_list_1))\n",
    "print(min(my_list_1))"
   ]
  },
  {
   "cell_type": "markdown",
   "metadata": {},
   "source": [
    "...сортировать или разворачивать"
   ]
  },
  {
   "cell_type": "code",
   "execution_count": 57,
   "metadata": {},
   "outputs": [
    {
     "name": "stdout",
     "output_type": "stream",
     "text": [
      "['a', 'b', 'c']\n",
      "['c', 'b', 'a']\n",
      "['a', 'b', 'c']\n"
     ]
    }
   ],
   "source": [
    "print(my_list_1)\n",
    "# разворачиваем список\n",
    "my_list_1.reverse()\n",
    "\n",
    "print(my_list_1)\n",
    "# снова сортируем список от меньшего к большему\n",
    "my_list_1.sort()\n",
    "\n",
    "print(my_list_1)"
   ]
  },
  {
   "cell_type": "markdown",
   "metadata": {},
   "source": [
    "...и еще много чего другого. Подробнее можно почитать, например, тут https://pythontutor.ru/lessons/lists/"
   ]
  },
  {
   "cell_type": "markdown",
   "metadata": {},
   "source": [
    "## Кортежи"
   ]
  },
  {
   "cell_type": "markdown",
   "metadata": {},
   "source": [
    "Есть в Python еще одна структура данных, которя чем-то напоминает список. Называется кортеж. Основная разница между списком и кортежем состоит в том, что список является _изменяемым_ – мы можем поменять, добавить или удалить элементы, а кортеж – _неизменяемым_.\n",
    "\n",
    "Кортеж похож на список – это тоже несколько элементов, разделенных запятой, но только _не в квадратных, а в круглых скобках_.\n",
    "Создать кортеж можно с помощью скобок или через ключевое слово tuple(), которое можно применить к строке."
   ]
  },
  {
   "cell_type": "code",
   "execution_count": 61,
   "metadata": {},
   "outputs": [
    {
     "name": "stdout",
     "output_type": "stream",
     "text": [
      "(1, 2, 3)\n",
      "('4', '5', '6')\n"
     ]
    }
   ],
   "source": [
    "my_tuple_1 = (1, 2, 3)\n",
    "print(my_tuple_1)\n",
    "\n",
    "my_tuple_2 = tuple('456')\n",
    "print(my_tuple_2)"
   ]
  },
  {
   "cell_type": "markdown",
   "metadata": {},
   "source": [
    "_Но будьте внимательны, когда создаете кортеж из одного элемента с помощью скобок!_\n",
    "\n",
    "Такая запись на первый взгляд должна создать новый кортеж..."
   ]
  },
  {
   "cell_type": "code",
   "execution_count": 63,
   "metadata": {},
   "outputs": [
    {
     "data": {
      "text/plain": [
       "int"
      ]
     },
     "execution_count": 63,
     "metadata": {},
     "output_type": "execute_result"
    }
   ],
   "source": [
    "my_tuple_3 = (1)\n",
    "\n",
    "type(my_tuple_3)"
   ]
  },
  {
   "cell_type": "markdown",
   "metadata": {},
   "source": [
    "_Неожиданно, правда?_\n",
    "\n",
    "На самом деле все логично. Скобки в Python воспринимаются именно как скобки, мы можем их использовать в логических или математических операциях. Поэтому, чтобы создать кортеж из одного элемента нам нужно написать вот так"
   ]
  },
  {
   "cell_type": "code",
   "execution_count": 64,
   "metadata": {},
   "outputs": [
    {
     "data": {
      "text/plain": [
       "tuple"
      ]
     },
     "execution_count": 64,
     "metadata": {},
     "output_type": "execute_result"
    }
   ],
   "source": [
    "my_tuple_3 = (1,)\n",
    "\n",
    "type(my_tuple_3)"
   ]
  },
  {
   "cell_type": "markdown",
   "metadata": {},
   "source": [
    "С кортежами можно делать те же самые операции, что и со списками, за исключением добавления, удаления и измемения элементов."
   ]
  },
  {
   "cell_type": "code",
   "execution_count": 65,
   "metadata": {},
   "outputs": [
    {
     "name": "stdout",
     "output_type": "stream",
     "text": [
      "(1, 2, 3)\n",
      "1\n"
     ]
    }
   ],
   "source": [
    "print(my_tuple_1)\n",
    "\n",
    "print(my_tuple_1[0])"
   ]
  },
  {
   "cell_type": "code",
   "execution_count": 68,
   "metadata": {},
   "outputs": [
    {
     "data": {
      "text/plain": [
       "3"
      ]
     },
     "execution_count": 68,
     "metadata": {},
     "output_type": "execute_result"
    }
   ],
   "source": [
    "len(my_tuple_1)"
   ]
  },
  {
   "cell_type": "code",
   "execution_count": 69,
   "metadata": {},
   "outputs": [
    {
     "data": {
      "text/plain": [
       "0"
      ]
     },
     "execution_count": 69,
     "metadata": {},
     "output_type": "execute_result"
    }
   ],
   "source": [
    "my_tuple_1.index(1)"
   ]
  },
  {
   "cell_type": "markdown",
   "metadata": {},
   "source": [
    "_Зачем вообще нужны кортежи, если есть списки?_\n",
    "\n",
    "Ответ простой – для защиты. Вы дейстивительно можете сделать со списком все операции, доступные для кортежей. И скорее всего в большинстве случаев вы будете использовать именно списки (возможно, вы даже вообще не будете работать с кортежами), но тем не менее иногда в коде важно предусмотреть _незименяемый_ элемент. Для этого и нужны кортежи."
   ]
  },
  {
   "cell_type": "markdown",
   "metadata": {},
   "source": [
    "## Словари\n",
    "\n",
    "До этого мы с вами работали с упорядоченными наборами данных – списками и кортежами. Но существует и еще кое-что.\n",
    "\n",
    "Словарь – неупорядоченная структура данных, хранящая информацию по схеме ключ-значение, где все ключи уникальны. Чтобы проще было понять, что такое словарь, представьте себе список, у которого индексами являются не номера элементов, а что-то произвольное."
   ]
  },
  {
   "cell_type": "code",
   "execution_count": 71,
   "metadata": {},
   "outputs": [
    {
     "name": "stdout",
     "output_type": "stream",
     "text": [
      "{1: 'a', 2: 'b', 3: 'c'}\n"
     ]
    }
   ],
   "source": [
    "my_dict_1 = {1: \"a\", 2: \"b\", 3: \"c\"}\n",
    "print(my_dict_1)"
   ]
  },
  {
   "cell_type": "markdown",
   "metadata": {},
   "source": [
    "В данном случае ключами у нас являются **1, 2, 3**, а значениями соответственно **a, b, c**.\n",
    "\n",
    "Кстати, мы можем получить список ключей и список значений словаря с помощью специальных методов."
   ]
  },
  {
   "cell_type": "code",
   "execution_count": 75,
   "metadata": {},
   "outputs": [
    {
     "name": "stdout",
     "output_type": "stream",
     "text": [
      "Keys:  dict_keys([1, 2, 3])\n",
      "Values:  dict_values(['a', 'b', 'c'])\n"
     ]
    }
   ],
   "source": [
    "print('Keys: ', my_dict_1.keys())\n",
    "print('Values: ', my_dict_1.values())"
   ]
  },
  {
   "cell_type": "markdown",
   "metadata": {},
   "source": [
    "А можно сразу получить и ключи, и значения. К слову, внутри лежат те самые кортежи :)"
   ]
  },
  {
   "cell_type": "code",
   "execution_count": 78,
   "metadata": {},
   "outputs": [
    {
     "data": {
      "text/plain": [
       "dict_items([(1, 'a'), (2, 'b'), (3, 'c')])"
      ]
     },
     "execution_count": 78,
     "metadata": {},
     "output_type": "execute_result"
    }
   ],
   "source": [
    "my_dict_1.items()"
   ]
  },
  {
   "cell_type": "markdown",
   "metadata": {},
   "source": [
    "### Создание словаря\n",
    "\n",
    "Но не будем забегать вперед. Давайте разберемся, как создать словарь. Один способ (с помощью литерала – фигурных скобочек) мы уже увидели. Посмотрим, какие еще есть варианты.\n",
    "\n",
    "Можно это сделать с помощью функции dict()"
   ]
  },
  {
   "cell_type": "code",
   "execution_count": 84,
   "metadata": {},
   "outputs": [
    {
     "name": "stdout",
     "output_type": "stream",
     "text": [
      "{'a': 3, 'b': 'b'}\n",
      "{1: 'a', 2: 'b'}\n"
     ]
    }
   ],
   "source": [
    "my_dict_2 = dict(a=3, b='b')\n",
    "print(my_dict_2)\n",
    "\n",
    "my_dict_3 = dict([(1,'a'), (2,'b')])\n",
    "print(my_dict_3)"
   ]
  },
  {
   "cell_type": "markdown",
   "metadata": {},
   "source": [
    "Или через функцию fromkeys()"
   ]
  },
  {
   "cell_type": "code",
   "execution_count": 85,
   "metadata": {},
   "outputs": [
    {
     "name": "stdout",
     "output_type": "stream",
     "text": [
      "{'a': 100, 'b': 100, 3: 100}\n"
     ]
    }
   ],
   "source": [
    "my_dict_4 = dict.fromkeys(['a', 'b', 3], 100)\n",
    "print(my_dict_4)"
   ]
  },
  {
   "cell_type": "markdown",
   "metadata": {},
   "source": [
    "### Что можно делать со словарями\n",
    "\n",
    "В словари можно добавлять значения, можно менять их, а можно удалять. Обращаться к значению нужно не по индексу, а по ключу."
   ]
  },
  {
   "cell_type": "code",
   "execution_count": 90,
   "metadata": {},
   "outputs": [
    {
     "name": "stdout",
     "output_type": "stream",
     "text": [
      "{'a': 10, 'b': 'b'}\n",
      "10\n",
      "{'a': 10, 'b': 'b'}\n",
      "{'a': 10}\n"
     ]
    }
   ],
   "source": [
    "print(my_dict_2)\n",
    "print(my_dict_2['a'])\n",
    "\n",
    "my_dict_2['a'] = 10\n",
    "print(my_dict_2)\n",
    "\n",
    "my_dict_2.pop('b')\n",
    "print(my_dict_2)"
   ]
  },
  {
   "cell_type": "markdown",
   "metadata": {},
   "source": [
    "Если мы попробуем обратиться к несуществующему ключу, то получим ошибку. Примерно так же как и в случае с обращением к несуществующему индексу списка или кортежа."
   ]
  },
  {
   "cell_type": "code",
   "execution_count": 91,
   "metadata": {},
   "outputs": [
    {
     "ename": "KeyError",
     "evalue": "'t'",
     "output_type": "error",
     "traceback": [
      "\u001b[0;31m---------------------------------------------------------------------------\u001b[0m",
      "\u001b[0;31mKeyError\u001b[0m                                  Traceback (most recent call last)",
      "\u001b[0;32m<ipython-input-91-ebc72ebc796a>\u001b[0m in \u001b[0;36m<module>\u001b[0;34m\u001b[0m\n\u001b[0;32m----> 1\u001b[0;31m \u001b[0mmy_dict_2\u001b[0m\u001b[0;34m[\u001b[0m\u001b[0;34m't'\u001b[0m\u001b[0;34m]\u001b[0m\u001b[0;34m\u001b[0m\u001b[0;34m\u001b[0m\u001b[0m\n\u001b[0m",
      "\u001b[0;31mKeyError\u001b[0m: 't'"
     ]
    }
   ],
   "source": [
    "my_dict_2['t']"
   ]
  },
  {
   "cell_type": "markdown",
   "metadata": {},
   "source": [
    "_Помните, что словари в отличие от списков и кортежей неупорядочены! Поэтому никогда не рассчитывайте на то, что жлементы в нем будут расположены в том же порядке, что и при создании._\n",
    "\n",
    "Подробнее почитать про методы словарей можно тут – https://pythonworld.ru/tipy-dannyx-v-python/slovari-dict-funkcii-i-metody-slovarej.html"
   ]
  },
  {
   "cell_type": "markdown",
   "metadata": {},
   "source": [
    "## Множества\n",
    "\n",
    "Ох, еще одна структура данных! В Python множество очень похоже на множество математическое – \"контейнер\" с уникальными элементами, расположенными в неупорядоченном виде. Если простыми словами, то множество это список, в котором все элементы уникальны, а порядок не гарантируется.\n",
    "\n",
    "### Создание множества\n",
    "\n",
    "Создать множество можно только с помощью ключевого слова set()."
   ]
  },
  {
   "cell_type": "code",
   "execution_count": 114,
   "metadata": {},
   "outputs": [
    {
     "name": "stdout",
     "output_type": "stream",
     "text": [
      "{1, 2, 4}\n"
     ]
    },
    {
     "data": {
      "text/plain": [
       "set"
      ]
     },
     "execution_count": 114,
     "metadata": {},
     "output_type": "execute_result"
    }
   ],
   "source": [
    "my_set_1 = set([1, 2, 4])\n",
    "print(my_set_1)\n",
    "type(my_set_1)"
   ]
  },
  {
   "cell_type": "markdown",
   "metadata": {},
   "source": [
    "Будьте внимательны – несмотря на то, что множество тоже обозначается фигурными скобками, вот так создать _пустое_ множество не получится – вы создатите словарь :)"
   ]
  },
  {
   "cell_type": "code",
   "execution_count": 123,
   "metadata": {},
   "outputs": [
    {
     "name": "stdout",
     "output_type": "stream",
     "text": [
      "{1, 2, 3}\n"
     ]
    },
    {
     "data": {
      "text/plain": [
       "set"
      ]
     },
     "execution_count": 123,
     "metadata": {},
     "output_type": "execute_result"
    }
   ],
   "source": [
    "my_set_2 = {1, 2, 3, 3}\n",
    "print(my_set_2)\n",
    "type(my_set_2)"
   ]
  },
  {
   "cell_type": "code",
   "execution_count": 125,
   "metadata": {},
   "outputs": [
    {
     "data": {
      "text/plain": [
       "dict"
      ]
     },
     "execution_count": 125,
     "metadata": {},
     "output_type": "execute_result"
    }
   ],
   "source": [
    "empty_set = {}\n",
    "type(empty_set)"
   ]
  },
  {
   "cell_type": "markdown",
   "metadata": {},
   "source": [
    "С помощью множества удобно удалять пересекающиеся элементы"
   ]
  },
  {
   "cell_type": "code",
   "execution_count": 117,
   "metadata": {},
   "outputs": [
    {
     "data": {
      "text/plain": [
       "{'e', 'h', 'l', 'o'}"
      ]
     },
     "execution_count": 117,
     "metadata": {},
     "output_type": "execute_result"
    }
   ],
   "source": [
    "set('hello')"
   ]
  },
  {
   "cell_type": "code",
   "execution_count": 122,
   "metadata": {},
   "outputs": [
    {
     "data": {
      "text/plain": [
       "{1, 2, 3}"
      ]
     },
     "execution_count": 122,
     "metadata": {},
     "output_type": "execute_result"
    }
   ],
   "source": [
    "{1, 2, 3, 3, 3, 3}"
   ]
  },
  {
   "cell_type": "markdown",
   "metadata": {},
   "source": [
    "### Операции с множествами\n",
    "\n",
    "С множествами можно производить большое количество операций, например, можно узнать, принадлежит ли элемент множеству"
   ]
  },
  {
   "cell_type": "code",
   "execution_count": 127,
   "metadata": {},
   "outputs": [
    {
     "data": {
      "text/plain": [
       "True"
      ]
     },
     "execution_count": 127,
     "metadata": {},
     "output_type": "execute_result"
    }
   ],
   "source": [
    "1 in {1, 2, 3}"
   ]
  },
  {
   "cell_type": "code",
   "execution_count": 128,
   "metadata": {},
   "outputs": [
    {
     "data": {
      "text/plain": [
       "False"
      ]
     },
     "execution_count": 128,
     "metadata": {},
     "output_type": "execute_result"
    }
   ],
   "source": [
    "'a' in {'b', 'c'}"
   ]
  },
  {
   "cell_type": "markdown",
   "metadata": {},
   "source": [
    "Можно объединять множества"
   ]
  },
  {
   "cell_type": "code",
   "execution_count": 132,
   "metadata": {},
   "outputs": [
    {
     "data": {
      "text/plain": [
       "{1, 2, 3}"
      ]
     },
     "execution_count": 132,
     "metadata": {},
     "output_type": "execute_result"
    }
   ],
   "source": [
    "{1, 2}.union({2, 3})"
   ]
  },
  {
   "cell_type": "markdown",
   "metadata": {},
   "source": [
    "Можно находить пересечения множеств"
   ]
  },
  {
   "cell_type": "code",
   "execution_count": 133,
   "metadata": {},
   "outputs": [
    {
     "data": {
      "text/plain": [
       "{2}"
      ]
     },
     "execution_count": 133,
     "metadata": {},
     "output_type": "execute_result"
    }
   ],
   "source": [
    "{1, 2}.intersection({2, 3})"
   ]
  },
  {
   "cell_type": "markdown",
   "metadata": {},
   "source": [
    "С помощью метода **{set}.difference({other_set})** находить множество из всех элементов set, не принадлежащие other_set"
   ]
  },
  {
   "cell_type": "code",
   "execution_count": 135,
   "metadata": {},
   "outputs": [
    {
     "data": {
      "text/plain": [
       "{2}"
      ]
     },
     "execution_count": 135,
     "metadata": {},
     "output_type": "execute_result"
    }
   ],
   "source": [
    "{1, 2}.difference({1, 3})"
   ]
  },
  {
   "cell_type": "markdown",
   "metadata": {},
   "source": [
    "Можно также проверить через метод **set.isdisjoint(other)**, имеют ли множества общие элементы. _Возвращает истину, если множества НЕ имеют общих элементов._"
   ]
  },
  {
   "cell_type": "code",
   "execution_count": 137,
   "metadata": {},
   "outputs": [
    {
     "data": {
      "text/plain": [
       "False"
      ]
     },
     "execution_count": 137,
     "metadata": {},
     "output_type": "execute_result"
    }
   ],
   "source": [
    "{1, 2}.isdisjoint({2, 3})"
   ]
  },
  {
   "cell_type": "markdown",
   "metadata": {},
   "source": [
    "Также в множество можно добавлять элементы"
   ]
  },
  {
   "cell_type": "code",
   "execution_count": 144,
   "metadata": {},
   "outputs": [
    {
     "data": {
      "text/plain": [
       "{1, 2, 3}"
      ]
     },
     "execution_count": 144,
     "metadata": {},
     "output_type": "execute_result"
    }
   ],
   "source": [
    "my_set_1 = {1, 2}\n",
    "my_set_1.add(3)\n",
    "\n",
    "my_set_1"
   ]
  },
  {
   "cell_type": "markdown",
   "metadata": {},
   "source": [
    "Можно удалять первый элемент. Но! \n",
    "\n",
    "_Поскольку множества неупорядочены, то нельзя точно сказать, какой именно элемент будет удален!_"
   ]
  },
  {
   "cell_type": "code",
   "execution_count": 145,
   "metadata": {},
   "outputs": [
    {
     "data": {
      "text/plain": [
       "{2, 3}"
      ]
     },
     "execution_count": 145,
     "metadata": {},
     "output_type": "execute_result"
    }
   ],
   "source": [
    "my_set_1.pop()\n",
    "my_set_1"
   ]
  },
  {
   "cell_type": "markdown",
   "metadata": {},
   "source": [
    "Поэтому есть специальный метод для удаления элемента по значению. Если элемент содержится в множестве, он будет удален."
   ]
  },
  {
   "cell_type": "code",
   "execution_count": 147,
   "metadata": {},
   "outputs": [
    {
     "data": {
      "text/plain": [
       "{2}"
      ]
     },
     "execution_count": 147,
     "metadata": {},
     "output_type": "execute_result"
    }
   ],
   "source": [
    "my_set_1.discard(3)\n",
    "my_set_1"
   ]
  },
  {
   "cell_type": "code",
   "execution_count": 148,
   "metadata": {},
   "outputs": [
    {
     "data": {
      "text/plain": [
       "{2}"
      ]
     },
     "execution_count": 148,
     "metadata": {},
     "output_type": "execute_result"
    }
   ],
   "source": [
    "my_set_1.discard(10)\n",
    "my_set_1"
   ]
  },
  {
   "cell_type": "markdown",
   "metadata": {},
   "source": [
    "### Frozenset\n",
    "\n",
    "Есть еще frozenset – замороженное множество. В целом это то же самое, что и обычное множество, только неизменяемое. Ситуация похожа на списки и кортежи.\n",
    "\n",
    "Например, во frozenset нельзя добавить или удалить элемент."
   ]
  },
  {
   "cell_type": "code",
   "execution_count": 150,
   "metadata": {},
   "outputs": [
    {
     "data": {
      "text/plain": [
       "frozenset"
      ]
     },
     "execution_count": 150,
     "metadata": {},
     "output_type": "execute_result"
    }
   ],
   "source": [
    "my_frozen_set = frozenset([1, 2, 3])\n",
    "type(my_frozen_set)"
   ]
  },
  {
   "cell_type": "code",
   "execution_count": 151,
   "metadata": {},
   "outputs": [
    {
     "data": {
      "text/plain": [
       "frozenset({1, 2, 3})"
      ]
     },
     "execution_count": 151,
     "metadata": {},
     "output_type": "execute_result"
    }
   ],
   "source": [
    "my_frozen_set"
   ]
  },
  {
   "cell_type": "markdown",
   "metadata": {},
   "source": [
    "Подробнее про set и frozenset можно почитать тут – https://pythonworld.ru/tipy-dannyx-v-python/mnozhestva-set-i-frozenset.html"
   ]
  }
 ],
 "metadata": {
  "kernelspec": {
   "display_name": "Python 3",
   "language": "python",
   "name": "python3"
  },
  "language_info": {
   "codemirror_mode": {
    "name": "ipython",
    "version": 3
   },
   "file_extension": ".py",
   "mimetype": "text/x-python",
   "name": "python",
   "nbconvert_exporter": "python",
   "pygments_lexer": "ipython3",
   "version": "3.8.2"
  }
 },
 "nbformat": 4,
 "nbformat_minor": 4
}
