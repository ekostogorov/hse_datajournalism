{
 "cells": [
  {
   "cell_type": "markdown",
   "metadata": {},
   "source": [
    "# Лекция 12. Объектно-ориентированное программирование\n",
    "\n",
    "Друзья, еще одна важная вещь, которую мы пока частично обходили стороной (на самом деле сталкивались и активно использовали, но не знали этого) – это объектно-ориентированный подход к программированию. Сегодня мы разберемся с тем, что же это такое. Это именно та лекция, после которой для вас перестанет быть магией, почему иногда мы говорим \"функция\", а иногда \"метод\". Поехали!\n",
    "\n",
    "## Классы и объекты\n",
    "\n",
    "**Объектно-ориентированное программирование (ООП)** – подход к созданию программы, при котором любой ее компонент представляется в виде объекта, который является экземпляром определенного класса.\n",
    "\n",
    "_Что же такое эти классы?_\n",
    "\n",
    "Класс является шаблоном и формальным описанием некой сущности, а объект – непосредственно экземпляром этого класса. Например, существует класс `Человек` – шаблон для описания сущности человек. А есть конкретные экземпляры класса `Человек` – это я, вы, ваши друзья – каждый из них – уникальный экземпляр класса `Человек`.\n",
    "\n",
    "Существуют определенные свойства, которые есть у каждого человека. Например, имя, возраст, рост, вес, цвет глаз и волос. Эти свойства называются атрибутами класса.\n",
    "\n",
    "В Python мы можем создать класс и описать его свойства. Это будет наш шаблон человека."
   ]
  },
  {
   "cell_type": "code",
   "execution_count": 9,
   "metadata": {},
   "outputs": [],
   "source": [
    "class Human:\n",
    "    name = None # атрибут name\n",
    "    age = None # атрибут age"
   ]
  },
  {
   "cell_type": "markdown",
   "metadata": {},
   "source": [
    "То, что мы описали выше, и есть класс. Это шаблон, с помощью которого мы будем создавать объекты.\n",
    "\n",
    "Например, вот тут `jack` – конкретный экземпляр класса `Human`:"
   ]
  },
  {
   "cell_type": "code",
   "execution_count": 4,
   "metadata": {},
   "outputs": [],
   "source": [
    "jack = Human()"
   ]
  },
  {
   "cell_type": "code",
   "execution_count": 8,
   "metadata": {},
   "outputs": [
    {
     "data": {
      "text/plain": [
       "__main__.Human"
      ]
     },
     "execution_count": 8,
     "metadata": {},
     "output_type": "execute_result"
    }
   ],
   "source": [
    "type(jack)"
   ]
  },
  {
   "cell_type": "markdown",
   "metadata": {},
   "source": [
    "Сейчас у `jack` оба атрибута равняются `None`, однако мы можем задать им любое значение:"
   ]
  },
  {
   "cell_type": "code",
   "execution_count": 10,
   "metadata": {},
   "outputs": [],
   "source": [
    "jack.name = 'Jack'\n",
    "jack.age = 26"
   ]
  },
  {
   "cell_type": "code",
   "execution_count": 11,
   "metadata": {},
   "outputs": [
    {
     "name": "stdout",
     "output_type": "stream",
     "text": [
      "26\n"
     ]
    }
   ],
   "source": [
    "print(jack.age)"
   ]
  },
  {
   "cell_type": "markdown",
   "metadata": {},
   "source": [
    "А еще каждый экземпляр класса `Человек` умеет выполнять определенные действия. Например, каждый экземпляр класса человек, умеет произносить приветствие. Это действие называется _методом_. Простыми словами, метод – это функция, которая привязана к определенному классу.\n",
    "\n",
    "_Метод описывается почти так же, как и уже привычные нам функции. Разница лишь в том, что необходимо соблюдать отступ – мы пишем код внутри тела класса. А еще первым аргументом метода всегда является `self` – это как раз привязка метода к классу. Через `self` мы можем получать доступ к атрибутам или другим методам класса._"
   ]
  },
  {
   "cell_type": "code",
   "execution_count": 15,
   "metadata": {},
   "outputs": [],
   "source": [
    "class Human:\n",
    "    name = None\n",
    "    age = None\n",
    "    \n",
    "    def say_hello(self):\n",
    "        print('Hello! My name is {0}.'.format(self.name))"
   ]
  },
  {
   "cell_type": "code",
   "execution_count": 17,
   "metadata": {},
   "outputs": [
    {
     "name": "stdout",
     "output_type": "stream",
     "text": [
      "Hello! My name is Jack.\n"
     ]
    }
   ],
   "source": [
    "jack = Human() # создаем экземпляр класса\n",
    "jack.name = 'Jack' # присваиваем атрибуту name значение Jack\n",
    "\n",
    "jack.say_hello() # вызываем метод say_hello()"
   ]
  },
  {
   "cell_type": "markdown",
   "metadata": {},
   "source": [
    "Методы, конечно же, могут принимать не только `self`, но и обычным аргументы. В остальном их поведение не отличается от функций. Давайте усложним наш класс:"
   ]
  },
  {
   "cell_type": "code",
   "execution_count": 21,
   "metadata": {},
   "outputs": [],
   "source": [
    "class Human:\n",
    "    name = None\n",
    "    age = None\n",
    "    \n",
    "    def say_hello(self):\n",
    "        print('Hello! My name is {0}.'.format(self.name))\n",
    "        \n",
    "    def say_hello_n_times(self, n):\n",
    "        for i in range(n): # вызываем метод say_hello() столько раз, сколько мы получили в аргументе n\n",
    "            self.say_hello()"
   ]
  },
  {
   "cell_type": "code",
   "execution_count": 22,
   "metadata": {},
   "outputs": [
    {
     "name": "stdout",
     "output_type": "stream",
     "text": [
      "Hello! My name is Jack.\n",
      "Hello! My name is Jack.\n",
      "Hello! My name is Jack.\n"
     ]
    }
   ],
   "source": [
    "jack = Human() # создаем экземпляр класса\n",
    "jack.name = 'Jack' # присваиваем атрибуту name значение Jack\n",
    "\n",
    "jack.say_hello_n_times(3) # вызываем метод say_hello_n_times()"
   ]
  },
  {
   "cell_type": "markdown",
   "metadata": {},
   "source": [
    "Мы можем создать другой экземпляр класса, и он будет обладать всеми атрибутами и методами, которые мы описали в классе (шаблоне):"
   ]
  },
  {
   "cell_type": "code",
   "execution_count": 23,
   "metadata": {},
   "outputs": [
    {
     "name": "stdout",
     "output_type": "stream",
     "text": [
      "Hello! My name is Emilia.\n",
      "Hello! My name is Emilia.\n",
      "Hello! My name is Emilia.\n",
      "Hello! My name is Emilia.\n",
      "Hello! My name is Emilia.\n"
     ]
    }
   ],
   "source": [
    "emilia = Human()\n",
    "emilia.name = 'Emilia'\n",
    "\n",
    "emilia.say_hello_n_times(5)"
   ]
  },
  {
   "cell_type": "markdown",
   "metadata": {},
   "source": [
    "## Конструкторы\n",
    "\n",
    "А можно ли как-то сразу при создании объекта установить ему нужные атрибуты? Можно!\n",
    "\n",
    "Это делается с помощью специального метода, который называется _конструктор_ и выглядит как `__init__(self, ...)`. Конструктор нужен для создания нового экземпляра класса, он может принимать в себя аргументы и сразу же присваивать их атрибутам."
   ]
  },
  {
   "cell_type": "code",
   "execution_count": 24,
   "metadata": {},
   "outputs": [],
   "source": [
    "class Human:\n",
    "    # это конструктор\n",
    "    def __init__(self, name, age):\n",
    "        self.name = name # присваиваем значение аргумента name атрибуту name\n",
    "        self.age = age\n",
    "    \n",
    "    def say_hello(self):\n",
    "        print('Hello! My name is {0}.'.format(self.name))\n",
    "        \n",
    "    def say_hello_n_times(self, n):\n",
    "        for i in range(n): # вызываем метод say_hello() столько раз, сколько мы получили в аргументе n\n",
    "            self.say_hello()"
   ]
  },
  {
   "cell_type": "code",
   "execution_count": 26,
   "metadata": {},
   "outputs": [
    {
     "name": "stdout",
     "output_type": "stream",
     "text": [
      "Hello! My name is Jack.\n"
     ]
    }
   ],
   "source": [
    "jack = Human('Jack', 26) # передаем аргументы в конструктор при создании объекта\n",
    "jack.say_hello()"
   ]
  },
  {
   "cell_type": "code",
   "execution_count": 27,
   "metadata": {},
   "outputs": [
    {
     "name": "stdout",
     "output_type": "stream",
     "text": [
      "Hello! My name is Ann.\n"
     ]
    }
   ],
   "source": [
    "ann = Human('Ann', 20)\n",
    "ann.say_hello()"
   ]
  },
  {
   "cell_type": "markdown",
   "metadata": {},
   "source": [
    "Обратите внимание, что в коде выше мы не стали определять атрибуты в класса, а сразу же присвоили им значения внутри конструктора. Так делать необязательно – атрибуты можно определить и заранее, и присвоить им значения непосредственно в конструкторе.\n",
    "\n",
    "На самом деле атрибутами класса могут быть не только примитивы, но и более сложные структуры данных – списки, словари, кортежи. Атрибутом класса может быть даже объект другого класса."
   ]
  },
  {
   "cell_type": "code",
   "execution_count": 29,
   "metadata": {},
   "outputs": [],
   "source": [
    "class Human:\n",
    "    name = None\n",
    "    age = None\n",
    "    # добавим список с детьми человека, в нем будут лежать объекты типа Human\n",
    "    children = []\n",
    "    \n",
    "    def __init__(self, name, age):\n",
    "        self.name = name\n",
    "        self.age = age\n",
    "    \n",
    "    def say_hello(self):\n",
    "        print('Hello! My name is {0}.'.format(self.name))\n",
    "        \n",
    "    # метод для добавления ребенка :)\n",
    "    def add_child(self, child_name):\n",
    "        child = Human(child_name, 0)\n",
    "        self.children.append(child)\n",
    "        \n",
    "    # метод, который вернет нам True, если у человека есть ребенок   \n",
    "    def has_children(self):\n",
    "        return len(self.children) > 0"
   ]
  },
  {
   "cell_type": "code",
   "execution_count": 30,
   "metadata": {},
   "outputs": [
    {
     "name": "stdout",
     "output_type": "stream",
     "text": [
      "Hello! My name is John.\n"
     ]
    },
    {
     "data": {
      "text/plain": [
       "True"
      ]
     },
     "execution_count": 30,
     "metadata": {},
     "output_type": "execute_result"
    }
   ],
   "source": [
    "john = Human('John', 30)\n",
    "\n",
    "john.say_hello()\n",
    "john.add_child('Mark')\n",
    "john.has_children()"
   ]
  },
  {
   "cell_type": "code",
   "execution_count": 32,
   "metadata": {},
   "outputs": [
    {
     "data": {
      "text/plain": [
       "'Mark'"
      ]
     },
     "execution_count": 32,
     "metadata": {},
     "output_type": "execute_result"
    }
   ],
   "source": [
    "john.children[0].name"
   ]
  },
  {
   "cell_type": "markdown",
   "metadata": {},
   "source": [
    "## Метод \\__repr__\n",
    "\n",
    "Вы наверно заметили, что если мы распечатаем объект созданного нами класса, то получим не так много полезной информации:"
   ]
  },
  {
   "cell_type": "code",
   "execution_count": 34,
   "metadata": {},
   "outputs": [
    {
     "name": "stdout",
     "output_type": "stream",
     "text": [
      "<__main__.Human object at 0x7fd8b8a23160>\n"
     ]
    }
   ],
   "source": [
    "print(john)"
   ]
  },
  {
   "cell_type": "markdown",
   "metadata": {},
   "source": [
    "Это поведение можно изменить с помощью метода `__repr__` – сокращение от representation. Этот метод говорит, _как_ нужно представить объект, если его передали в функцию `print()`. Как правило, в репрезентацию объекта включают информацию, которая может быть полезна при отладке кода."
   ]
  },
  {
   "cell_type": "code",
   "execution_count": 35,
   "metadata": {},
   "outputs": [],
   "source": [
    "class Human:\n",
    "    name = None\n",
    "    age = None\n",
    "    children = []\n",
    "    \n",
    "    def __init__(self, name, age):\n",
    "        self.name = name\n",
    "        self.age = age\n",
    "    \n",
    "    def say_hello(self):\n",
    "        print('Hello! My name is {0}.'.format(self.name))\n",
    "        \n",
    "    def add_child(self, child_name):\n",
    "        child = Human(child_name, 0)\n",
    "        self.children.append(child)\n",
    "        \n",
    "    def has_children(self):\n",
    "        return len(self.children) > 0\n",
    "    \n",
    "    # создаем метод __repr__, который возвращает строку, которую мы увидим при вызове функции print()\n",
    "    def __repr__(self):\n",
    "        return 'Human (name: {0} age: {1} children {2})'.format(self.name, self.age, self.children)"
   ]
  },
  {
   "cell_type": "code",
   "execution_count": 36,
   "metadata": {},
   "outputs": [
    {
     "name": "stdout",
     "output_type": "stream",
     "text": [
      "Human (name: John age: 30 children [])\n"
     ]
    }
   ],
   "source": [
    "john = Human('John', 30)\n",
    "print(john)"
   ]
  },
  {
   "cell_type": "markdown",
   "metadata": {},
   "source": [
    "## Наследование\n",
    "\n",
    "Одна из важнейших \"фич\" парадигмы ООП – наследование. Наследование это возможность создать такой класс, который включал бы в себя все атрибуты и методы какого-то родительского класса. Представьте, например, что мы хотим создать класс `Student`, который должен обладать всеми свойствами класса `Human`, но при этом иметь и ряд собственных уникальных атрибутов и методов.\n",
    "\n",
    "Мы могли бы просто скопировать все содержимое класса `Human` и дополнить его нужными нам данными. Но представьте, что в классе `Human` не 2 атрибута и 4 метода, а сотни. Это неудобно. Хорошо, что мы можем просто наследовать все содержимое класса `Human`.\n",
    "\n",
    "Чтобы это сделать, при описании класса нам нужно указать название класса, от которого мы хотим наследоваться в скобках."
   ]
  },
  {
   "cell_type": "code",
   "execution_count": 45,
   "metadata": {},
   "outputs": [],
   "source": [
    "class Student(Human):\n",
    "    grades = []\n",
    "\n",
    "    def add_grade(self, grade):\n",
    "        self.grades.append(grade)"
   ]
  },
  {
   "cell_type": "code",
   "execution_count": 46,
   "metadata": {},
   "outputs": [],
   "source": [
    "mary = Student('Mary', 20)"
   ]
  },
  {
   "cell_type": "code",
   "execution_count": 47,
   "metadata": {},
   "outputs": [
    {
     "name": "stdout",
     "output_type": "stream",
     "text": [
      "Hello! My name is Mary.\n"
     ]
    }
   ],
   "source": [
    "# мы не задавали метод say_hello в классе Student, но он тут есть – отнаследовался от Human\n",
    "\n",
    "mary.say_hello()"
   ]
  },
  {
   "cell_type": "markdown",
   "metadata": {},
   "source": [
    "Наследоваться на самом деле не обязательно от одного класса – можно и от нескольких:"
   ]
  },
  {
   "cell_type": "code",
   "execution_count": 57,
   "metadata": {},
   "outputs": [
    {
     "name": "stdout",
     "output_type": "stream",
     "text": [
      "Qua\n"
     ]
    },
    {
     "data": {
      "text/plain": [
       "True"
      ]
     },
     "execution_count": 57,
     "metadata": {},
     "output_type": "execute_result"
    }
   ],
   "source": [
    "# создаем класс животных\n",
    "class Animal:\n",
    "    color = None\n",
    "    sound = 'default animal sound'\n",
    "    \n",
    "    def __init__(self, color):\n",
    "        self.color = color\n",
    "    \n",
    "    def make_sound(self):\n",
    "        print(self.sound)\n",
    "        \n",
    "# создаем класс амфибий\n",
    "class Amphibian:\n",
    "    live_in_water = False\n",
    "    \n",
    "    def __init__(self, live_in_water=False):\n",
    "        self.live_in_water = live_in_water\n",
    "        \n",
    "    def is_living_in_water(self):\n",
    "        return self.live_in_water\n",
    "    \n",
    "# создаем класс лягушки, который наследует Animal и Amphibian\n",
    "class Frog(Animal, Amphibian):\n",
    "    sound = 'Qua'\n",
    "    \n",
    "    def __init__(self, color, live_in_water=True):\n",
    "        self.color = color\n",
    "        self.live_in_water = live_in_water\n",
    "\n",
    "    \n",
    "frog = Frog(color='green')\n",
    "frog.make_sound()\n",
    "frog.is_living_in_water()"
   ]
  },
  {
   "cell_type": "markdown",
   "metadata": {},
   "source": [
    "## Классы в реальной жизни\n",
    "\n",
    "Лягушки и прочие амфибии это хорошо. Но в реальной-то жизни зачем нам классы?\n",
    "\n",
    "Классы удобно использовать, когда вы пишите большие программы, которые должны быть структурированы и разбиты на какие-то модули. Тогда вы можете написать, например, класс, который умеет взаимодействовать с каким-нибудь API. Таким образом, детали реализации этого класса будут скрыты от потребителя – как именно класс обращается к API, мы не знаем, но зато знаем, что если вызовем конкретный метод этого класса, он должен вернуть нам данные.\n",
    "\n",
    "_Ну правда – вы же не знаете, как внутри устроен `pandas Dataframe`, однако успешно используете его методы._\n",
    "\n",
    "Примером более жизненного класса может быть например, вот такой клиент к API mosdata:"
   ]
  },
  {
   "cell_type": "code",
   "execution_count": 63,
   "metadata": {},
   "outputs": [],
   "source": [
    "import requests\n",
    "\n",
    "class ApiMosRu:\n",
    "    main_api_url = 'https://apidata.mos.ru/v1/'\n",
    "    api_key = ''\n",
    "    \n",
    "    def __init__(self, api_key):\n",
    "        self.api_key = api_key\n",
    "        \n",
    "    '''\n",
    "    get_cameras_dataset_rows_count\n",
    "    возвращает список элементов в датасете \"Камеры дворового наблюдения\"\n",
    "    '''    \n",
    "    def get_cameras_dataset_rows_count(self):\n",
    "        api_path = 'datasets/1498/count'\n",
    "\n",
    "        r = requests.get(self.main_api_url+api_path, params={'api_key': self.api_key})\n",
    "        if not r.ok:\n",
    "            raise Exception('failed to get data: {0}'.format(r.status_code))\n",
    "            \n",
    "        return int(r.text)"
   ]
  },
  {
   "cell_type": "code",
   "execution_count": 70,
   "metadata": {},
   "outputs": [],
   "source": [
    "api_key = '<YOUR API KEY>'"
   ]
  },
  {
   "cell_type": "code",
   "execution_count": 68,
   "metadata": {},
   "outputs": [],
   "source": [
    "api = ApiMosRu(api_key)\n",
    "\n",
    "count = api.get_cameras_dataset_rows_count()"
   ]
  },
  {
   "cell_type": "code",
   "execution_count": 69,
   "metadata": {},
   "outputs": [
    {
     "name": "stdout",
     "output_type": "stream",
     "text": [
      "20477\n"
     ]
    }
   ],
   "source": [
    "print(count)"
   ]
  }
 ],
 "metadata": {
  "kernelspec": {
   "display_name": "Python 3",
   "language": "python",
   "name": "python3"
  },
  "language_info": {
   "codemirror_mode": {
    "name": "ipython",
    "version": 3
   },
   "file_extension": ".py",
   "mimetype": "text/x-python",
   "name": "python",
   "nbconvert_exporter": "python",
   "pygments_lexer": "ipython3",
   "version": "3.8.2"
  }
 },
 "nbformat": 4,
 "nbformat_minor": 4
}
